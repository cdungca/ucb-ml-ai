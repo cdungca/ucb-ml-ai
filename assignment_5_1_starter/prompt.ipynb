{
 "cells": [
  {
   "cell_type": "markdown",
   "metadata": {},
   "source": [
    "### Will a Customer Accept the Coupon?\n",
    "\n",
    "**Context**\n",
    "\n",
    "Imagine driving through town and a coupon is delivered to your cell phone for a restaraunt near where you are driving. Would you accept that coupon and take a short detour to the restaraunt? Would you accept the coupon but use it on a subsequent trip? Would you ignore the coupon entirely? What if the coupon was for a bar instead of a restaraunt? What about a coffee house? Would you accept a bar coupon with a minor passenger in the car? What about if it was just you and your partner in the car? Would weather impact the rate of acceptance? What about the time of day?\n",
    "\n",
    "Obviously, proximity to the business is a factor on whether the coupon is delivered to the driver or not, but what are the factors that determine whether a driver accepts the coupon once it is delivered to them? How would you determine whether a driver is likely to accept a coupon?\n",
    "\n",
    "**Overview**\n",
    "\n",
    "The goal of this project is to use what you know about visualizations and probability distributions to distinguish between customers who accepted a driving coupon versus those that did not.\n",
    "\n",
    "**Data**\n",
    "\n",
    "This data comes to us from the UCI Machine Learning repository and was collected via a survey on Amazon Mechanical Turk. The survey describes different driving scenarios including the destination, current time, weather, passenger, etc., and then ask the person whether he will accept the coupon if he is the driver. Answers that the user will drive there ‘right away’ or ‘later before the coupon expires’ are labeled as ‘Y = 1’ and answers ‘no, I do not want the coupon’ are labeled as ‘Y = 0’.  There are five different types of coupons -- less expensive restaurants (under \\\\$20), coffee houses, carry out & take away, bar, and more expensive restaurants (\\\\$20 - \\\\$50). "
   ]
  },
  {
   "cell_type": "markdown",
   "metadata": {},
   "source": [
    "**Deliverables**\n",
    "\n",
    "Your final product should be a brief report that highlights the differences between customers who did and did not accept the coupons.  To explore the data you will utilize your knowledge of plotting, statistical summaries, and visualization using Python. You will publish your findings in a public facing github repository as your first portfolio piece. \n",
    "\n",
    "\n",
    "\n"
   ]
  },
  {
   "cell_type": "markdown",
   "metadata": {},
   "source": [
    "### Data Description\n",
    "Keep in mind that these values mentioned below are average values.\n",
    "\n",
    "The attributes of this data set include:\n",
    "1. User attributes\n",
    "    -  Gender: male, female\n",
    "    -  Age: below 21, 21 to 25, 26 to 30, etc.\n",
    "    -  Marital Status: single, married partner, unmarried partner, or widowed\n",
    "    -  Number of children: 0, 1, or more than 1\n",
    "    -  Education: high school, bachelors degree, associates degree, or graduate degree\n",
    "    -  Occupation: architecture & engineering, business & financial, etc.\n",
    "    -  Annual income: less than \\\\$12500, \\\\$12500 - \\\\$24999, \\\\$25000 - \\\\$37499, etc.\n",
    "    -  Number of times that he/she goes to a bar: 0, less than 1, 1 to 3, 4 to 8 or greater than 8\n",
    "    -  Number of times that he/she buys takeaway food: 0, less than 1, 1 to 3, 4 to 8 or greater\n",
    "    than 8\n",
    "    -  Number of times that he/she goes to a coffee house: 0, less than 1, 1 to 3, 4 to 8 or\n",
    "    greater than 8\n",
    "    -  Number of times that he/she eats at a restaurant with average expense less than \\\\$20 per\n",
    "    person: 0, less than 1, 1 to 3, 4 to 8 or greater than 8\n",
    "    -  Number of times that he/she goes to a bar: 0, less than 1, 1 to 3, 4 to 8 or greater than 8\n",
    "    \n",
    "\n",
    "2. Contextual attributes\n",
    "    - Driving destination: home, work, or no urgent destination\n",
    "    - Location of user, coupon and destination: we provide a map to show the geographical\n",
    "    location of the user, destination, and the venue, and we mark the distance between each\n",
    "    two places with time of driving. The user can see whether the venue is in the same\n",
    "    direction as the destination.\n",
    "    - Weather: sunny, rainy, or snowy\n",
    "    - Temperature: 30F, 55F, or 80F\n",
    "    - Time: 10AM, 2PM, or 6PM\n",
    "    - Passenger: alone, partner, kid(s), or friend(s)\n",
    "\n",
    "\n",
    "3. Coupon attributes\n",
    "    - time before it expires: 2 hours or one day"
   ]
  },
  {
   "cell_type": "code",
   "execution_count": 475,
   "metadata": {
    "vscode": {
     "languageId": "powershell"
    }
   },
   "outputs": [],
   "source": [
    "import matplotlib.pyplot as plt\n",
    "import seaborn as sns\n",
    "import pandas as pd\n",
    "import numpy as np\n",
    "import plotly.express as px"
   ]
  },
  {
   "cell_type": "markdown",
   "metadata": {},
   "source": [
    "### Problems\n",
    "\n",
    "Use the prompts below to get started with your data analysis.  \n",
    "\n",
    "1. Read in the `coupons.csv` file.\n",
    "\n",
    "\n"
   ]
  },
  {
   "cell_type": "code",
   "execution_count": 476,
   "metadata": {
    "vscode": {
     "languageId": "powershell"
    }
   },
   "outputs": [],
   "source": [
    "data = pd.read_csv('data/coupons.csv')"
   ]
  },
  {
   "cell_type": "code",
   "execution_count": 477,
   "metadata": {
    "vscode": {
     "languageId": "powershell"
    }
   },
   "outputs": [
    {
     "data": {
      "text/html": [
       "<div>\n",
       "<style scoped>\n",
       "    .dataframe tbody tr th:only-of-type {\n",
       "        vertical-align: middle;\n",
       "    }\n",
       "\n",
       "    .dataframe tbody tr th {\n",
       "        vertical-align: top;\n",
       "    }\n",
       "\n",
       "    .dataframe thead th {\n",
       "        text-align: right;\n",
       "    }\n",
       "</style>\n",
       "<table border=\"1\" class=\"dataframe\">\n",
       "  <thead>\n",
       "    <tr style=\"text-align: right;\">\n",
       "      <th></th>\n",
       "      <th>destination</th>\n",
       "      <th>passanger</th>\n",
       "      <th>weather</th>\n",
       "      <th>temperature</th>\n",
       "      <th>time</th>\n",
       "      <th>coupon</th>\n",
       "      <th>expiration</th>\n",
       "      <th>gender</th>\n",
       "      <th>age</th>\n",
       "      <th>maritalStatus</th>\n",
       "      <th>...</th>\n",
       "      <th>CoffeeHouse</th>\n",
       "      <th>CarryAway</th>\n",
       "      <th>RestaurantLessThan20</th>\n",
       "      <th>Restaurant20To50</th>\n",
       "      <th>toCoupon_GEQ5min</th>\n",
       "      <th>toCoupon_GEQ15min</th>\n",
       "      <th>toCoupon_GEQ25min</th>\n",
       "      <th>direction_same</th>\n",
       "      <th>direction_opp</th>\n",
       "      <th>Y</th>\n",
       "    </tr>\n",
       "  </thead>\n",
       "  <tbody>\n",
       "    <tr>\n",
       "      <th>0</th>\n",
       "      <td>No Urgent Place</td>\n",
       "      <td>Alone</td>\n",
       "      <td>Sunny</td>\n",
       "      <td>55</td>\n",
       "      <td>2PM</td>\n",
       "      <td>Restaurant(&lt;20)</td>\n",
       "      <td>1d</td>\n",
       "      <td>Female</td>\n",
       "      <td>21</td>\n",
       "      <td>Unmarried partner</td>\n",
       "      <td>...</td>\n",
       "      <td>never</td>\n",
       "      <td>NaN</td>\n",
       "      <td>4~8</td>\n",
       "      <td>1~3</td>\n",
       "      <td>1</td>\n",
       "      <td>0</td>\n",
       "      <td>0</td>\n",
       "      <td>0</td>\n",
       "      <td>1</td>\n",
       "      <td>1</td>\n",
       "    </tr>\n",
       "    <tr>\n",
       "      <th>1</th>\n",
       "      <td>No Urgent Place</td>\n",
       "      <td>Friend(s)</td>\n",
       "      <td>Sunny</td>\n",
       "      <td>80</td>\n",
       "      <td>10AM</td>\n",
       "      <td>Coffee House</td>\n",
       "      <td>2h</td>\n",
       "      <td>Female</td>\n",
       "      <td>21</td>\n",
       "      <td>Unmarried partner</td>\n",
       "      <td>...</td>\n",
       "      <td>never</td>\n",
       "      <td>NaN</td>\n",
       "      <td>4~8</td>\n",
       "      <td>1~3</td>\n",
       "      <td>1</td>\n",
       "      <td>0</td>\n",
       "      <td>0</td>\n",
       "      <td>0</td>\n",
       "      <td>1</td>\n",
       "      <td>0</td>\n",
       "    </tr>\n",
       "    <tr>\n",
       "      <th>2</th>\n",
       "      <td>No Urgent Place</td>\n",
       "      <td>Friend(s)</td>\n",
       "      <td>Sunny</td>\n",
       "      <td>80</td>\n",
       "      <td>10AM</td>\n",
       "      <td>Carry out &amp; Take away</td>\n",
       "      <td>2h</td>\n",
       "      <td>Female</td>\n",
       "      <td>21</td>\n",
       "      <td>Unmarried partner</td>\n",
       "      <td>...</td>\n",
       "      <td>never</td>\n",
       "      <td>NaN</td>\n",
       "      <td>4~8</td>\n",
       "      <td>1~3</td>\n",
       "      <td>1</td>\n",
       "      <td>1</td>\n",
       "      <td>0</td>\n",
       "      <td>0</td>\n",
       "      <td>1</td>\n",
       "      <td>1</td>\n",
       "    </tr>\n",
       "    <tr>\n",
       "      <th>3</th>\n",
       "      <td>No Urgent Place</td>\n",
       "      <td>Friend(s)</td>\n",
       "      <td>Sunny</td>\n",
       "      <td>80</td>\n",
       "      <td>2PM</td>\n",
       "      <td>Coffee House</td>\n",
       "      <td>2h</td>\n",
       "      <td>Female</td>\n",
       "      <td>21</td>\n",
       "      <td>Unmarried partner</td>\n",
       "      <td>...</td>\n",
       "      <td>never</td>\n",
       "      <td>NaN</td>\n",
       "      <td>4~8</td>\n",
       "      <td>1~3</td>\n",
       "      <td>1</td>\n",
       "      <td>1</td>\n",
       "      <td>0</td>\n",
       "      <td>0</td>\n",
       "      <td>1</td>\n",
       "      <td>0</td>\n",
       "    </tr>\n",
       "    <tr>\n",
       "      <th>4</th>\n",
       "      <td>No Urgent Place</td>\n",
       "      <td>Friend(s)</td>\n",
       "      <td>Sunny</td>\n",
       "      <td>80</td>\n",
       "      <td>2PM</td>\n",
       "      <td>Coffee House</td>\n",
       "      <td>1d</td>\n",
       "      <td>Female</td>\n",
       "      <td>21</td>\n",
       "      <td>Unmarried partner</td>\n",
       "      <td>...</td>\n",
       "      <td>never</td>\n",
       "      <td>NaN</td>\n",
       "      <td>4~8</td>\n",
       "      <td>1~3</td>\n",
       "      <td>1</td>\n",
       "      <td>1</td>\n",
       "      <td>0</td>\n",
       "      <td>0</td>\n",
       "      <td>1</td>\n",
       "      <td>0</td>\n",
       "    </tr>\n",
       "  </tbody>\n",
       "</table>\n",
       "<p>5 rows × 26 columns</p>\n",
       "</div>"
      ],
      "text/plain": [
       "       destination  passanger weather  temperature  time  \\\n",
       "0  No Urgent Place      Alone   Sunny           55   2PM   \n",
       "1  No Urgent Place  Friend(s)   Sunny           80  10AM   \n",
       "2  No Urgent Place  Friend(s)   Sunny           80  10AM   \n",
       "3  No Urgent Place  Friend(s)   Sunny           80   2PM   \n",
       "4  No Urgent Place  Friend(s)   Sunny           80   2PM   \n",
       "\n",
       "                  coupon expiration  gender age      maritalStatus  ...  \\\n",
       "0        Restaurant(<20)         1d  Female  21  Unmarried partner  ...   \n",
       "1           Coffee House         2h  Female  21  Unmarried partner  ...   \n",
       "2  Carry out & Take away         2h  Female  21  Unmarried partner  ...   \n",
       "3           Coffee House         2h  Female  21  Unmarried partner  ...   \n",
       "4           Coffee House         1d  Female  21  Unmarried partner  ...   \n",
       "\n",
       "   CoffeeHouse CarryAway RestaurantLessThan20 Restaurant20To50  \\\n",
       "0        never       NaN                  4~8              1~3   \n",
       "1        never       NaN                  4~8              1~3   \n",
       "2        never       NaN                  4~8              1~3   \n",
       "3        never       NaN                  4~8              1~3   \n",
       "4        never       NaN                  4~8              1~3   \n",
       "\n",
       "  toCoupon_GEQ5min toCoupon_GEQ15min toCoupon_GEQ25min direction_same  \\\n",
       "0                1                 0                 0              0   \n",
       "1                1                 0                 0              0   \n",
       "2                1                 1                 0              0   \n",
       "3                1                 1                 0              0   \n",
       "4                1                 1                 0              0   \n",
       "\n",
       "  direction_opp  Y  \n",
       "0             1  1  \n",
       "1             1  0  \n",
       "2             1  1  \n",
       "3             1  0  \n",
       "4             1  0  \n",
       "\n",
       "[5 rows x 26 columns]"
      ]
     },
     "execution_count": 477,
     "metadata": {},
     "output_type": "execute_result"
    }
   ],
   "source": [
    "data.head()"
   ]
  },
  {
   "cell_type": "code",
   "execution_count": 478,
   "metadata": {
    "vscode": {
     "languageId": "powershell"
    }
   },
   "outputs": [
    {
     "data": {
      "text/plain": [
       "destination             12684\n",
       "passanger               12684\n",
       "weather                 12684\n",
       "temperature             12684\n",
       "time                    12684\n",
       "coupon                  12684\n",
       "expiration              12684\n",
       "gender                  12684\n",
       "age                     12684\n",
       "maritalStatus           12684\n",
       "has_children            12684\n",
       "education               12684\n",
       "occupation              12684\n",
       "income                  12684\n",
       "car                       108\n",
       "Bar                     12577\n",
       "CoffeeHouse             12467\n",
       "CarryAway               12533\n",
       "RestaurantLessThan20    12554\n",
       "Restaurant20To50        12495\n",
       "toCoupon_GEQ5min        12684\n",
       "toCoupon_GEQ15min       12684\n",
       "toCoupon_GEQ25min       12684\n",
       "direction_same          12684\n",
       "direction_opp           12684\n",
       "Y                       12684\n",
       "dtype: int64"
      ]
     },
     "execution_count": 478,
     "metadata": {},
     "output_type": "execute_result"
    }
   ],
   "source": [
    "# check count\n",
    "data.count()"
   ]
  },
  {
   "cell_type": "markdown",
   "metadata": {},
   "source": [
    "car column only contains 108 non NaN values. To preserve the majority of records, we will replace the NaN values with unknown. The only rows that we will remove from the data set are those with values 'do not drive' since the main goal of the studay it sto check the coupon acceptance on different driving situation."
   ]
  },
  {
   "cell_type": "markdown",
   "metadata": {},
   "source": [
    "2. Investigate the dataset for missing or problematic data."
   ]
  },
  {
   "cell_type": "code",
   "execution_count": 479,
   "metadata": {
    "vscode": {
     "languageId": "powershell"
    }
   },
   "outputs": [
    {
     "data": {
      "text/plain": [
       "destination             False\n",
       "passanger               False\n",
       "weather                 False\n",
       "temperature             False\n",
       "time                    False\n",
       "coupon                  False\n",
       "expiration              False\n",
       "gender                  False\n",
       "age                     False\n",
       "maritalStatus           False\n",
       "has_children            False\n",
       "education               False\n",
       "occupation              False\n",
       "income                  False\n",
       "car                      True\n",
       "Bar                      True\n",
       "CoffeeHouse              True\n",
       "CarryAway                True\n",
       "RestaurantLessThan20     True\n",
       "Restaurant20To50         True\n",
       "toCoupon_GEQ5min        False\n",
       "toCoupon_GEQ15min       False\n",
       "toCoupon_GEQ25min       False\n",
       "direction_same          False\n",
       "direction_opp           False\n",
       "Y                       False\n",
       "dtype: bool"
      ]
     },
     "execution_count": 479,
     "metadata": {},
     "output_type": "execute_result"
    }
   ],
   "source": [
    "# Check which columns contain NaN values\n",
    "data.isnull().any()"
   ]
  },
  {
   "cell_type": "code",
   "execution_count": 480,
   "metadata": {
    "vscode": {
     "languageId": "powershell"
    }
   },
   "outputs": [
    {
     "data": {
      "text/plain": [
       "array([nan, 'Scooter and motorcycle', 'crossover', 'Mazda5',\n",
       "       'do not drive', 'Car that is too old to install Onstar :D'],\n",
       "      dtype=object)"
      ]
     },
     "execution_count": 480,
     "metadata": {},
     "output_type": "execute_result"
    }
   ],
   "source": [
    "# For each column with NaN, check unique values to get a sense of the data\n",
    "data.car.unique()"
   ]
  },
  {
   "cell_type": "code",
   "execution_count": 481,
   "metadata": {
    "vscode": {
     "languageId": "powershell"
    }
   },
   "outputs": [
    {
     "data": {
      "text/plain": [
       "array(['never', 'less1', '1~3', 'gt8', nan, '4~8'], dtype=object)"
      ]
     },
     "execution_count": 481,
     "metadata": {},
     "output_type": "execute_result"
    }
   ],
   "source": [
    "data.Bar.unique()"
   ]
  },
  {
   "cell_type": "markdown",
   "metadata": {},
   "source": [
    "We'll assume that nan, never, and less1 are respondents that don't go to bars"
   ]
  },
  {
   "cell_type": "code",
   "execution_count": 482,
   "metadata": {
    "vscode": {
     "languageId": "powershell"
    }
   },
   "outputs": [
    {
     "data": {
      "text/plain": [
       "array(['never', 'less1', '4~8', '1~3', 'gt8', nan], dtype=object)"
      ]
     },
     "execution_count": 482,
     "metadata": {},
     "output_type": "execute_result"
    }
   ],
   "source": [
    "data.CoffeeHouse.unique()"
   ]
  },
  {
   "cell_type": "markdown",
   "metadata": {},
   "source": [
    "Just like in Bar, nan, never, and less1 will be equal to 0. The same transformation will be applied to CarryAway, RestaurantLessThan20, Restaurant20To50"
   ]
  },
  {
   "cell_type": "code",
   "execution_count": 483,
   "metadata": {
    "vscode": {
     "languageId": "powershell"
    }
   },
   "outputs": [
    {
     "data": {
      "text/plain": [
       "array([nan, '4~8', '1~3', 'gt8', 'less1', 'never'], dtype=object)"
      ]
     },
     "execution_count": 483,
     "metadata": {},
     "output_type": "execute_result"
    }
   ],
   "source": [
    "data.CarryAway.unique()"
   ]
  },
  {
   "cell_type": "code",
   "execution_count": 484,
   "metadata": {
    "vscode": {
     "languageId": "powershell"
    }
   },
   "outputs": [
    {
     "data": {
      "text/plain": [
       "array(['4~8', '1~3', 'less1', 'gt8', nan, 'never'], dtype=object)"
      ]
     },
     "execution_count": 484,
     "metadata": {},
     "output_type": "execute_result"
    }
   ],
   "source": [
    "data.RestaurantLessThan20.unique()"
   ]
  },
  {
   "cell_type": "code",
   "execution_count": 485,
   "metadata": {
    "vscode": {
     "languageId": "powershell"
    }
   },
   "outputs": [
    {
     "data": {
      "text/plain": [
       "array(['1~3', 'less1', 'never', 'gt8', '4~8', nan], dtype=object)"
      ]
     },
     "execution_count": 485,
     "metadata": {},
     "output_type": "execute_result"
    }
   ],
   "source": [
    "data.Restaurant20To50.unique()"
   ]
  },
  {
   "cell_type": "markdown",
   "metadata": {},
   "source": [
    "3. Decide what to do about your missing data -- drop, replace, other..."
   ]
  },
  {
   "cell_type": "code",
   "execution_count": 486,
   "metadata": {
    "vscode": {
     "languageId": "powershell"
    }
   },
   "outputs": [],
   "source": [
    "# replace rows with NaN in car with unknown and assign to cleandata\n",
    "cleandata = data.fillna('unknown')"
   ]
  },
  {
   "cell_type": "code",
   "execution_count": 487,
   "metadata": {
    "vscode": {
     "languageId": "powershell"
    }
   },
   "outputs": [],
   "source": [
    "# remove entries where car = 'do not drive'\n",
    "cleandata = cleandata.query(\"car != 'do not drive'\")"
   ]
  },
  {
   "cell_type": "code",
   "execution_count": 488,
   "metadata": {
    "vscode": {
     "languageId": "powershell"
    }
   },
   "outputs": [
    {
     "data": {
      "text/plain": [
       "array(['$37500 - $49999', '$62500 - $74999', '$12500 - $24999',\n",
       "       '$75000 - $87499', '$50000 - $62499', '$25000 - $37499',\n",
       "       '$100000 or More', '$87500 - $99999', 'Less than $12500'],\n",
       "      dtype=object)"
      ]
     },
     "execution_count": 488,
     "metadata": {},
     "output_type": "execute_result"
    }
   ],
   "source": [
    "# tbd\n",
    "cleandata.income.unique()"
   ]
  },
  {
   "cell_type": "code",
   "execution_count": 489,
   "metadata": {
    "vscode": {
     "languageId": "powershell"
    }
   },
   "outputs": [],
   "source": [
    "# perform transformations on Bar, CoffeeHouse, CarryAway, RestaurantLessThan20, Restaurant20To50, age, income and convert to numeric values \n",
    "\n",
    "cleandata['Bar'] = cleandata['Bar'].fillna(0)\n",
    "cleandata['CoffeeHouse'] = cleandata['CoffeeHouse'].fillna(0)\n",
    "cleandata['RestaurantLessThan20'] = cleandata['RestaurantLessThan20'].fillna(0)\n",
    "cleandata['Restaurant20To50'] = cleandata['Restaurant20To50'].fillna(0)\n",
    "\n",
    "conv_to_numeric = {'Bar': {'never': 0, 'less1': 0, '1~3': 1, '4~8': 4, 'gt8': 8},\n",
    "                    'CoffeeHouse': {'never': 0, 'less1': 0, '1~3': 1, '4~8': 4, 'gt8': 8},\n",
    "                    'CarryAway': {'never': 0, 'less1': 0, '1~3': 1, '4~8': 4, 'gt8': 8},\n",
    "                    'RestaurantLessThan20': {'never': 0, 'less1': 0, '1~3': 1, '4~8': 4, 'gt8': 8},\n",
    "                    'Restaurant20To50': {'never': 0, 'less1': 0, '1~3': 1, '4~8': 4, 'gt8': 8},\n",
    "                    'age': {'50plus': 51, 'below21': 20},\n",
    "                    'income': {'$37500 - $49999': 37500, '$62500 - $74999': 62500, '$12500 - $24999': 12500, '$75000 - $87499': 75000, '$50000 - $62499': 50000, '$25000 - $37499': 25000, '$100000 or More': 100001, '$87500 - $99999': 87500, 'Less than $12500': 12499}}\n",
    "\n",
    "numericdata=cleandata.replace(conv_to_numeric)"
   ]
  },
  {
   "cell_type": "code",
   "execution_count": 490,
   "metadata": {
    "vscode": {
     "languageId": "powershell"
    }
   },
   "outputs": [
    {
     "data": {
      "text/plain": [
       "array([ 37500,  62500,  12500,  75000,  50000,  25000, 100001,  87500,\n",
       "        12499], dtype=int64)"
      ]
     },
     "execution_count": 490,
     "metadata": {},
     "output_type": "execute_result"
    }
   ],
   "source": [
    "# tbd \n",
    "numericdata.income.unique()"
   ]
  },
  {
   "cell_type": "markdown",
   "metadata": {},
   "source": [
    "4. What proportion of the total observations chose to accept the coupon? \n",
    "\n"
   ]
  },
  {
   "cell_type": "code",
   "execution_count": 491,
   "metadata": {
    "vscode": {
     "languageId": "powershell"
    }
   },
   "outputs": [
    {
     "data": {
      "text/html": [
       "<div>\n",
       "<style scoped>\n",
       "    .dataframe tbody tr th:only-of-type {\n",
       "        vertical-align: middle;\n",
       "    }\n",
       "\n",
       "    .dataframe tbody tr th {\n",
       "        vertical-align: top;\n",
       "    }\n",
       "\n",
       "    .dataframe thead th {\n",
       "        text-align: right;\n",
       "    }\n",
       "</style>\n",
       "<table border=\"1\" class=\"dataframe\">\n",
       "  <thead>\n",
       "    <tr style=\"text-align: right;\">\n",
       "      <th></th>\n",
       "      <th>Y</th>\n",
       "      <th>Coupon Respondence</th>\n",
       "    </tr>\n",
       "  </thead>\n",
       "  <tbody>\n",
       "    <tr>\n",
       "      <th>0</th>\n",
       "      <td>0</td>\n",
       "      <td>5462</td>\n",
       "    </tr>\n",
       "    <tr>\n",
       "      <th>1</th>\n",
       "      <td>1</td>\n",
       "      <td>7200</td>\n",
       "    </tr>\n",
       "  </tbody>\n",
       "</table>\n",
       "</div>"
      ],
      "text/plain": [
       "   Y  Coupon Respondence\n",
       "0  0                5462\n",
       "1  1                7200"
      ]
     },
     "execution_count": 491,
     "metadata": {},
     "output_type": "execute_result"
    }
   ],
   "source": [
    "# using groupby check total rows with Y = 0 or Y = 1\n",
    "numericdata.groupby('Y').size().reset_index(name='Coupon Respondence')"
   ]
  },
  {
   "cell_type": "markdown",
   "metadata": {},
   "source": [
    "5462 out of 12662 accepted the coupon which is 43%"
   ]
  },
  {
   "cell_type": "markdown",
   "metadata": {},
   "source": [
    "5. Use a bar plot to visualize the `coupon` column."
   ]
  },
  {
   "cell_type": "code",
   "execution_count": 492,
   "metadata": {
    "vscode": {
     "languageId": "powershell"
    }
   },
   "outputs": [],
   "source": [
    "# df for bar plot group by coupon and acceptance\n",
    "bardata=numericdata.groupby(['coupon','Y']).size().reset_index(name='size')"
   ]
  },
  {
   "cell_type": "code",
   "execution_count": 493,
   "metadata": {
    "vscode": {
     "languageId": "powershell"
    }
   },
   "outputs": [
    {
     "data": {
      "application/vnd.plotly.v1+json": {
       "config": {
        "plotlyServerURL": "https://plot.ly"
       },
       "data": [
        {
         "alignmentgroup": "True",
         "hovertemplate": "coupon=%{x}<br>size=%{y}<br>Y=%{marker.color}<extra></extra>",
         "legendgroup": "",
         "marker": {
          "color": [
           0,
           1,
           0,
           1,
           0,
           1,
           0,
           1,
           0,
           1
          ],
          "coloraxis": "coloraxis",
          "pattern": {
           "shape": ""
          }
         },
         "name": "",
         "offsetgroup": "",
         "orientation": "v",
         "showlegend": false,
         "textposition": "auto",
         "type": "bar",
         "x": [
          "Bar",
          "Bar",
          "Carry out & Take away",
          "Carry out & Take away",
          "Coffee House",
          "Coffee House",
          "Restaurant(20-50)",
          "Restaurant(20-50)",
          "Restaurant(<20)",
          "Restaurant(<20)"
         ],
         "xaxis": "x",
         "y": [
          1190,
          825,
          632,
          1757,
          1994,
          1995,
          833,
          655,
          813,
          1968
         ],
         "yaxis": "y"
        }
       ],
       "layout": {
        "barmode": "relative",
        "coloraxis": {
         "colorbar": {
          "title": {
           "text": "Y"
          }
         },
         "colorscale": [
          [
           0,
           "#0d0887"
          ],
          [
           0.1111111111111111,
           "#46039f"
          ],
          [
           0.2222222222222222,
           "#7201a8"
          ],
          [
           0.3333333333333333,
           "#9c179e"
          ],
          [
           0.4444444444444444,
           "#bd3786"
          ],
          [
           0.5555555555555556,
           "#d8576b"
          ],
          [
           0.6666666666666666,
           "#ed7953"
          ],
          [
           0.7777777777777778,
           "#fb9f3a"
          ],
          [
           0.8888888888888888,
           "#fdca26"
          ],
          [
           1,
           "#f0f921"
          ]
         ]
        },
        "legend": {
         "tracegroupgap": 0
        },
        "margin": {
         "t": 60
        },
        "template": {
         "data": {
          "bar": [
           {
            "error_x": {
             "color": "#2a3f5f"
            },
            "error_y": {
             "color": "#2a3f5f"
            },
            "marker": {
             "line": {
              "color": "#E5ECF6",
              "width": 0.5
             },
             "pattern": {
              "fillmode": "overlay",
              "size": 10,
              "solidity": 0.2
             }
            },
            "type": "bar"
           }
          ],
          "barpolar": [
           {
            "marker": {
             "line": {
              "color": "#E5ECF6",
              "width": 0.5
             },
             "pattern": {
              "fillmode": "overlay",
              "size": 10,
              "solidity": 0.2
             }
            },
            "type": "barpolar"
           }
          ],
          "carpet": [
           {
            "aaxis": {
             "endlinecolor": "#2a3f5f",
             "gridcolor": "white",
             "linecolor": "white",
             "minorgridcolor": "white",
             "startlinecolor": "#2a3f5f"
            },
            "baxis": {
             "endlinecolor": "#2a3f5f",
             "gridcolor": "white",
             "linecolor": "white",
             "minorgridcolor": "white",
             "startlinecolor": "#2a3f5f"
            },
            "type": "carpet"
           }
          ],
          "choropleth": [
           {
            "colorbar": {
             "outlinewidth": 0,
             "ticks": ""
            },
            "type": "choropleth"
           }
          ],
          "contour": [
           {
            "colorbar": {
             "outlinewidth": 0,
             "ticks": ""
            },
            "colorscale": [
             [
              0,
              "#0d0887"
             ],
             [
              0.1111111111111111,
              "#46039f"
             ],
             [
              0.2222222222222222,
              "#7201a8"
             ],
             [
              0.3333333333333333,
              "#9c179e"
             ],
             [
              0.4444444444444444,
              "#bd3786"
             ],
             [
              0.5555555555555556,
              "#d8576b"
             ],
             [
              0.6666666666666666,
              "#ed7953"
             ],
             [
              0.7777777777777778,
              "#fb9f3a"
             ],
             [
              0.8888888888888888,
              "#fdca26"
             ],
             [
              1,
              "#f0f921"
             ]
            ],
            "type": "contour"
           }
          ],
          "contourcarpet": [
           {
            "colorbar": {
             "outlinewidth": 0,
             "ticks": ""
            },
            "type": "contourcarpet"
           }
          ],
          "heatmap": [
           {
            "colorbar": {
             "outlinewidth": 0,
             "ticks": ""
            },
            "colorscale": [
             [
              0,
              "#0d0887"
             ],
             [
              0.1111111111111111,
              "#46039f"
             ],
             [
              0.2222222222222222,
              "#7201a8"
             ],
             [
              0.3333333333333333,
              "#9c179e"
             ],
             [
              0.4444444444444444,
              "#bd3786"
             ],
             [
              0.5555555555555556,
              "#d8576b"
             ],
             [
              0.6666666666666666,
              "#ed7953"
             ],
             [
              0.7777777777777778,
              "#fb9f3a"
             ],
             [
              0.8888888888888888,
              "#fdca26"
             ],
             [
              1,
              "#f0f921"
             ]
            ],
            "type": "heatmap"
           }
          ],
          "heatmapgl": [
           {
            "colorbar": {
             "outlinewidth": 0,
             "ticks": ""
            },
            "colorscale": [
             [
              0,
              "#0d0887"
             ],
             [
              0.1111111111111111,
              "#46039f"
             ],
             [
              0.2222222222222222,
              "#7201a8"
             ],
             [
              0.3333333333333333,
              "#9c179e"
             ],
             [
              0.4444444444444444,
              "#bd3786"
             ],
             [
              0.5555555555555556,
              "#d8576b"
             ],
             [
              0.6666666666666666,
              "#ed7953"
             ],
             [
              0.7777777777777778,
              "#fb9f3a"
             ],
             [
              0.8888888888888888,
              "#fdca26"
             ],
             [
              1,
              "#f0f921"
             ]
            ],
            "type": "heatmapgl"
           }
          ],
          "histogram": [
           {
            "marker": {
             "pattern": {
              "fillmode": "overlay",
              "size": 10,
              "solidity": 0.2
             }
            },
            "type": "histogram"
           }
          ],
          "histogram2d": [
           {
            "colorbar": {
             "outlinewidth": 0,
             "ticks": ""
            },
            "colorscale": [
             [
              0,
              "#0d0887"
             ],
             [
              0.1111111111111111,
              "#46039f"
             ],
             [
              0.2222222222222222,
              "#7201a8"
             ],
             [
              0.3333333333333333,
              "#9c179e"
             ],
             [
              0.4444444444444444,
              "#bd3786"
             ],
             [
              0.5555555555555556,
              "#d8576b"
             ],
             [
              0.6666666666666666,
              "#ed7953"
             ],
             [
              0.7777777777777778,
              "#fb9f3a"
             ],
             [
              0.8888888888888888,
              "#fdca26"
             ],
             [
              1,
              "#f0f921"
             ]
            ],
            "type": "histogram2d"
           }
          ],
          "histogram2dcontour": [
           {
            "colorbar": {
             "outlinewidth": 0,
             "ticks": ""
            },
            "colorscale": [
             [
              0,
              "#0d0887"
             ],
             [
              0.1111111111111111,
              "#46039f"
             ],
             [
              0.2222222222222222,
              "#7201a8"
             ],
             [
              0.3333333333333333,
              "#9c179e"
             ],
             [
              0.4444444444444444,
              "#bd3786"
             ],
             [
              0.5555555555555556,
              "#d8576b"
             ],
             [
              0.6666666666666666,
              "#ed7953"
             ],
             [
              0.7777777777777778,
              "#fb9f3a"
             ],
             [
              0.8888888888888888,
              "#fdca26"
             ],
             [
              1,
              "#f0f921"
             ]
            ],
            "type": "histogram2dcontour"
           }
          ],
          "mesh3d": [
           {
            "colorbar": {
             "outlinewidth": 0,
             "ticks": ""
            },
            "type": "mesh3d"
           }
          ],
          "parcoords": [
           {
            "line": {
             "colorbar": {
              "outlinewidth": 0,
              "ticks": ""
             }
            },
            "type": "parcoords"
           }
          ],
          "pie": [
           {
            "automargin": true,
            "type": "pie"
           }
          ],
          "scatter": [
           {
            "fillpattern": {
             "fillmode": "overlay",
             "size": 10,
             "solidity": 0.2
            },
            "type": "scatter"
           }
          ],
          "scatter3d": [
           {
            "line": {
             "colorbar": {
              "outlinewidth": 0,
              "ticks": ""
             }
            },
            "marker": {
             "colorbar": {
              "outlinewidth": 0,
              "ticks": ""
             }
            },
            "type": "scatter3d"
           }
          ],
          "scattercarpet": [
           {
            "marker": {
             "colorbar": {
              "outlinewidth": 0,
              "ticks": ""
             }
            },
            "type": "scattercarpet"
           }
          ],
          "scattergeo": [
           {
            "marker": {
             "colorbar": {
              "outlinewidth": 0,
              "ticks": ""
             }
            },
            "type": "scattergeo"
           }
          ],
          "scattergl": [
           {
            "marker": {
             "colorbar": {
              "outlinewidth": 0,
              "ticks": ""
             }
            },
            "type": "scattergl"
           }
          ],
          "scattermapbox": [
           {
            "marker": {
             "colorbar": {
              "outlinewidth": 0,
              "ticks": ""
             }
            },
            "type": "scattermapbox"
           }
          ],
          "scatterpolar": [
           {
            "marker": {
             "colorbar": {
              "outlinewidth": 0,
              "ticks": ""
             }
            },
            "type": "scatterpolar"
           }
          ],
          "scatterpolargl": [
           {
            "marker": {
             "colorbar": {
              "outlinewidth": 0,
              "ticks": ""
             }
            },
            "type": "scatterpolargl"
           }
          ],
          "scatterternary": [
           {
            "marker": {
             "colorbar": {
              "outlinewidth": 0,
              "ticks": ""
             }
            },
            "type": "scatterternary"
           }
          ],
          "surface": [
           {
            "colorbar": {
             "outlinewidth": 0,
             "ticks": ""
            },
            "colorscale": [
             [
              0,
              "#0d0887"
             ],
             [
              0.1111111111111111,
              "#46039f"
             ],
             [
              0.2222222222222222,
              "#7201a8"
             ],
             [
              0.3333333333333333,
              "#9c179e"
             ],
             [
              0.4444444444444444,
              "#bd3786"
             ],
             [
              0.5555555555555556,
              "#d8576b"
             ],
             [
              0.6666666666666666,
              "#ed7953"
             ],
             [
              0.7777777777777778,
              "#fb9f3a"
             ],
             [
              0.8888888888888888,
              "#fdca26"
             ],
             [
              1,
              "#f0f921"
             ]
            ],
            "type": "surface"
           }
          ],
          "table": [
           {
            "cells": {
             "fill": {
              "color": "#EBF0F8"
             },
             "line": {
              "color": "white"
             }
            },
            "header": {
             "fill": {
              "color": "#C8D4E3"
             },
             "line": {
              "color": "white"
             }
            },
            "type": "table"
           }
          ]
         },
         "layout": {
          "annotationdefaults": {
           "arrowcolor": "#2a3f5f",
           "arrowhead": 0,
           "arrowwidth": 1
          },
          "autotypenumbers": "strict",
          "coloraxis": {
           "colorbar": {
            "outlinewidth": 0,
            "ticks": ""
           }
          },
          "colorscale": {
           "diverging": [
            [
             0,
             "#8e0152"
            ],
            [
             0.1,
             "#c51b7d"
            ],
            [
             0.2,
             "#de77ae"
            ],
            [
             0.3,
             "#f1b6da"
            ],
            [
             0.4,
             "#fde0ef"
            ],
            [
             0.5,
             "#f7f7f7"
            ],
            [
             0.6,
             "#e6f5d0"
            ],
            [
             0.7,
             "#b8e186"
            ],
            [
             0.8,
             "#7fbc41"
            ],
            [
             0.9,
             "#4d9221"
            ],
            [
             1,
             "#276419"
            ]
           ],
           "sequential": [
            [
             0,
             "#0d0887"
            ],
            [
             0.1111111111111111,
             "#46039f"
            ],
            [
             0.2222222222222222,
             "#7201a8"
            ],
            [
             0.3333333333333333,
             "#9c179e"
            ],
            [
             0.4444444444444444,
             "#bd3786"
            ],
            [
             0.5555555555555556,
             "#d8576b"
            ],
            [
             0.6666666666666666,
             "#ed7953"
            ],
            [
             0.7777777777777778,
             "#fb9f3a"
            ],
            [
             0.8888888888888888,
             "#fdca26"
            ],
            [
             1,
             "#f0f921"
            ]
           ],
           "sequentialminus": [
            [
             0,
             "#0d0887"
            ],
            [
             0.1111111111111111,
             "#46039f"
            ],
            [
             0.2222222222222222,
             "#7201a8"
            ],
            [
             0.3333333333333333,
             "#9c179e"
            ],
            [
             0.4444444444444444,
             "#bd3786"
            ],
            [
             0.5555555555555556,
             "#d8576b"
            ],
            [
             0.6666666666666666,
             "#ed7953"
            ],
            [
             0.7777777777777778,
             "#fb9f3a"
            ],
            [
             0.8888888888888888,
             "#fdca26"
            ],
            [
             1,
             "#f0f921"
            ]
           ]
          },
          "colorway": [
           "#636efa",
           "#EF553B",
           "#00cc96",
           "#ab63fa",
           "#FFA15A",
           "#19d3f3",
           "#FF6692",
           "#B6E880",
           "#FF97FF",
           "#FECB52"
          ],
          "font": {
           "color": "#2a3f5f"
          },
          "geo": {
           "bgcolor": "white",
           "lakecolor": "white",
           "landcolor": "#E5ECF6",
           "showlakes": true,
           "showland": true,
           "subunitcolor": "white"
          },
          "hoverlabel": {
           "align": "left"
          },
          "hovermode": "closest",
          "mapbox": {
           "style": "light"
          },
          "paper_bgcolor": "white",
          "plot_bgcolor": "#E5ECF6",
          "polar": {
           "angularaxis": {
            "gridcolor": "white",
            "linecolor": "white",
            "ticks": ""
           },
           "bgcolor": "#E5ECF6",
           "radialaxis": {
            "gridcolor": "white",
            "linecolor": "white",
            "ticks": ""
           }
          },
          "scene": {
           "xaxis": {
            "backgroundcolor": "#E5ECF6",
            "gridcolor": "white",
            "gridwidth": 2,
            "linecolor": "white",
            "showbackground": true,
            "ticks": "",
            "zerolinecolor": "white"
           },
           "yaxis": {
            "backgroundcolor": "#E5ECF6",
            "gridcolor": "white",
            "gridwidth": 2,
            "linecolor": "white",
            "showbackground": true,
            "ticks": "",
            "zerolinecolor": "white"
           },
           "zaxis": {
            "backgroundcolor": "#E5ECF6",
            "gridcolor": "white",
            "gridwidth": 2,
            "linecolor": "white",
            "showbackground": true,
            "ticks": "",
            "zerolinecolor": "white"
           }
          },
          "shapedefaults": {
           "line": {
            "color": "#2a3f5f"
           }
          },
          "ternary": {
           "aaxis": {
            "gridcolor": "white",
            "linecolor": "white",
            "ticks": ""
           },
           "baxis": {
            "gridcolor": "white",
            "linecolor": "white",
            "ticks": ""
           },
           "bgcolor": "#E5ECF6",
           "caxis": {
            "gridcolor": "white",
            "linecolor": "white",
            "ticks": ""
           }
          },
          "title": {
           "x": 0.05
          },
          "xaxis": {
           "automargin": true,
           "gridcolor": "white",
           "linecolor": "white",
           "ticks": "",
           "title": {
            "standoff": 15
           },
           "zerolinecolor": "white",
           "zerolinewidth": 2
          },
          "yaxis": {
           "automargin": true,
           "gridcolor": "white",
           "linecolor": "white",
           "ticks": "",
           "title": {
            "standoff": 15
           },
           "zerolinecolor": "white",
           "zerolinewidth": 2
          }
         }
        },
        "xaxis": {
         "anchor": "y",
         "domain": [
          0,
          1
         ],
         "title": {
          "text": "coupon"
         }
        },
        "yaxis": {
         "anchor": "x",
         "domain": [
          0,
          1
         ],
         "title": {
          "text": "size"
         }
        }
       }
      }
     },
     "metadata": {},
     "output_type": "display_data"
    }
   ],
   "source": [
    "fig = px.bar(bardata, x='coupon', y='size',color='Y')\n",
    "fig.show()"
   ]
  },
  {
   "cell_type": "code",
   "execution_count": 494,
   "metadata": {
    "vscode": {
     "languageId": "powershell"
    }
   },
   "outputs": [],
   "source": [
    "# save image\n",
    "fig.write_image(\"images/barcoupon.png\")"
   ]
  },
  {
   "cell_type": "markdown",
   "metadata": {},
   "source": [
    "6. Use a histogram to visualize the temperature column."
   ]
  },
  {
   "cell_type": "code",
   "execution_count": 495,
   "metadata": {
    "vscode": {
     "languageId": "powershell"
    }
   },
   "outputs": [],
   "source": [
    "histdf = numericdata.groupby(['temperature','Y']).size().reset_index(name='size')"
   ]
  },
  {
   "cell_type": "code",
   "execution_count": 496,
   "metadata": {
    "vscode": {
     "languageId": "powershell"
    }
   },
   "outputs": [
    {
     "data": {
      "application/vnd.plotly.v1+json": {
       "config": {
        "plotlyServerURL": "https://plot.ly"
       },
       "data": [
        {
         "alignmentgroup": "True",
         "bingroup": "x",
         "hovertemplate": "Y=1<br>temperature=%{x}<br>count=%{y}<extra></extra>",
         "legendgroup": "1",
         "marker": {
          "color": "#636efa",
          "pattern": {
           "shape": ""
          }
         },
         "name": "1",
         "offsetgroup": "1",
         "orientation": "v",
         "showlegend": true,
         "type": "histogram",
         "x": [
          55,
          80,
          80,
          55,
          80,
          80,
          80,
          55,
          55,
          55,
          55,
          55,
          80,
          80,
          55,
          55,
          80,
          80,
          80,
          55,
          55,
          55,
          80,
          55,
          55,
          80,
          80,
          80,
          80,
          80,
          80,
          55,
          55,
          55,
          80,
          55,
          80,
          80,
          80,
          80,
          80,
          55,
          80,
          80,
          80,
          80,
          55,
          55,
          80,
          55,
          80,
          55,
          80,
          80,
          80,
          80,
          80,
          80,
          80,
          80,
          80,
          55,
          55,
          55,
          55,
          55,
          80,
          55,
          80,
          80,
          55,
          55,
          55,
          80,
          80,
          80,
          80,
          80,
          55,
          55,
          55,
          55,
          80,
          55,
          55,
          55,
          80,
          80,
          80,
          80,
          80,
          55,
          80,
          80,
          80,
          55,
          55,
          55,
          80,
          80,
          80,
          80,
          55,
          55,
          55,
          55,
          80,
          55,
          55,
          80,
          80,
          80,
          80,
          80,
          80,
          80,
          80,
          55,
          55,
          80,
          55,
          80,
          80,
          55,
          55,
          80,
          80,
          80,
          55,
          55,
          80,
          80,
          55,
          55,
          80,
          80,
          80,
          80,
          80,
          55,
          80,
          80,
          80,
          80,
          80,
          55,
          55,
          55,
          55,
          55,
          80,
          80,
          80,
          80,
          80,
          80,
          80,
          80,
          55,
          55,
          55,
          55,
          80,
          80,
          55,
          80,
          80,
          80,
          55,
          80,
          80,
          55,
          55,
          55,
          55,
          80,
          80,
          55,
          55,
          80,
          80,
          80,
          55,
          80,
          55,
          55,
          55,
          80,
          80,
          80,
          55,
          80,
          55,
          55,
          80,
          80,
          80,
          80,
          80,
          55,
          80,
          80,
          80,
          55,
          55,
          55,
          80,
          55,
          55,
          80,
          80,
          80,
          80,
          55,
          80,
          55,
          55,
          80,
          55,
          80,
          80,
          80,
          55,
          80,
          80,
          55,
          55,
          80,
          55,
          55,
          80,
          80,
          80,
          80,
          55,
          55,
          55,
          80,
          55,
          55,
          80,
          80,
          80,
          55,
          80,
          80,
          80,
          80,
          55,
          55,
          55,
          80,
          80,
          55,
          80,
          80,
          80,
          80,
          80,
          55,
          55,
          80,
          55,
          80,
          55,
          55,
          80,
          80,
          80,
          80,
          80,
          80,
          55,
          55,
          55,
          55,
          55,
          55,
          80,
          80,
          55,
          55,
          55,
          80,
          80,
          80,
          80,
          80,
          80,
          80,
          80,
          55,
          55,
          55,
          55,
          80,
          55,
          55,
          55,
          80,
          80,
          55,
          80,
          80,
          55,
          80,
          55,
          80,
          55,
          55,
          55,
          80,
          80,
          80,
          80,
          80,
          55,
          80,
          80,
          55,
          55,
          55,
          80,
          55,
          80,
          80,
          55,
          55,
          80,
          80,
          80,
          80,
          55,
          55,
          55,
          55,
          80,
          55,
          55,
          80,
          80,
          80,
          80,
          80,
          80,
          80,
          55,
          55,
          55,
          55,
          55,
          80,
          55,
          55,
          55,
          55,
          55,
          80,
          80,
          80,
          55,
          55,
          80,
          80,
          55,
          55,
          80,
          80,
          80,
          80,
          55,
          80,
          80,
          80,
          55,
          80,
          55,
          55,
          55,
          55,
          80,
          80,
          80,
          80,
          80,
          80,
          55,
          55,
          55,
          55,
          55,
          80,
          55,
          55,
          80,
          80,
          55,
          80,
          80,
          80,
          80,
          55,
          55,
          55,
          80,
          80,
          55,
          55,
          80,
          80,
          80,
          55,
          80,
          80,
          80,
          55,
          55,
          55,
          55,
          80,
          80,
          55,
          80,
          80,
          80,
          55,
          55,
          55,
          80,
          80,
          55,
          55,
          80,
          80,
          80,
          80,
          55,
          55,
          55,
          55,
          80,
          55,
          80,
          55,
          55,
          55,
          80,
          80,
          80,
          80,
          80,
          55,
          80,
          80,
          80,
          80,
          80,
          55,
          55,
          80,
          55,
          55,
          80,
          80,
          55,
          55,
          80,
          80,
          80,
          80,
          80,
          80,
          80,
          55,
          55,
          55,
          55,
          55,
          80,
          55,
          80,
          80,
          55,
          55,
          80,
          80,
          80,
          55,
          80,
          80,
          80,
          55,
          55,
          55,
          80,
          55,
          55,
          80,
          80,
          80,
          80,
          80,
          80,
          80,
          80,
          55,
          55,
          55,
          55,
          80,
          80,
          55,
          55,
          80,
          80,
          80,
          80,
          55,
          55,
          55,
          80,
          80,
          80,
          80,
          80,
          55,
          80,
          80,
          80,
          55,
          80,
          80,
          80,
          80,
          80,
          55,
          55,
          80,
          80,
          55,
          55,
          80,
          80,
          80,
          80,
          80,
          80,
          55,
          55,
          55,
          55,
          80,
          80,
          55,
          55,
          80,
          80,
          80,
          80,
          80,
          55,
          80,
          80,
          80,
          55,
          55,
          55,
          80,
          55,
          80,
          80,
          55,
          55,
          55,
          80,
          80,
          80,
          80,
          55,
          55,
          55,
          55,
          55,
          55,
          55,
          55,
          80,
          80,
          80,
          80,
          80,
          80,
          55,
          55,
          80,
          80,
          80,
          80,
          80,
          55,
          80,
          80,
          80,
          55,
          55,
          80,
          80,
          55,
          55,
          80,
          80,
          80,
          55,
          80,
          80,
          80,
          80,
          55,
          55,
          80,
          80,
          55,
          55,
          55,
          55,
          55,
          80,
          55,
          55,
          80,
          80,
          55,
          80,
          55,
          55,
          80,
          80,
          80,
          80,
          80,
          80,
          80,
          55,
          80,
          80,
          55,
          55,
          80,
          80,
          55,
          80,
          80,
          80,
          55,
          55,
          55,
          80,
          80,
          80,
          55,
          80,
          80,
          80,
          55,
          55,
          55,
          80,
          80,
          55,
          55,
          80,
          55,
          80,
          80,
          55,
          80,
          80,
          80,
          80,
          80,
          80,
          55,
          80,
          80,
          80,
          80,
          80,
          55,
          80,
          80,
          80,
          55,
          55,
          55,
          80,
          55,
          80,
          80,
          55,
          80,
          80,
          55,
          80,
          80,
          80,
          55,
          55,
          55,
          80,
          55,
          80,
          80,
          80,
          80,
          80,
          80,
          80,
          80,
          80,
          55,
          55,
          55,
          55,
          55,
          80,
          80,
          55,
          55,
          80,
          80,
          80,
          80,
          80,
          55,
          55,
          80,
          55,
          55,
          55,
          80,
          80,
          80,
          80,
          55,
          55,
          55,
          55,
          80,
          80,
          55,
          80,
          80,
          80,
          80,
          55,
          55,
          80,
          80,
          80,
          80,
          80,
          55,
          80,
          80,
          80,
          80,
          55,
          55,
          80,
          80,
          80,
          80,
          80,
          55,
          55,
          55,
          80,
          55,
          55,
          80,
          80,
          80,
          80,
          80,
          80,
          80,
          80,
          80,
          80,
          55,
          80,
          80,
          80,
          55,
          55,
          80,
          80,
          80,
          80,
          80,
          55,
          80,
          80,
          80,
          80,
          80,
          80,
          55,
          55,
          80,
          55,
          55,
          80,
          80,
          55,
          55,
          55,
          80,
          80,
          80,
          80,
          80,
          80,
          55,
          55,
          55,
          55,
          55,
          80,
          80,
          55,
          55,
          80,
          80,
          80,
          80,
          55,
          80,
          80,
          55,
          55,
          80,
          80,
          55,
          55,
          80,
          80,
          80,
          80,
          80,
          55,
          80,
          80,
          80,
          55,
          55,
          55,
          80,
          55,
          80,
          80,
          80,
          55,
          80,
          80,
          80,
          55,
          55,
          80,
          55,
          55,
          80,
          80,
          80,
          55,
          80,
          80,
          80,
          55,
          80,
          55,
          80,
          80,
          80,
          80,
          80,
          55,
          80,
          80,
          80,
          55,
          55,
          55,
          80,
          55,
          80,
          80,
          55,
          55,
          55,
          80,
          80,
          80,
          80,
          80,
          55,
          55,
          55,
          55,
          55,
          80,
          55,
          55,
          80,
          80,
          80,
          55,
          55,
          55,
          80,
          80,
          55,
          55,
          80,
          80,
          80,
          80,
          55,
          80,
          80,
          80,
          55,
          55,
          80,
          55,
          55,
          80,
          80,
          80,
          80,
          80,
          80,
          80,
          80,
          80,
          55,
          55,
          55,
          55,
          55,
          80,
          55,
          55,
          80,
          80,
          55,
          55,
          80,
          80,
          80,
          80,
          55,
          80,
          55,
          55,
          55,
          55,
          80,
          55,
          55,
          80,
          80,
          80,
          80,
          80,
          55,
          55,
          55,
          55,
          80,
          80,
          55,
          55,
          80,
          80,
          80,
          80,
          80,
          80,
          80,
          55,
          55,
          55,
          55,
          55,
          80,
          80,
          80,
          80,
          55,
          80,
          80,
          80,
          55,
          55,
          55,
          80,
          80,
          55,
          80,
          80,
          55,
          80,
          80,
          55,
          55,
          80,
          80,
          80,
          80,
          80,
          80,
          80,
          80,
          55,
          55,
          55,
          55,
          55,
          80,
          55,
          80,
          55,
          55,
          80,
          80,
          55,
          80,
          80,
          80,
          80,
          55,
          55,
          80,
          55,
          80,
          80,
          55,
          55,
          55,
          80,
          80,
          80,
          80,
          80,
          55,
          80,
          80,
          55,
          55,
          55,
          80,
          55,
          55,
          80,
          80,
          55,
          55,
          55,
          80,
          80,
          80,
          55,
          80,
          55,
          80,
          80,
          55,
          55,
          80,
          80,
          80,
          80,
          80,
          80,
          80,
          80,
          80,
          55,
          55,
          55,
          55,
          80,
          55,
          55,
          55,
          55,
          80,
          80,
          80,
          80,
          80,
          80,
          80,
          80,
          80,
          55,
          55,
          55,
          55,
          80,
          55,
          55,
          80,
          80,
          80,
          80,
          80,
          80,
          80,
          80,
          80,
          55,
          55,
          55,
          55,
          55,
          80,
          55,
          80,
          55,
          55,
          80,
          80,
          80,
          80,
          80,
          80,
          80,
          80,
          55,
          55,
          80,
          55,
          55,
          80,
          80,
          80,
          80,
          80,
          80,
          80,
          80,
          55,
          55,
          55,
          55,
          80,
          80,
          55,
          55,
          80,
          80,
          55,
          80,
          80,
          80,
          55,
          55,
          55,
          55,
          80,
          55,
          55,
          80,
          80,
          80,
          55,
          80,
          80,
          80,
          55,
          55,
          55,
          55,
          80,
          55,
          55,
          80,
          80,
          80,
          80,
          55,
          80,
          80,
          80,
          80,
          80,
          55,
          55,
          55,
          55,
          80,
          55,
          55,
          80,
          80,
          55,
          80,
          80,
          80,
          55,
          55,
          80,
          55,
          80,
          80,
          80,
          80,
          55,
          80,
          80,
          80,
          55,
          55,
          55,
          55,
          55,
          80,
          80,
          55,
          55,
          80,
          80,
          80,
          55,
          80,
          80,
          55,
          55,
          55,
          80,
          55,
          80,
          80,
          55,
          80,
          80,
          80,
          80,
          80,
          55,
          80,
          80,
          80,
          80,
          80,
          80,
          80,
          80,
          55,
          55,
          55,
          55,
          55,
          80,
          80,
          55,
          55,
          80,
          80,
          80,
          80,
          80,
          80,
          80,
          80,
          55,
          55,
          55,
          55,
          55,
          55,
          55,
          80,
          80,
          80,
          80,
          80,
          55,
          80,
          80,
          80,
          55,
          55,
          55,
          55,
          55,
          80,
          55,
          55,
          55,
          80,
          80,
          80,
          80,
          80,
          80,
          80,
          80,
          80,
          55,
          55,
          55,
          55,
          55,
          55,
          55,
          80,
          55,
          55,
          80,
          80,
          80,
          80,
          55,
          55,
          55,
          55,
          80,
          80,
          55,
          55,
          80,
          55,
          80,
          80,
          80,
          80,
          80,
          55,
          55,
          55,
          80,
          80,
          55,
          55,
          55,
          80,
          80,
          55,
          80,
          55,
          55,
          80,
          80,
          80,
          55,
          80,
          55,
          55,
          80,
          80,
          80,
          80,
          80,
          80,
          80,
          55,
          55,
          55,
          80,
          55,
          80,
          55,
          55,
          55,
          80,
          80,
          80,
          80,
          80,
          80,
          80,
          80,
          80,
          80,
          80,
          55,
          55,
          80,
          80,
          80,
          80,
          55,
          55,
          55,
          80,
          80,
          80,
          55,
          55,
          80,
          80,
          80,
          80,
          55,
          80,
          80,
          80,
          55,
          55,
          55,
          55,
          80,
          80,
          55,
          55,
          80,
          55,
          55,
          55,
          55,
          80,
          80,
          55,
          80,
          80,
          55,
          55,
          80,
          80,
          55,
          80,
          80,
          55,
          80,
          55,
          55,
          80,
          80,
          80,
          80,
          80,
          80,
          80,
          80,
          55,
          55,
          55,
          80,
          55,
          55,
          80,
          80,
          80,
          55,
          80,
          80,
          80,
          80,
          80,
          55,
          55,
          55,
          80,
          55,
          55,
          80,
          80,
          80,
          80,
          80,
          55,
          80,
          80,
          80,
          80,
          55,
          55,
          80,
          55,
          55,
          80,
          80,
          80,
          55,
          55,
          80,
          80,
          55,
          55,
          80,
          80,
          80,
          80,
          80,
          80,
          55,
          55,
          55,
          80,
          55,
          55,
          55,
          55,
          55,
          80,
          80,
          80,
          80,
          55,
          80,
          80,
          80,
          55,
          55,
          80,
          55,
          80,
          80,
          55,
          55,
          55,
          80,
          80,
          80,
          80,
          80,
          80,
          80,
          80,
          80,
          55,
          55,
          55,
          55,
          55,
          80,
          55,
          55,
          80,
          80,
          55,
          55,
          55,
          80,
          80,
          80,
          80,
          80,
          55,
          55,
          80,
          80,
          80,
          80,
          80,
          80,
          80,
          80,
          55,
          55,
          55,
          55,
          55,
          80,
          80,
          55,
          80,
          80,
          55,
          55,
          80,
          55,
          80,
          55,
          80,
          80,
          55,
          55,
          55,
          55,
          80,
          55,
          55,
          80,
          80,
          80,
          80,
          80,
          55,
          80,
          80,
          80,
          55,
          55,
          55,
          55,
          80,
          80,
          55,
          55,
          55,
          80,
          80,
          80,
          80,
          80,
          55,
          80,
          80,
          80,
          80,
          80,
          55,
          80,
          55,
          55,
          80,
          80,
          55,
          80,
          55,
          55,
          55,
          80,
          55,
          80,
          80,
          55,
          55,
          80,
          80,
          80,
          80,
          80,
          80,
          80,
          55,
          55,
          55,
          80,
          55,
          55,
          80,
          80,
          80,
          55,
          55,
          80,
          55,
          55,
          80,
          80,
          55,
          80,
          55,
          55,
          80,
          80,
          80,
          80,
          80,
          80,
          80,
          80,
          80,
          55,
          55,
          55,
          55,
          80,
          55,
          55,
          80,
          55,
          55,
          80,
          80,
          80,
          80,
          80,
          80,
          80,
          80,
          55,
          55,
          55,
          80,
          55,
          80,
          55,
          55,
          80,
          80,
          55,
          80,
          80,
          80,
          55,
          55,
          55,
          55,
          80,
          80,
          55,
          55,
          80,
          80,
          80,
          80,
          80,
          55,
          55,
          55,
          55,
          80,
          80,
          80,
          80,
          55,
          55,
          80,
          80,
          80,
          80,
          55,
          80,
          80,
          80,
          55,
          55,
          80,
          55,
          80,
          80,
          55,
          55,
          80,
          80,
          80,
          80,
          80,
          80,
          80,
          80,
          80,
          55,
          55,
          55,
          55,
          55,
          80,
          55,
          55,
          80,
          55,
          55,
          80,
          80,
          80,
          80,
          80,
          55,
          80,
          80,
          80,
          55,
          55,
          55,
          55,
          80,
          55,
          55,
          80,
          80,
          80,
          80,
          80,
          55,
          80,
          80,
          80,
          55,
          55,
          80,
          55,
          55,
          80,
          80,
          80,
          55,
          55,
          55,
          80,
          55,
          55,
          80,
          80,
          80,
          80,
          55,
          55,
          55,
          55,
          55,
          80,
          80,
          55,
          55,
          80,
          80,
          55,
          80,
          80,
          80,
          55,
          55,
          55,
          55,
          80,
          80,
          55,
          55,
          80,
          80,
          55,
          55,
          80,
          80,
          80,
          80,
          55,
          80,
          55,
          55,
          55,
          55,
          55,
          80,
          80,
          55,
          55,
          80,
          80,
          80,
          80,
          55,
          55,
          55,
          55,
          80,
          55,
          55,
          80,
          80,
          80,
          80,
          55,
          80,
          80,
          80,
          55,
          55,
          55,
          80,
          80,
          55,
          55,
          55,
          80,
          55,
          55,
          55,
          80,
          80,
          55,
          55,
          55,
          80,
          80,
          80,
          80,
          55,
          80,
          80,
          55,
          55,
          80,
          80,
          55,
          55,
          80,
          55,
          80,
          55,
          80,
          80,
          55,
          80,
          80,
          80,
          80,
          55,
          55,
          80,
          55,
          55,
          80,
          80,
          55,
          80,
          80,
          55,
          55,
          80,
          55,
          55,
          80,
          80,
          80,
          80,
          80,
          80,
          80,
          80,
          80,
          55,
          55,
          55,
          55,
          55,
          80,
          55,
          55,
          80,
          80,
          55,
          55,
          55,
          80,
          80,
          55,
          80,
          80,
          80,
          55,
          55,
          55,
          55,
          55,
          55,
          80,
          80,
          80,
          80,
          55,
          80,
          80,
          80,
          80,
          80,
          55,
          55,
          55,
          80,
          80,
          55,
          55,
          80,
          80,
          80,
          80,
          80,
          80,
          55,
          55,
          80,
          80,
          55,
          55,
          80,
          55,
          80,
          80,
          55,
          55,
          80,
          80,
          55,
          80,
          55,
          55,
          55,
          80,
          80,
          80,
          80,
          55,
          55,
          80,
          80,
          80,
          80,
          80,
          80,
          80,
          80,
          55,
          55,
          55,
          55,
          55,
          55,
          80,
          55,
          55,
          80,
          80,
          80,
          55,
          80,
          80,
          55,
          80,
          55,
          80,
          80,
          55,
          55,
          80,
          80,
          80,
          80,
          80,
          80,
          80,
          55,
          55,
          80,
          55,
          80,
          80,
          55,
          55,
          80,
          80,
          80,
          80,
          80,
          80,
          80,
          55,
          55,
          55,
          55,
          55,
          55,
          80,
          80,
          55,
          55,
          55,
          80,
          80,
          80,
          80,
          80,
          80,
          80,
          80,
          80,
          55,
          55,
          55,
          55,
          55,
          80,
          80,
          55,
          80,
          80,
          80,
          55,
          55,
          55,
          80,
          55,
          55,
          80,
          80,
          80,
          80,
          80,
          55,
          80,
          80,
          80,
          55,
          55,
          55,
          80,
          55,
          55,
          80,
          80,
          80,
          80,
          80,
          55,
          80,
          80,
          80,
          80,
          80,
          80,
          55,
          80,
          55,
          80,
          55,
          80,
          80,
          80,
          80,
          80,
          80,
          80,
          80,
          55,
          55,
          55,
          55,
          80,
          55,
          55,
          55,
          55,
          80,
          80,
          80,
          80,
          80,
          80,
          55,
          55,
          55,
          55,
          55,
          80,
          80,
          55,
          55,
          80,
          80,
          80,
          80,
          55,
          80,
          80,
          80,
          80,
          80,
          55,
          55,
          55,
          55,
          80,
          80,
          55,
          55,
          80,
          80,
          55,
          80,
          55,
          55,
          80,
          80,
          80,
          80,
          80,
          80,
          80,
          80,
          80,
          55,
          55,
          55,
          55,
          55,
          80,
          55,
          55,
          80,
          80,
          55,
          55,
          80,
          80,
          80,
          80,
          80,
          55,
          80,
          80,
          80,
          55,
          55,
          55,
          55,
          80,
          80,
          55,
          55,
          55,
          80,
          80,
          55,
          80,
          80,
          80,
          80,
          80,
          55,
          80,
          55,
          55,
          80,
          80,
          55,
          55,
          80,
          80,
          80,
          80,
          80,
          55,
          80,
          80,
          80,
          80,
          80,
          80,
          55,
          80,
          80,
          80,
          55,
          80,
          80,
          80,
          80,
          80,
          55,
          55,
          55,
          55,
          80,
          80,
          80,
          55,
          55,
          80,
          80,
          80,
          80,
          80,
          55,
          80,
          80,
          80,
          80,
          80,
          55,
          80,
          55,
          55,
          80,
          55,
          55,
          80,
          80,
          80,
          80,
          55,
          80,
          80,
          80,
          55,
          55,
          80,
          55,
          80,
          55,
          80,
          80,
          80,
          80,
          80,
          80,
          80,
          80,
          55,
          55,
          55,
          55,
          55,
          55,
          80,
          55,
          55,
          80,
          80,
          55,
          80,
          80,
          80,
          55,
          55,
          55,
          55,
          55,
          80,
          55,
          55,
          80,
          80,
          80,
          80,
          55,
          80,
          80,
          80,
          80,
          55,
          80,
          55,
          80,
          80,
          80,
          80,
          55,
          55,
          55,
          80,
          55,
          55,
          80,
          80,
          80,
          55,
          55,
          80,
          80,
          55,
          55,
          80,
          80,
          80,
          80,
          55,
          80,
          80,
          80,
          55,
          55,
          55,
          80,
          80,
          55,
          55,
          80,
          80,
          80,
          80,
          80,
          80,
          80,
          80,
          55,
          55,
          55,
          55,
          80,
          80,
          55,
          55,
          80,
          80,
          80,
          80,
          55,
          55,
          55,
          55,
          80,
          80,
          55,
          80,
          80,
          80,
          80,
          55,
          80,
          80,
          80,
          80,
          55,
          55,
          80,
          80,
          80,
          80,
          80,
          80,
          80,
          80,
          55,
          80,
          80,
          80,
          80,
          80,
          80,
          80,
          80,
          80,
          80,
          55,
          80,
          80,
          80,
          80,
          80,
          80,
          80,
          80,
          80,
          80,
          80,
          80,
          80,
          80,
          80,
          80,
          80,
          80,
          80,
          80,
          80,
          80,
          80,
          80,
          80,
          80,
          80,
          80,
          55,
          80,
          80,
          80,
          80,
          80,
          80,
          80,
          80,
          80,
          80,
          55,
          80,
          80,
          80,
          55,
          55,
          80,
          80,
          80,
          80,
          80,
          80,
          80,
          80,
          80,
          80,
          55,
          80,
          80,
          80,
          80,
          80,
          80,
          80,
          80,
          80,
          80,
          80,
          80,
          55,
          80,
          80,
          80,
          80,
          80,
          80,
          80,
          80,
          80,
          55,
          80,
          80,
          80,
          80,
          80,
          80,
          80,
          80,
          80,
          80,
          80,
          55,
          80,
          80,
          80,
          55,
          80,
          55,
          80,
          80,
          55,
          80,
          80,
          80,
          80,
          80,
          80,
          80,
          80,
          55,
          80,
          80,
          80,
          55,
          80,
          80,
          55,
          80,
          80,
          80,
          80,
          80,
          80,
          80,
          80,
          80,
          80,
          80,
          80,
          80,
          55,
          80,
          80,
          80,
          80,
          80,
          80,
          80,
          80,
          80,
          80,
          80,
          80,
          55,
          80,
          80,
          80,
          80,
          55,
          80,
          55,
          80,
          80,
          80,
          80,
          80,
          80,
          80,
          80,
          80,
          80,
          80,
          80,
          80,
          80,
          80,
          80,
          80,
          80,
          80,
          80,
          80,
          80,
          80,
          80,
          80,
          80,
          80,
          80,
          80,
          80,
          55,
          80,
          80,
          80,
          80,
          80,
          80,
          80,
          80,
          55,
          80,
          80,
          80,
          80,
          80,
          80,
          80,
          80,
          80,
          80,
          80,
          80,
          80,
          80,
          80,
          80,
          80,
          55,
          80,
          80,
          80,
          80,
          80,
          80,
          80,
          80,
          80,
          80,
          80,
          55,
          80,
          80,
          55,
          80,
          80,
          80,
          80,
          80,
          80,
          80,
          55,
          80,
          80,
          80,
          55,
          80,
          80,
          80,
          80,
          80,
          80,
          80,
          80,
          80,
          55,
          80,
          80,
          80,
          80,
          80,
          80,
          80,
          80,
          80,
          80,
          80,
          80,
          55,
          80,
          55,
          55,
          80,
          80,
          80,
          80,
          80,
          80,
          80,
          55,
          80,
          80,
          80,
          55,
          80,
          80,
          80,
          80,
          80,
          55,
          80,
          80,
          80,
          55,
          80,
          80,
          80,
          80,
          80,
          80,
          80,
          80,
          80,
          80,
          80,
          55,
          80,
          80,
          80,
          80,
          80,
          80,
          80,
          80,
          80,
          80,
          80,
          80,
          55,
          80,
          55,
          80,
          80,
          55,
          80,
          80,
          80,
          80,
          80,
          80,
          80,
          55,
          80,
          55,
          80,
          80,
          80,
          80,
          55,
          80,
          80,
          80,
          55,
          80,
          80,
          80,
          80,
          80,
          80,
          80,
          80,
          80,
          80,
          80,
          80,
          80,
          80,
          80,
          80,
          80,
          80,
          80,
          80,
          80,
          80,
          80,
          55,
          80,
          80,
          80,
          80,
          80,
          80,
          80,
          80,
          80,
          80,
          80,
          80,
          80,
          80,
          80,
          80,
          55,
          80,
          80,
          80,
          55,
          80,
          80,
          80,
          80,
          80,
          80,
          80,
          80,
          80,
          55,
          80,
          80,
          80,
          80,
          80,
          80,
          80,
          80,
          80,
          80,
          80,
          55,
          80,
          80,
          80,
          80,
          80,
          80,
          80,
          80,
          80,
          55,
          80,
          55,
          80,
          80,
          55,
          80,
          80,
          80,
          80,
          80,
          80,
          55,
          80,
          80,
          80,
          55,
          80,
          80,
          80,
          55,
          80,
          80,
          80,
          80,
          80,
          80,
          80,
          80,
          80,
          55,
          80,
          80,
          55,
          80,
          80,
          55,
          80,
          80,
          80,
          80,
          80,
          55,
          80,
          80,
          80,
          55,
          80,
          80,
          80,
          55,
          80,
          80,
          80,
          80,
          80,
          80,
          80,
          80,
          55,
          80,
          80,
          80,
          80,
          80,
          80,
          80,
          80,
          80,
          55,
          80,
          80,
          80,
          55,
          80,
          80,
          80,
          55,
          80,
          80,
          80,
          80,
          80,
          80,
          80,
          80,
          55,
          80,
          80,
          80,
          80,
          80,
          80,
          80,
          80,
          80,
          80,
          80,
          80,
          80,
          55,
          55,
          80,
          80,
          80,
          80,
          80,
          80,
          80,
          80,
          55,
          80,
          80,
          80,
          55,
          80,
          80,
          80,
          80,
          80,
          80,
          80,
          80,
          55,
          80,
          55,
          55,
          80,
          80,
          80,
          80,
          80,
          55,
          80,
          80,
          80,
          80,
          80,
          80,
          80,
          80,
          80,
          80,
          80,
          80,
          80,
          80,
          80,
          55,
          80,
          80,
          80,
          80,
          80,
          80,
          80,
          80,
          80,
          80,
          80,
          55,
          55,
          55,
          80,
          80,
          55,
          80,
          80,
          80,
          80,
          80,
          80,
          80,
          80,
          80,
          80,
          80,
          55,
          80,
          80,
          80,
          55,
          80,
          80,
          80,
          80,
          80,
          80,
          80,
          80,
          80,
          80,
          80,
          80,
          80,
          80,
          55,
          80,
          80,
          80,
          55,
          80,
          55,
          80,
          55,
          80,
          80,
          80,
          80,
          55,
          80,
          80,
          80,
          55,
          80,
          55,
          55,
          80,
          80,
          80,
          80,
          80,
          80,
          80,
          55,
          80,
          80,
          80,
          80,
          80,
          55,
          80,
          80,
          80,
          80,
          80,
          80,
          80,
          80,
          55,
          80,
          55,
          80,
          80,
          80,
          80,
          80,
          80,
          80,
          80,
          80,
          80,
          80,
          55,
          80,
          55,
          80,
          80,
          80,
          80,
          80,
          80,
          80,
          80,
          55,
          80,
          80,
          55,
          55,
          80,
          80,
          80,
          80,
          80,
          80,
          80,
          80,
          55,
          80,
          80,
          80,
          80,
          80,
          80,
          80,
          80,
          80,
          80,
          80,
          80,
          80,
          80,
          80,
          80,
          80,
          80,
          80,
          80,
          80,
          80,
          80,
          80,
          80,
          80,
          80,
          80,
          80,
          80,
          80,
          80,
          80,
          80,
          80,
          80,
          80,
          80,
          80,
          55,
          80,
          80,
          80,
          55,
          80,
          80,
          80,
          80,
          80,
          80,
          80,
          80,
          80,
          80,
          80,
          55,
          80,
          80,
          55,
          80,
          80,
          80,
          80,
          80,
          80,
          80,
          80,
          80,
          80,
          55,
          80,
          80,
          80,
          80,
          80,
          80,
          80,
          80,
          80,
          80,
          80,
          55,
          80,
          80,
          80,
          55,
          80,
          80,
          80,
          80,
          80,
          80,
          80,
          80,
          80,
          55,
          55,
          80,
          80,
          80,
          80,
          80,
          80,
          80,
          80,
          80,
          80,
          80,
          80,
          80,
          80,
          80,
          80,
          80,
          80,
          80,
          55,
          80,
          80,
          80,
          80,
          80,
          80,
          80,
          80,
          55,
          80,
          80,
          80,
          55,
          80,
          80,
          80,
          80,
          80,
          80,
          80,
          80,
          80,
          55,
          80,
          80,
          80,
          80,
          80,
          80,
          80,
          80,
          80,
          55,
          80,
          80,
          55,
          80,
          80,
          80,
          80,
          80,
          80,
          80,
          80,
          80,
          55,
          80,
          80,
          80,
          80,
          80,
          80,
          80,
          80,
          80,
          80,
          80,
          80,
          80,
          55,
          80,
          80,
          80,
          80,
          55,
          80,
          80,
          80,
          80,
          80,
          80,
          80,
          80,
          80,
          80,
          80,
          55,
          80,
          80,
          80,
          80,
          80,
          80,
          80,
          55,
          80,
          80,
          80,
          55,
          80,
          80,
          80,
          80,
          80,
          80,
          80,
          80,
          55,
          80,
          80,
          80,
          80,
          55,
          80,
          80,
          80,
          80,
          80,
          80,
          80,
          80,
          80,
          80,
          80,
          80,
          80,
          55,
          80,
          80,
          80,
          80,
          55,
          80,
          80,
          55,
          80,
          80,
          80,
          80,
          80,
          55,
          80,
          80,
          80,
          55,
          80,
          80,
          55,
          55,
          80,
          80,
          80,
          80,
          80,
          80,
          80,
          55,
          55,
          80,
          80,
          80,
          80,
          80,
          80,
          80,
          80,
          80,
          80,
          80,
          80,
          80,
          80,
          80,
          80,
          80,
          80,
          55,
          80,
          55,
          80,
          80,
          80,
          80,
          80,
          80,
          80,
          80,
          55,
          80,
          80,
          55,
          80,
          80,
          80,
          80,
          80,
          80,
          80,
          80,
          80,
          80,
          80,
          55,
          80,
          80,
          80,
          80,
          80,
          80,
          80,
          80,
          80,
          80,
          80,
          80,
          80,
          80,
          80,
          55,
          80,
          80,
          80,
          55,
          55,
          80,
          80,
          80,
          80,
          80,
          80,
          80,
          80,
          55,
          80,
          55,
          55,
          80,
          80,
          80,
          80,
          80,
          80,
          55,
          80,
          80,
          80,
          80,
          80,
          80,
          80,
          80,
          80,
          55,
          80,
          80,
          80,
          80,
          80,
          80,
          80,
          80,
          80,
          80,
          80,
          80,
          55,
          80,
          80,
          55,
          80,
          80,
          80,
          80,
          80,
          55,
          80,
          80,
          80,
          80,
          55,
          80,
          80,
          80,
          80,
          80,
          80,
          80,
          80,
          80,
          80,
          80,
          80,
          80,
          55,
          80,
          80,
          80,
          80,
          80,
          80,
          55,
          80,
          80,
          80,
          55,
          80,
          55,
          80,
          80,
          80,
          80,
          80,
          80,
          80,
          80,
          55,
          80,
          55,
          80,
          80,
          55,
          80,
          80,
          80,
          80,
          80,
          80,
          80,
          80,
          80,
          55,
          80,
          80,
          80,
          80,
          80,
          80,
          80,
          80,
          80,
          80,
          80,
          80,
          80,
          80,
          80,
          80,
          55,
          80,
          80,
          80,
          80,
          80,
          80,
          55,
          55,
          80,
          80,
          80,
          80,
          80,
          80,
          80,
          80,
          80,
          80,
          80,
          80,
          80,
          80,
          80,
          80,
          80,
          80,
          80,
          80,
          80,
          80,
          80,
          80,
          80,
          55,
          80,
          80,
          80,
          80,
          80,
          80,
          80,
          80,
          80,
          80,
          80,
          80,
          80,
          80,
          80,
          55,
          55,
          80,
          80,
          80,
          80,
          80,
          80,
          80,
          80,
          55,
          80,
          80,
          80,
          55,
          80,
          80,
          80,
          80,
          80,
          80,
          80,
          80,
          80,
          80,
          80,
          55,
          80,
          80,
          80,
          80,
          80,
          80,
          80,
          80,
          80,
          80,
          80,
          80,
          80,
          80,
          80,
          80,
          55,
          80,
          80,
          80,
          80,
          80,
          80,
          80,
          80,
          80,
          80,
          80,
          55,
          80,
          80,
          80,
          55,
          80,
          80,
          80,
          80,
          80,
          80,
          80,
          55,
          80,
          80,
          80,
          80,
          80,
          80,
          55,
          80,
          80,
          80,
          80,
          80,
          80,
          80,
          80,
          80,
          80,
          80,
          80,
          80,
          80,
          55,
          80,
          80,
          80,
          80,
          80,
          80,
          80,
          80,
          80,
          55,
          80,
          55,
          55,
          80,
          80,
          80,
          80,
          55,
          80,
          80,
          80,
          80,
          55,
          80,
          80,
          80,
          80,
          55,
          55,
          80,
          80,
          80,
          80,
          80,
          80,
          80,
          80,
          80,
          80,
          55,
          80,
          80,
          80,
          80,
          55,
          55,
          80,
          80,
          80,
          80,
          80,
          80,
          80,
          80,
          80,
          80,
          80,
          55,
          80,
          80,
          80,
          55,
          80,
          80,
          80,
          80,
          80,
          80,
          80,
          80,
          80,
          80,
          80,
          80,
          80,
          55,
          80,
          80,
          80,
          80,
          80,
          80,
          80,
          80,
          55,
          80,
          80,
          55,
          55,
          80,
          80,
          80,
          80,
          80,
          80,
          80,
          80,
          55,
          80,
          80,
          55,
          80,
          80,
          80,
          55,
          80,
          80,
          80,
          80,
          80,
          80,
          80,
          80,
          55,
          80,
          80,
          80,
          55,
          80,
          80,
          55,
          80,
          80,
          80,
          80,
          80,
          80,
          80,
          80,
          55,
          80,
          80,
          80,
          80,
          80,
          80,
          80,
          55,
          55,
          55,
          80,
          30,
          80,
          55,
          80,
          55,
          30,
          55,
          55,
          80,
          55,
          55,
          55,
          30,
          80,
          30,
          80,
          55,
          30,
          55,
          55,
          55,
          80,
          80,
          55,
          55,
          80,
          30,
          30,
          30,
          80,
          55,
          30,
          55,
          80,
          55,
          80,
          55,
          80,
          55,
          80,
          55,
          80,
          30,
          80,
          55,
          30,
          55,
          55,
          55,
          55,
          30,
          80,
          55,
          55,
          30,
          30,
          55,
          30,
          30,
          80,
          55,
          55,
          55,
          55,
          30,
          80,
          55,
          55,
          80,
          55,
          30,
          55,
          55,
          55,
          80,
          55,
          80,
          80,
          55,
          80,
          80,
          55,
          30,
          55,
          80,
          55,
          55,
          55,
          55,
          80,
          30,
          55,
          30,
          55,
          55,
          80,
          55,
          80,
          80,
          55,
          80,
          55,
          55,
          55,
          30,
          55,
          55,
          80,
          80,
          55,
          55,
          30,
          80,
          55,
          80,
          30,
          30,
          80,
          80,
          80,
          55,
          30,
          55,
          55,
          55,
          30,
          55,
          80,
          80,
          55,
          55,
          80,
          30,
          80,
          55,
          80,
          55,
          55,
          55,
          80,
          55,
          80,
          55,
          80,
          55,
          55,
          80,
          30,
          30,
          80,
          55,
          30,
          80,
          55,
          55,
          80,
          55,
          80,
          55,
          30,
          55,
          55,
          80,
          80,
          55,
          55,
          80,
          30,
          80,
          55,
          80,
          30,
          80,
          55,
          80,
          80,
          30,
          55,
          30,
          30,
          80,
          55,
          55,
          30,
          30,
          30,
          80,
          80,
          30,
          80,
          55,
          80,
          55,
          80,
          80,
          55,
          30,
          80,
          55,
          30,
          80,
          30,
          80,
          80,
          80,
          30,
          30,
          80,
          30,
          55,
          30,
          30,
          80,
          80,
          55,
          30,
          80,
          80,
          80,
          30,
          30,
          30,
          30,
          30,
          55,
          30,
          80,
          80,
          55,
          80,
          80,
          30,
          30,
          30,
          55,
          80,
          80,
          80,
          80,
          55,
          55,
          30,
          30,
          80,
          30,
          55,
          55,
          55,
          30,
          80,
          80,
          55,
          80,
          80,
          30,
          55,
          30,
          30,
          80,
          55,
          30,
          30,
          30,
          80,
          80,
          80,
          80,
          80,
          80,
          30,
          30,
          30,
          80,
          30,
          55,
          30,
          30,
          80,
          80,
          80,
          80,
          55,
          80,
          80,
          55,
          55,
          30,
          55,
          30,
          30,
          80,
          30,
          80,
          80,
          80,
          80,
          30,
          30,
          80,
          55,
          30,
          30,
          80,
          55,
          80,
          55,
          55,
          30,
          80,
          55,
          80,
          30,
          55,
          30,
          30,
          30,
          80,
          30,
          55,
          30,
          80,
          80,
          80,
          55,
          80,
          55,
          55,
          30,
          30,
          80,
          30,
          55,
          30,
          80,
          80,
          55,
          80,
          30,
          80,
          55,
          30,
          30,
          80,
          55,
          30,
          30,
          30,
          80,
          30,
          55,
          80,
          55,
          80,
          80,
          30,
          30,
          80,
          55,
          30,
          30,
          30,
          55,
          30,
          80,
          80,
          55,
          80,
          80,
          30,
          55,
          30,
          30,
          55,
          30,
          30,
          30,
          80,
          80,
          80,
          30,
          30,
          30,
          80,
          55,
          30,
          30,
          55,
          30,
          30,
          80,
          55,
          80,
          80,
          80,
          55,
          30,
          30,
          55,
          30,
          30,
          30,
          30,
          80,
          80,
          55,
          80,
          30,
          30,
          30,
          80,
          55,
          55,
          30,
          30,
          80,
          55,
          30,
          80,
          80,
          55,
          30,
          30,
          80,
          30,
          30,
          30,
          30,
          80,
          55,
          30,
          80,
          55,
          55,
          80,
          55,
          80,
          55,
          30,
          80,
          30,
          30,
          80,
          80,
          80,
          80,
          55,
          55,
          30,
          55,
          30,
          30,
          30,
          55,
          30,
          80,
          55,
          55,
          80,
          80,
          80,
          30,
          55,
          80,
          30,
          80,
          55,
          55,
          80,
          55,
          80,
          80,
          30,
          55,
          30,
          80,
          55,
          30,
          30,
          80,
          30,
          30,
          80,
          80,
          80,
          55,
          30,
          30,
          80,
          80,
          55,
          80,
          55,
          80,
          80,
          30,
          30,
          80,
          55,
          30,
          30,
          30,
          30,
          80,
          80,
          80,
          80,
          80,
          55,
          55,
          30,
          30,
          80,
          80,
          30,
          30,
          55,
          30,
          80,
          80,
          30,
          55,
          30,
          30,
          80,
          55,
          55,
          30,
          30,
          80,
          55,
          80,
          30,
          30,
          30,
          30,
          80,
          30,
          80,
          55,
          55,
          30,
          80,
          55,
          80,
          80,
          30,
          55,
          30,
          30,
          80,
          55,
          30,
          30,
          30,
          80,
          30,
          55,
          30,
          30,
          80,
          80,
          80,
          30,
          80,
          30,
          30,
          80,
          30,
          80,
          80,
          30,
          30,
          55,
          30,
          80,
          55,
          30,
          80,
          80,
          80,
          55,
          80,
          80,
          55,
          55,
          30,
          30,
          30,
          30,
          55,
          30,
          55,
          30,
          80,
          80,
          55,
          30,
          30,
          80,
          30,
          55,
          30,
          30,
          80,
          30,
          80,
          80,
          80,
          80,
          55,
          55,
          30,
          55,
          30,
          80,
          80,
          80,
          30,
          55,
          30,
          30,
          80,
          30,
          55,
          55,
          30,
          30,
          55,
          30,
          80,
          80,
          30,
          30,
          80,
          30,
          55,
          55,
          30,
          80,
          80,
          80,
          80,
          80,
          55,
          55,
          30,
          30,
          80,
          55,
          30,
          55,
          30,
          80,
          55,
          80,
          80,
          30,
          30,
          30,
          30,
          55,
          30,
          30,
          30,
          80,
          80,
          80,
          55,
          80,
          80,
          55,
          55,
          55,
          30,
          80,
          30,
          80,
          80,
          55,
          80,
          80,
          30,
          30,
          30,
          80,
          30,
          55,
          30,
          80,
          80,
          80,
          80,
          55,
          80,
          80,
          55,
          55,
          30,
          30,
          30,
          80,
          30,
          55,
          30,
          30,
          55,
          55,
          30,
          30,
          80,
          55,
          55,
          30,
          80,
          80,
          55,
          80,
          55,
          30,
          30,
          30,
          30,
          80,
          80,
          55,
          80,
          80,
          30,
          30,
          30,
          80,
          55,
          55,
          30,
          30,
          30,
          30,
          80,
          55,
          30,
          30,
          80,
          80,
          80,
          55,
          80,
          80,
          55,
          55,
          30,
          55,
          30,
          30,
          80,
          30,
          55,
          30,
          30,
          80,
          55,
          55,
          30,
          30,
          80,
          55,
          80,
          55,
          80,
          30,
          30,
          30,
          30,
          30,
          55,
          30,
          80,
          30,
          55,
          30,
          30,
          30,
          55,
          30,
          80,
          80,
          80,
          55,
          80,
          55,
          55,
          30,
          55,
          80,
          30,
          55,
          30,
          30,
          80,
          55,
          30,
          80,
          80,
          80,
          55,
          55,
          55,
          30,
          55,
          30,
          30,
          80,
          30,
          55,
          80,
          80,
          55,
          55,
          55,
          30,
          30,
          30,
          55,
          80,
          80,
          55,
          80,
          80,
          80,
          30,
          30,
          30,
          80,
          30,
          30,
          30,
          30,
          30,
          80,
          30,
          80,
          80,
          80,
          30,
          30,
          55,
          30,
          30,
          30,
          80,
          55,
          55,
          30,
          30,
          80,
          80,
          80,
          55,
          80,
          30,
          55,
          30,
          30,
          80,
          55,
          55,
          30,
          30,
          80,
          80,
          30,
          30,
          30,
          80,
          30,
          55,
          55,
          30,
          30,
          80,
          80,
          30,
          80,
          80,
          30,
          55,
          80,
          55,
          30,
          80,
          80,
          55,
          55,
          30,
          30,
          55,
          80,
          55,
          80,
          55,
          80,
          30,
          30,
          30,
          55,
          30,
          30,
          30,
          55,
          80,
          55,
          30,
          30,
          80,
          30,
          30,
          55,
          30,
          80,
          80,
          80,
          55,
          80,
          80,
          55,
          30,
          30,
          30,
          30,
          55,
          30,
          55,
          55,
          30,
          30,
          80,
          80,
          55,
          80,
          80,
          30,
          55,
          80,
          30,
          55,
          30,
          30,
          80,
          80,
          30,
          80,
          55,
          80,
          55,
          80,
          80,
          30,
          55,
          55,
          30,
          80,
          30,
          80,
          30,
          30,
          30,
          80,
          55,
          30,
          55,
          30,
          30,
          80,
          55,
          80,
          80,
          30,
          30,
          30,
          55,
          30,
          30,
          30,
          55,
          80,
          80,
          80,
          55,
          80,
          55,
          55,
          30,
          30,
          30,
          80,
          30,
          55,
          30,
          55,
          30,
          80,
          55,
          80,
          80,
          30,
          55,
          30,
          30,
          80,
          30,
          55,
          30,
          30,
          80,
          80,
          55,
          80,
          55,
          30,
          30,
          30,
          30,
          30,
          80,
          55,
          80,
          80,
          30,
          30,
          80,
          55,
          30,
          30,
          30,
          30,
          80,
          80,
          80,
          80,
          55,
          80,
          30,
          55,
          80,
          55,
          80,
          80,
          30,
          55,
          30,
          30,
          80,
          55,
          30,
          30,
          80,
          30,
          80,
          55,
          30,
          80,
          30,
          80,
          55,
          30,
          30,
          80,
          80,
          80,
          30,
          30,
          80,
          55,
          30,
          30,
          30,
          80,
          55,
          80,
          55,
          80,
          80,
          30,
          30,
          30,
          80,
          55,
          30,
          30,
          55,
          30,
          80,
          80,
          30,
          55,
          30,
          30,
          80,
          30,
          55,
          55,
          30,
          30,
          55,
          80,
          55,
          30,
          55,
          30,
          30,
          80,
          55,
          30,
          80,
          30,
          30,
          80,
          80,
          55,
          80,
          80,
          30,
          55,
          55,
          30,
          30,
          80,
          80,
          80,
          80,
          55,
          30,
          55,
          30,
          30,
          55,
          30,
          30,
          80,
          80,
          80,
          55,
          80,
          80,
          55,
          55,
          30,
          55,
          30,
          30,
          80,
          80,
          80,
          55,
          80,
          55,
          30,
          30,
          30,
          30,
          80,
          30,
          55,
          30,
          30,
          80,
          30,
          55,
          55,
          30,
          80,
          55,
          80,
          55,
          30,
          30,
          30,
          30,
          80,
          55,
          80,
          30,
          55,
          30,
          30,
          80,
          30,
          55,
          30,
          30,
          80,
          80,
          55,
          80,
          80,
          80,
          55,
          30,
          30,
          55,
          30,
          30,
          55,
          30,
          80,
          80,
          30,
          55,
          80,
          80,
          80,
          80,
          55,
          30,
          80,
          55,
          30,
          30,
          80,
          30,
          80,
          30,
          55,
          80,
          80,
          80,
          80,
          80,
          30,
          80,
          80,
          80,
          80,
          30,
          80,
          80,
          55,
          55,
          30,
          55,
          30,
          80,
          30,
          80,
          80,
          55,
          30,
          80,
          55,
          80,
          80,
          30,
          55,
          80,
          80,
          80,
          55,
          30,
          55,
          30,
          55,
          30,
          55,
          30,
          80,
          30,
          55,
          80,
          80,
          80,
          80,
          80,
          30,
          80,
          80,
          30,
          55,
          80,
          80,
          80,
          80,
          80,
          30,
          80,
          80,
          30,
          80,
          55,
          80,
          30,
          80,
          80,
          30,
          55,
          30,
          80,
          80,
          80,
          80,
          80,
          30,
          80,
          80,
          30,
          55,
          80,
          55,
          30,
          80,
          80,
          30,
          55,
          80,
          80,
          80,
          30,
          80,
          80,
          80,
          80,
          55,
          30,
          30,
          55,
          80,
          80,
          80,
          80,
          80,
          80,
          80,
          55,
          30,
          30,
          55,
          80,
          80,
          80,
          30,
          80,
          80,
          55,
          30,
          80,
          30,
          55,
          30,
          80,
          80,
          80,
          30,
          80,
          80,
          55,
          80,
          30,
          80,
          80,
          30,
          55,
          80,
          80,
          80,
          80,
          80,
          80,
          80,
          80,
          55,
          30,
          80,
          30,
          80,
          55,
          30,
          30,
          30,
          80,
          80,
          30,
          80,
          80,
          55,
          30,
          80,
          30,
          55,
          55,
          30,
          80,
          55,
          30,
          80,
          55,
          80,
          80,
          55,
          55,
          55,
          80,
          55,
          80,
          30,
          30,
          55,
          80,
          80,
          80,
          80,
          80,
          80,
          80,
          80,
          55,
          30,
          30,
          55,
          80,
          55,
          30,
          80,
          30,
          30,
          30,
          80,
          30,
          80,
          80,
          55,
          30,
          80,
          55,
          30,
          30,
          80,
          80,
          80,
          80,
          30,
          80,
          55,
          80,
          80,
          80,
          55,
          30,
          30,
          55,
          30,
          30,
          30,
          80,
          80,
          30,
          80,
          30,
          30,
          80,
          55,
          80,
          80,
          80,
          55,
          55,
          80,
          30,
          55,
          80,
          30,
          80,
          80,
          55,
          55,
          30,
          55,
          30,
          80,
          80,
          55,
          80,
          55,
          80,
          30,
          80,
          80,
          55,
          30,
          55,
          80,
          30,
          80,
          80,
          80,
          55,
          80,
          80,
          30,
          30,
          80,
          80,
          80,
          80,
          55,
          30,
          30,
          55,
          30,
          80,
          30,
          80,
          80,
          55,
          30,
          80,
          30,
          80,
          80,
          55,
          30,
          80,
          80,
          80,
          55,
          30,
          30,
          55,
          30,
          80,
          30,
          80,
          55,
          30,
          30,
          55,
          80,
          80,
          55,
          30,
          30,
          30,
          80,
          80,
          80,
          30,
          80,
          80,
          30,
          30,
          55,
          30,
          80,
          80,
          80,
          55,
          30,
          80,
          55,
          30,
          80,
          30,
          55,
          80,
          55,
          80,
          80,
          30,
          55,
          80,
          80,
          80,
          80,
          80,
          80,
          30,
          80,
          80,
          80,
          30,
          55,
          30,
          80,
          80,
          80,
          80,
          55,
          30,
          80,
          55,
          30,
          30,
          55,
          80,
          55,
          30,
          80,
          80,
          55,
          30,
          80,
          55,
          80,
          80,
          55,
          30,
          55,
          30,
          55,
          30,
          30,
          80,
          55,
          30,
          80,
          80,
          55,
          30,
          80,
          80,
          80,
          80,
          30,
          80,
          80,
          55,
          30,
          55,
          80,
          55,
          80,
          80,
          30,
          30,
          55,
          80,
          80,
          55,
          30,
          30,
          80,
          80,
          55,
          30,
          55,
          30,
          30,
          80,
          30,
          80,
          55,
          30,
          80,
          80,
          55,
          80,
          55,
          30,
          55,
          30,
          55,
          80,
          80,
          55,
          80,
          80,
          80,
          80,
          55,
          30,
          55,
          30,
          55,
          80,
          80,
          80,
          55,
          80,
          80,
          80,
          30,
          30,
          80,
          80,
          80,
          80,
          55,
          30,
          80,
          55,
          30,
          55,
          80,
          30,
          80,
          80,
          80,
          55,
          30,
          55,
          30,
          55,
          30,
          80,
          30,
          80,
          80,
          80,
          30,
          55,
          80,
          80,
          30,
          80,
          80,
          55,
          30,
          55,
          30,
          80,
          30,
          80,
          80,
          30,
          80,
          55,
          80,
          80,
          30,
          80,
          80,
          30,
          80,
          30,
          80,
          80,
          80,
          80,
          30,
          30,
          55,
          30,
          30,
          80,
          80,
          55,
          30,
          55,
          30,
          80,
          80,
          30,
          80,
          80,
          55,
          80,
          80,
          30,
          55,
          30,
          80,
          55,
          80,
          30,
          55,
          30,
          30,
          80,
          55,
          30,
          30,
          55,
          80,
          80,
          55,
          30,
          55,
          80,
          55,
          30,
          80,
          80,
          55,
          30,
          55,
          30,
          30,
          80,
          30,
          80,
          80,
          55,
          30,
          80,
          30,
          80,
          55,
          30,
          80,
          80,
          30,
          30,
          55,
          30,
          30,
          80,
          80,
          80,
          80,
          55,
          80,
          55,
          80,
          80,
          80,
          80,
          30,
          80,
          30,
          80,
          80,
          80,
          55,
          30,
          30,
          55,
          30,
          80,
          80,
          55,
          80,
          80,
          30,
          80,
          80,
          80,
          55,
          30,
          55,
          30,
          55,
          30,
          80,
          30,
          80,
          80,
          55,
          80,
          30,
          80,
          30,
          55,
          80,
          80,
          30,
          55,
          30,
          80,
          80,
          80,
          55,
          30,
          30,
          55,
          80,
          80,
          80,
          55,
          80,
          80,
          30,
          55,
          30,
          30,
          30,
          80,
          30,
          80,
          80,
          55,
          80,
          30,
          80,
          55,
          30,
          30,
          55,
          80,
          80,
          80,
          80,
          30,
          55,
          80,
          55,
          30,
          30,
          80,
          30,
          80,
          80,
          30,
          80,
          80,
          30,
          30,
          55,
          80,
          80,
          80,
          80,
          80,
          80,
          30,
          55,
          30,
          80,
          80,
          80,
          80,
          80,
          80,
          30,
          80,
          55,
          30,
          80,
          30,
          55,
          80,
          55,
          30,
          30,
          80,
          80,
          80,
          80,
          80,
          30,
          30,
          80,
          80,
          30,
          55,
          30,
          80,
          55,
          80,
          80,
          80,
          55,
          30,
          55,
          30,
          80,
          55,
          30,
          30,
          55,
          80,
          55,
          30,
          80,
          80,
          30,
          55,
          80,
          80,
          80,
          30,
          80,
          80,
          80,
          80,
          30,
          30,
          30,
          30,
          30,
          80,
          55,
          80,
          30,
          55,
          55,
          30,
          80,
          30,
          55,
          80,
          55,
          80,
          80,
          30,
          80,
          30,
          80,
          30,
          80,
          80,
          30,
          55,
          80,
          80,
          80,
          80,
          30,
          55,
          80,
          80,
          80,
          80,
          80,
          55,
          30,
          55,
          30,
          55,
          80,
          30,
          80,
          80,
          80,
          55,
          80,
          80,
          30,
          80,
          30,
          55,
          80,
          80,
          80,
          80,
          80,
          80,
          80,
          30,
          80,
          30,
          80,
          80,
          30,
          55,
          80,
          80,
          80,
          80,
          80,
          80,
          80,
          80,
          30,
          80,
          80,
          80,
          55,
          30,
          55,
          30,
          55,
          30,
          80,
          80,
          55,
          30,
          80,
          30,
          55,
          80,
          80,
          55,
          30,
          80,
          80,
          55,
          80,
          80,
          80,
          80,
          30,
          80,
          80,
          80,
          30,
          80,
          80,
          80,
          55,
          80,
          80,
          80,
          80,
          55,
          30,
          55,
          30,
          55,
          30,
          80,
          30,
          80,
          80,
          55,
          30,
          80,
          30,
          55,
          80,
          80,
          55,
          30,
          80,
          55,
          80,
          80,
          80,
          80,
          80,
          80,
          80,
          80,
          80,
          30,
          80,
          30,
          55,
          80,
          80,
          80,
          55,
          80,
          30,
          55,
          80,
          80,
          30,
          30,
          55,
          80,
          30,
          80,
          80,
          80,
          30,
          80,
          80,
          80,
          80,
          80,
          30,
          30,
          80,
          80,
          80,
          80,
          55,
          30,
          80,
          80,
          80,
          55,
          30,
          55,
          30,
          55,
          30,
          80,
          80,
          80,
          55,
          30,
          55,
          80,
          80,
          30,
          80,
          80,
          55,
          80,
          30,
          80,
          80,
          80,
          30,
          80,
          80,
          30,
          30,
          55,
          80,
          80,
          80,
          80,
          80,
          80,
          30,
          80,
          55,
          30,
          30,
          80,
          80,
          80,
          30,
          55,
          80,
          30,
          80,
          80,
          30,
          80,
          55,
          80,
          80,
          80,
          30,
          55,
          30,
          30,
          80,
          80,
          80,
          30,
          55,
          30,
          80,
          80,
          80,
          80,
          55,
          30,
          80,
          55,
          30,
          80,
          30,
          80,
          80,
          30,
          80,
          80,
          55,
          80,
          80,
          55,
          30,
          80,
          30,
          55,
          80,
          80,
          80,
          80,
          80,
          80,
          30,
          55,
          80,
          80,
          80,
          80,
          30,
          80,
          55,
          80,
          80,
          80,
          55,
          55,
          30,
          55,
          80,
          80,
          80,
          55,
          30,
          30,
          55,
          55,
          80,
          30,
          80,
          30,
          55,
          30,
          30,
          80,
          80,
          55,
          55,
          30,
          30,
          80,
          30,
          30,
          80,
          80,
          55,
          30,
          30,
          55,
          55,
          80,
          30,
          80,
          30,
          55,
          30,
          80,
          55,
          55,
          30,
          30,
          30,
          30,
          30,
          80,
          80,
          55,
          30,
          30,
          55,
          55,
          80,
          30,
          30,
          55,
          30,
          55,
          55,
          30,
          80,
          30,
          55,
          30,
          80,
          80,
          30,
          30,
          55,
          55,
          55,
          30,
          80,
          80,
          30,
          80,
          30,
          30,
          80,
          30,
          55,
          80,
          30,
          30,
          30,
          80,
          80,
          55,
          80,
          30,
          55,
          30,
          80,
          30,
          80,
          30,
          30,
          55,
          55,
          30,
          30,
          80,
          80,
          55,
          30,
          80,
          55,
          30,
          80,
          30,
          30,
          30,
          80,
          55,
          55,
          80,
          30,
          55,
          30,
          80,
          55,
          30,
          80,
          55,
          30,
          30,
          55,
          55,
          30,
          80,
          55,
          30,
          80,
          80,
          30,
          30,
          80,
          80,
          80,
          55,
          30,
          30,
          55,
          80,
          30,
          80,
          30,
          30,
          80,
          30,
          80,
          80,
          55,
          30,
          30,
          55,
          55,
          80,
          80,
          30,
          30,
          80,
          80,
          55,
          30,
          80,
          30,
          30,
          55,
          80,
          30,
          80,
          30,
          55,
          30,
          80,
          55,
          30,
          30,
          30,
          80,
          30,
          30,
          80,
          55,
          80,
          30,
          55,
          30,
          80,
          80,
          55,
          30,
          30,
          55,
          55,
          80,
          30,
          80,
          30,
          55,
          30,
          30,
          80,
          80,
          55,
          55,
          30,
          30,
          30,
          80,
          80,
          30,
          30,
          55,
          80,
          30,
          80,
          30,
          55,
          30,
          30,
          80,
          80,
          55,
          30,
          80,
          80,
          55,
          30,
          30,
          55,
          55,
          80,
          30,
          80,
          30,
          30,
          80,
          80,
          55,
          55,
          30,
          30,
          30,
          80,
          30,
          80,
          55,
          30,
          80,
          30,
          80,
          55,
          30,
          80,
          30,
          30,
          80,
          80,
          55,
          30,
          30,
          80,
          80,
          80,
          55,
          30,
          30,
          55,
          55,
          80,
          30,
          80,
          30,
          80,
          55,
          55,
          30,
          30,
          30,
          80,
          30,
          30,
          30,
          55,
          30,
          80,
          80,
          55,
          30,
          30,
          55,
          55,
          80,
          30,
          80,
          30,
          55,
          30,
          30,
          80,
          80,
          55,
          55,
          30,
          30,
          30,
          80,
          80,
          80,
          55,
          30,
          30,
          80,
          30,
          80,
          30,
          30,
          30,
          80,
          80,
          30,
          30,
          80,
          30,
          30,
          30,
          30,
          55,
          55,
          30,
          80,
          30,
          30,
          55,
          80,
          30,
          80,
          30,
          55,
          30,
          30,
          55,
          55,
          30,
          30,
          80,
          80,
          55,
          30,
          30,
          55,
          80,
          30,
          80,
          30,
          30,
          80,
          55,
          30,
          30,
          80,
          30,
          30,
          80,
          55,
          55,
          80,
          30,
          55,
          80,
          55,
          30,
          80,
          80,
          55,
          30,
          55,
          80,
          55,
          80,
          30,
          80,
          30,
          55,
          30,
          30,
          80,
          80,
          55,
          30,
          30,
          55,
          30,
          80,
          55,
          30,
          30,
          55,
          30,
          55,
          30,
          30,
          55,
          80,
          30,
          30,
          80,
          30,
          80,
          30,
          30,
          55,
          30,
          80,
          80,
          80,
          55,
          30,
          80,
          30,
          80,
          55,
          80,
          80,
          80,
          55,
          30,
          30,
          55,
          80,
          80,
          30,
          55,
          55,
          30,
          80,
          80,
          55,
          30,
          55,
          80,
          30,
          80,
          30,
          55,
          80,
          55,
          30,
          30,
          80,
          80,
          80,
          55,
          30,
          30,
          55,
          80,
          30,
          30,
          30,
          30,
          80,
          80,
          30,
          30,
          80,
          55,
          55,
          80,
          80,
          55,
          30,
          30,
          55,
          80,
          55,
          30,
          80,
          30,
          55,
          30,
          80,
          80,
          55,
          30,
          30,
          55,
          80,
          30,
          55,
          30,
          80,
          30,
          55,
          30,
          80,
          30,
          30,
          55,
          55,
          30,
          30,
          80,
          80,
          55,
          30,
          30,
          55,
          55,
          80,
          30,
          80,
          30,
          80,
          80,
          55,
          30,
          30,
          80,
          80,
          55,
          30,
          30,
          55,
          80,
          55,
          30,
          80,
          30,
          55,
          30,
          80,
          55,
          30,
          55,
          55,
          30,
          55,
          80,
          55,
          55,
          30,
          30,
          30,
          30,
          80,
          80,
          55,
          30,
          55,
          55,
          80,
          30,
          30,
          55,
          30,
          55,
          55,
          55,
          80,
          55,
          30,
          30,
          80,
          30,
          30,
          55,
          55,
          55,
          30,
          30,
          80,
          80,
          30,
          80,
          55,
          80,
          30,
          30,
          55,
          30,
          80,
          80,
          55,
          30,
          30,
          55,
          80,
          30,
          30,
          30,
          80,
          55,
          30,
          30,
          80,
          80,
          55,
          30,
          30,
          80,
          30,
          55,
          80,
          30,
          80,
          30,
          30,
          55,
          55,
          30,
          80,
          80,
          55,
          30,
          30,
          55,
          80,
          30,
          80,
          30,
          55,
          80,
          30,
          30,
          30,
          55,
          55,
          80,
          30,
          55,
          30,
          30,
          80,
          30,
          30,
          55,
          55,
          80,
          30,
          55,
          30,
          80,
          55,
          30,
          30,
          30,
          80,
          30,
          30,
          30,
          55,
          55,
          30,
          80,
          55,
          80,
          30,
          55,
          30,
          30,
          30,
          80,
          55,
          30,
          55,
          30,
          80,
          80,
          55,
          55,
          55,
          30,
          80,
          30,
          30,
          80,
          80,
          80,
          80,
          80,
          55,
          30,
          30,
          55,
          55,
          80,
          30,
          80,
          30,
          30,
          80,
          55,
          30,
          30,
          30,
          80,
          30,
          30,
          80,
          30,
          30,
          30,
          30,
          30,
          30,
          80,
          80,
          55,
          30,
          30,
          55,
          80,
          55,
          55,
          30,
          80,
          30,
          55,
          30,
          30,
          80,
          80,
          30,
          30,
          80,
          55,
          55,
          80,
          30,
          80,
          55,
          30,
          80,
          55,
          30,
          55,
          80,
          30,
          55,
          30,
          30,
          30,
          30,
          30,
          30,
          30,
          80,
          80,
          55,
          30,
          30,
          55,
          55,
          80,
          30,
          30,
          30,
          55,
          30,
          30,
          80,
          80,
          55,
          30,
          55,
          55,
          80,
          80,
          30,
          80,
          30,
          30,
          80,
          55,
          80,
          30,
          55,
          30,
          80,
          55,
          30,
          80,
          80,
          55,
          30,
          30,
          55,
          80,
          55,
          30,
          80,
          30,
          55,
          80,
          30,
          55,
          55,
          30,
          30,
          80,
          80,
          80,
          55,
          30,
          30,
          80,
          30,
          30,
          80,
          80,
          55,
          30,
          80,
          30,
          80,
          30,
          30,
          30,
          55,
          55,
          30,
          80,
          30,
          55,
          30,
          30,
          30,
          80,
          80,
          55,
          30,
          30,
          30,
          30,
          80,
          80,
          55,
          30,
          30,
          55,
          80,
          55,
          55,
          30,
          80,
          30,
          80,
          30,
          30,
          80,
          80,
          55,
          30,
          30,
          55,
          30,
          80,
          30,
          30,
          55,
          30,
          80,
          80,
          55,
          30,
          30,
          80,
          30,
          30,
          80,
          30,
          55,
          30,
          80,
          30,
          55,
          55,
          30,
          80,
          80,
          80,
          55,
          30,
          55,
          55,
          80,
          30,
          30,
          80,
          80,
          55,
          55,
          30,
          30,
          80,
          30,
          30,
          55,
          80,
          30,
          80,
          30,
          80,
          55,
          30,
          80,
          30,
          55,
          55,
          55,
          30,
          80,
          30,
          55,
          80,
          30,
          80,
          30,
          80,
          80,
          55,
          30,
          30,
          80,
          55,
          30,
          30,
          55,
          55,
          80,
          30,
          80,
          30,
          30,
          80,
          55,
          30,
          30,
          30,
          55,
          80,
          30,
          80,
          55,
          80,
          80,
          55,
          30,
          55,
          55,
          30,
          80,
          30,
          55,
          80,
          55,
          30,
          30,
          80,
          30,
          30,
          55,
          55,
          80,
          30,
          80,
          55,
          30,
          80,
          55,
          30,
          30,
          55,
          80,
          30,
          80,
          30,
          55,
          30,
          80,
          80,
          30,
          80,
          80,
          55,
          30,
          30,
          55,
          80,
          30,
          55,
          30,
          80,
          30,
          30,
          30,
          55,
          55,
          80,
          30,
          30,
          80,
          30,
          80,
          30,
          30,
          30,
          55,
          55,
          80,
          80,
          55,
          80,
          30,
          80,
          55,
          80,
          30,
          30,
          80,
          80,
          30,
          55,
          55,
          30,
          80,
          80,
          55,
          55,
          80,
          80,
          30,
          55,
          30,
          80,
          80,
          80,
          30,
          30,
          55,
          80,
          30,
          55,
          30,
          30,
          80,
          30,
          30,
          30,
          80,
          30,
          55,
          30,
          55,
          55,
          30,
          80,
          55,
          30,
          30,
          80,
          55,
          30,
          80,
          30,
          55,
          80,
          30,
          30,
          80,
          30,
          30,
          80,
          30,
          55,
          55
         ],
         "xaxis": "x",
         "yaxis": "y"
        },
        {
         "alignmentgroup": "True",
         "bingroup": "x",
         "hovertemplate": "Y=0<br>temperature=%{x}<br>count=%{y}<extra></extra>",
         "legendgroup": "0",
         "marker": {
          "color": "#EF553B",
          "pattern": {
           "shape": ""
          }
         },
         "name": "0",
         "offsetgroup": "0",
         "orientation": "v",
         "showlegend": true,
         "type": "histogram",
         "x": [
          80,
          80,
          80,
          80,
          80,
          55,
          55,
          80,
          80,
          80,
          80,
          80,
          80,
          55,
          55,
          55,
          80,
          55,
          80,
          55,
          80,
          80,
          80,
          55,
          55,
          80,
          55,
          55,
          80,
          55,
          55,
          55,
          55,
          55,
          80,
          55,
          55,
          55,
          80,
          80,
          80,
          80,
          55,
          55,
          55,
          80,
          80,
          80,
          55,
          55,
          55,
          80,
          55,
          55,
          80,
          80,
          55,
          80,
          80,
          80,
          80,
          80,
          55,
          55,
          80,
          55,
          80,
          55,
          80,
          80,
          80,
          80,
          80,
          80,
          80,
          55,
          55,
          55,
          80,
          55,
          55,
          55,
          80,
          80,
          80,
          80,
          55,
          55,
          80,
          55,
          55,
          80,
          55,
          55,
          55,
          80,
          80,
          80,
          80,
          55,
          80,
          55,
          55,
          80,
          80,
          55,
          80,
          80,
          80,
          55,
          55,
          55,
          80,
          80,
          55,
          80,
          80,
          80,
          55,
          80,
          80,
          80,
          55,
          55,
          55,
          80,
          55,
          55,
          80,
          55,
          80,
          80,
          55,
          80,
          55,
          80,
          80,
          80,
          80,
          55,
          55,
          80,
          55,
          55,
          80,
          55,
          55,
          80,
          80,
          80,
          80,
          55,
          55,
          55,
          80,
          55,
          80,
          55,
          80,
          80,
          80,
          80,
          80,
          55,
          55,
          55,
          80,
          55,
          80,
          55,
          80,
          80,
          80,
          80,
          55,
          80,
          55,
          80,
          80,
          80,
          80,
          55,
          55,
          55,
          55,
          80,
          55,
          80,
          80,
          80,
          80,
          80,
          55,
          55,
          80,
          55,
          80,
          80,
          80,
          80,
          80,
          80,
          80,
          80,
          55,
          80,
          55,
          55,
          80,
          55,
          80,
          80,
          80,
          80,
          80,
          55,
          55,
          55,
          80,
          80,
          80,
          80,
          80,
          55,
          80,
          55,
          55,
          80,
          55,
          80,
          80,
          80,
          80,
          80,
          80,
          80,
          80,
          80,
          80,
          55,
          55,
          55,
          80,
          55,
          55,
          55,
          80,
          80,
          55,
          55,
          55,
          55,
          80,
          80,
          80,
          80,
          80,
          55,
          80,
          55,
          80,
          55,
          80,
          80,
          80,
          80,
          80,
          80,
          55,
          55,
          80,
          80,
          80,
          55,
          55,
          80,
          55,
          55,
          80,
          80,
          55,
          80,
          80,
          80,
          80,
          80,
          80,
          80,
          55,
          55,
          80,
          80,
          80,
          80,
          80,
          55,
          55,
          80,
          80,
          55,
          80,
          80,
          55,
          55,
          80,
          80,
          80,
          55,
          55,
          80,
          55,
          80,
          55,
          55,
          80,
          55,
          55,
          55,
          80,
          80,
          80,
          80,
          80,
          55,
          55,
          80,
          55,
          55,
          80,
          80,
          55,
          55,
          80,
          80,
          80,
          80,
          55,
          80,
          55,
          55,
          80,
          80,
          80,
          55,
          55,
          80,
          55,
          55,
          80,
          55,
          55,
          80,
          80,
          80,
          80,
          80,
          55,
          80,
          80,
          80,
          55,
          80,
          80,
          55,
          80,
          80,
          80,
          55,
          80,
          55,
          55,
          80,
          80,
          55,
          55,
          80,
          55,
          55,
          55,
          80,
          55,
          55,
          80,
          80,
          80,
          55,
          55,
          55,
          55,
          80,
          55,
          55,
          80,
          55,
          80,
          80,
          80,
          80,
          80,
          80,
          80,
          55,
          55,
          80,
          80,
          55,
          80,
          80,
          80,
          80,
          80,
          80,
          80,
          80,
          55,
          55,
          80,
          55,
          55,
          80,
          80,
          55,
          80,
          80,
          80,
          55,
          80,
          55,
          80,
          55,
          55,
          55,
          80,
          80,
          80,
          80,
          55,
          55,
          80,
          55,
          80,
          55,
          55,
          55,
          80,
          80,
          80,
          80,
          55,
          55,
          55,
          55,
          80,
          55,
          80,
          80,
          55,
          80,
          80,
          80,
          80,
          80,
          80,
          80,
          55,
          55,
          55,
          55,
          55,
          80,
          80,
          55,
          55,
          80,
          80,
          80,
          80,
          55,
          55,
          80,
          55,
          55,
          80,
          55,
          80,
          80,
          80,
          80,
          80,
          55,
          80,
          80,
          55,
          55,
          55,
          55,
          80,
          80,
          80,
          80,
          55,
          80,
          55,
          80,
          55,
          55,
          80,
          55,
          55,
          55,
          80,
          80,
          80,
          80,
          55,
          55,
          55,
          55,
          80,
          80,
          55,
          80,
          80,
          80,
          80,
          80,
          55,
          55,
          55,
          80,
          55,
          55,
          80,
          80,
          55,
          80,
          80,
          80,
          80,
          80,
          80,
          80,
          55,
          55,
          80,
          55,
          55,
          55,
          80,
          80,
          80,
          55,
          55,
          55,
          80,
          80,
          55,
          55,
          80,
          80,
          80,
          80,
          55,
          55,
          55,
          55,
          80,
          80,
          55,
          80,
          55,
          55,
          55,
          55,
          55,
          80,
          80,
          80,
          55,
          55,
          80,
          55,
          80,
          80,
          80,
          80,
          55,
          80,
          80,
          80,
          55,
          55,
          55,
          55,
          55,
          55,
          80,
          55,
          55,
          80,
          80,
          80,
          80,
          80,
          80,
          80,
          55,
          55,
          55,
          80,
          55,
          55,
          55,
          80,
          55,
          80,
          55,
          55,
          80,
          55,
          55,
          80,
          80,
          80,
          80,
          80,
          55,
          55,
          80,
          80,
          55,
          80,
          80,
          80,
          80,
          80,
          55,
          80,
          55,
          55,
          80,
          55,
          55,
          80,
          55,
          55,
          80,
          80,
          80,
          80,
          55,
          80,
          55,
          80,
          55,
          80,
          80,
          80,
          80,
          80,
          80,
          55,
          55,
          80,
          55,
          55,
          55,
          80,
          80,
          55,
          55,
          55,
          80,
          55,
          80,
          55,
          55,
          80,
          80,
          80,
          80,
          55,
          55,
          80,
          80,
          55,
          80,
          80,
          80,
          80,
          55,
          55,
          80,
          55,
          55,
          80,
          80,
          55,
          55,
          55,
          55,
          80,
          80,
          80,
          55,
          80,
          80,
          55,
          55,
          55,
          80,
          55,
          55,
          80,
          80,
          55,
          80,
          80,
          80,
          80,
          80,
          80,
          80,
          55,
          80,
          55,
          55,
          55,
          80,
          55,
          80,
          55,
          80,
          80,
          80,
          80,
          80,
          55,
          80,
          80,
          55,
          80,
          80,
          80,
          80,
          80,
          55,
          55,
          55,
          80,
          55,
          55,
          55,
          55,
          80,
          80,
          55,
          55,
          55,
          80,
          55,
          80,
          55,
          55,
          80,
          55,
          80,
          55,
          55,
          55,
          80,
          55,
          55,
          80,
          55,
          80,
          55,
          55,
          55,
          80,
          55,
          80,
          80,
          80,
          80,
          55,
          80,
          55,
          80,
          55,
          80,
          80,
          80,
          55,
          55,
          80,
          80,
          55,
          80,
          80,
          80,
          80,
          55,
          80,
          80,
          80,
          80,
          80,
          80,
          80,
          55,
          55,
          80,
          55,
          55,
          80,
          80,
          55,
          80,
          55,
          80,
          80,
          80,
          80,
          55,
          55,
          55,
          55,
          55,
          80,
          80,
          80,
          80,
          55,
          55,
          55,
          55,
          80,
          55,
          55,
          80,
          80,
          55,
          55,
          80,
          55,
          55,
          80,
          55,
          80,
          55,
          80,
          55,
          80,
          80,
          55,
          80,
          80,
          55,
          80,
          80,
          80,
          55,
          80,
          80,
          80,
          80,
          80,
          55,
          55,
          80,
          55,
          55,
          80,
          80,
          80,
          80,
          80,
          80,
          55,
          55,
          80,
          80,
          80,
          80,
          80,
          80,
          80,
          80,
          80,
          55,
          55,
          80,
          55,
          80,
          55,
          80,
          80,
          80,
          80,
          80,
          80,
          55,
          55,
          55,
          55,
          80,
          55,
          55,
          80,
          55,
          80,
          80,
          55,
          55,
          55,
          80,
          80,
          55,
          80,
          80,
          55,
          55,
          55,
          55,
          55,
          80,
          80,
          80,
          80,
          55,
          55,
          55,
          55,
          55,
          80,
          80,
          55,
          80,
          55,
          55,
          80,
          80,
          80,
          80,
          80,
          80,
          80,
          80,
          55,
          55,
          80,
          55,
          55,
          80,
          80,
          55,
          80,
          80,
          80,
          80,
          80,
          55,
          55,
          55,
          80,
          55,
          55,
          80,
          55,
          80,
          55,
          55,
          55,
          80,
          80,
          55,
          55,
          80,
          80,
          80,
          55,
          80,
          80,
          55,
          80,
          80,
          55,
          80,
          55,
          80,
          55,
          80,
          80,
          80,
          80,
          80,
          55,
          55,
          55,
          80,
          55,
          55,
          80,
          80,
          80,
          55,
          55,
          80,
          80,
          80,
          80,
          55,
          55,
          55,
          80,
          80,
          80,
          80,
          55,
          80,
          55,
          55,
          55,
          55,
          80,
          55,
          55,
          80,
          55,
          80,
          55,
          80,
          55,
          55,
          55,
          80,
          80,
          80,
          80,
          80,
          80,
          80,
          55,
          55,
          55,
          55,
          80,
          55,
          80,
          80,
          80,
          80,
          80,
          55,
          80,
          80,
          55,
          80,
          55,
          80,
          55,
          55,
          80,
          55,
          80,
          80,
          55,
          55,
          55,
          80,
          55,
          80,
          80,
          80,
          80,
          80,
          80,
          55,
          55,
          55,
          80,
          80,
          55,
          55,
          80,
          55,
          55,
          80,
          55,
          80,
          80,
          80,
          80,
          80,
          80,
          55,
          55,
          55,
          80,
          55,
          55,
          80,
          55,
          80,
          80,
          80,
          80,
          80,
          80,
          55,
          55,
          55,
          55,
          80,
          55,
          55,
          80,
          80,
          55,
          55,
          80,
          55,
          80,
          55,
          55,
          55,
          80,
          55,
          80,
          80,
          80,
          80,
          55,
          80,
          55,
          55,
          80,
          80,
          80,
          80,
          55,
          55,
          80,
          55,
          80,
          55,
          55,
          80,
          55,
          80,
          80,
          55,
          55,
          55,
          55,
          80,
          55,
          80,
          55,
          80,
          55,
          80,
          55,
          80,
          55,
          55,
          80,
          55,
          55,
          80,
          55,
          80,
          80,
          80,
          55,
          80,
          80,
          80,
          55,
          55,
          80,
          55,
          80,
          55,
          80,
          80,
          80,
          80,
          80,
          55,
          55,
          80,
          55,
          80,
          80,
          80,
          80,
          55,
          55,
          80,
          55,
          55,
          80,
          80,
          55,
          80,
          80,
          80,
          80,
          80,
          80,
          80,
          55,
          55,
          55,
          80,
          55,
          55,
          55,
          80,
          80,
          80,
          80,
          55,
          80,
          55,
          80,
          80,
          80,
          80,
          80,
          55,
          55,
          80,
          55,
          80,
          55,
          80,
          80,
          55,
          55,
          80,
          55,
          80,
          80,
          80,
          80,
          80,
          80,
          80,
          80,
          55,
          80,
          55,
          55,
          80,
          55,
          80,
          80,
          55,
          55,
          80,
          80,
          80,
          80,
          80,
          55,
          55,
          55,
          80,
          55,
          80,
          80,
          80,
          80,
          80,
          80,
          80,
          80,
          80,
          55,
          55,
          80,
          55,
          55,
          80,
          80,
          55,
          55,
          80,
          80,
          80,
          80,
          55,
          80,
          80,
          55,
          80,
          80,
          80,
          80,
          80,
          55,
          55,
          80,
          55,
          55,
          80,
          55,
          80,
          80,
          80,
          80,
          55,
          80,
          55,
          80,
          80,
          55,
          80,
          80,
          80,
          55,
          55,
          80,
          80,
          80,
          55,
          55,
          55,
          80,
          55,
          55,
          55,
          80,
          80,
          80,
          80,
          55,
          55,
          55,
          55,
          80,
          55,
          80,
          80,
          80,
          80,
          80,
          80,
          55,
          55,
          80,
          55,
          55,
          80,
          80,
          55,
          55,
          80,
          80,
          55,
          80,
          55,
          80,
          80,
          80,
          80,
          80,
          80,
          55,
          55,
          55,
          80,
          80,
          80,
          55,
          80,
          55,
          55,
          80,
          80,
          80,
          55,
          55,
          55,
          80,
          55,
          55,
          80,
          80,
          55,
          80,
          80,
          80,
          80,
          55,
          55,
          80,
          55,
          80,
          55,
          80,
          55,
          80,
          55,
          55,
          80,
          55,
          55,
          55,
          80,
          55,
          55,
          80,
          55,
          80,
          80,
          55,
          80,
          80,
          80,
          55,
          55,
          80,
          55,
          80,
          80,
          80,
          55,
          80,
          80,
          80,
          80,
          80,
          80,
          80,
          55,
          55,
          55,
          55,
          80,
          55,
          55,
          80,
          55,
          55,
          80,
          55,
          55,
          80,
          80,
          80,
          80,
          80,
          55,
          55,
          55,
          55,
          55,
          55,
          55,
          80,
          80,
          80,
          80,
          55,
          55,
          55,
          55,
          80,
          55,
          80,
          55,
          80,
          80,
          55,
          55,
          55,
          80,
          55,
          55,
          80,
          55,
          80,
          80,
          55,
          55,
          80,
          80,
          80,
          80,
          80,
          55,
          80,
          80,
          80,
          80,
          80,
          80,
          55,
          55,
          80,
          55,
          55,
          80,
          80,
          55,
          55,
          80,
          80,
          80,
          80,
          80,
          55,
          55,
          55,
          55,
          80,
          55,
          55,
          80,
          55,
          55,
          80,
          80,
          80,
          80,
          80,
          80,
          80,
          80,
          80,
          55,
          55,
          80,
          55,
          80,
          55,
          80,
          80,
          80,
          55,
          80,
          55,
          55,
          80,
          55,
          55,
          80,
          80,
          80,
          80,
          80,
          55,
          55,
          55,
          80,
          55,
          80,
          55,
          80,
          80,
          80,
          80,
          80,
          80,
          55,
          55,
          55,
          80,
          55,
          55,
          55,
          80,
          80,
          55,
          80,
          55,
          55,
          55,
          80,
          55,
          55,
          55,
          80,
          55,
          80,
          80,
          80,
          80,
          80,
          55,
          55,
          80,
          55,
          55,
          80,
          80,
          80,
          80,
          80,
          55,
          80,
          80,
          80,
          80,
          80,
          80,
          80,
          80,
          80,
          55,
          80,
          80,
          80,
          80,
          80,
          80,
          80,
          80,
          55,
          80,
          80,
          55,
          80,
          55,
          55,
          80,
          80,
          80,
          80,
          80,
          55,
          80,
          55,
          80,
          80,
          80,
          80,
          80,
          80,
          80,
          80,
          80,
          80,
          80,
          80,
          80,
          80,
          55,
          80,
          80,
          55,
          55,
          80,
          80,
          80,
          80,
          80,
          80,
          55,
          80,
          80,
          80,
          55,
          80,
          80,
          80,
          80,
          80,
          80,
          80,
          80,
          80,
          80,
          80,
          55,
          55,
          55,
          80,
          80,
          80,
          80,
          80,
          80,
          80,
          55,
          80,
          80,
          80,
          80,
          80,
          80,
          80,
          80,
          80,
          80,
          80,
          55,
          80,
          80,
          80,
          80,
          80,
          80,
          80,
          80,
          80,
          55,
          80,
          80,
          55,
          80,
          55,
          80,
          80,
          55,
          80,
          80,
          80,
          80,
          80,
          80,
          80,
          55,
          80,
          80,
          80,
          80,
          55,
          80,
          80,
          80,
          80,
          80,
          80,
          55,
          80,
          55,
          80,
          80,
          80,
          80,
          80,
          55,
          80,
          80,
          55,
          80,
          80,
          80,
          80,
          80,
          80,
          80,
          80,
          80,
          55,
          80,
          80,
          80,
          80,
          80,
          80,
          80,
          80,
          80,
          80,
          80,
          55,
          55,
          80,
          80,
          55,
          80,
          80,
          80,
          80,
          80,
          80,
          80,
          55,
          80,
          80,
          55,
          80,
          80,
          80,
          80,
          80,
          80,
          80,
          80,
          80,
          80,
          80,
          55,
          80,
          80,
          80,
          80,
          80,
          80,
          80,
          80,
          80,
          55,
          55,
          80,
          80,
          80,
          80,
          80,
          80,
          80,
          80,
          80,
          55,
          80,
          55,
          80,
          80,
          80,
          80,
          80,
          80,
          55,
          80,
          80,
          80,
          80,
          80,
          80,
          80,
          80,
          55,
          80,
          80,
          80,
          80,
          80,
          80,
          80,
          80,
          80,
          80,
          80,
          55,
          80,
          55,
          80,
          80,
          80,
          80,
          80,
          80,
          80,
          80,
          80,
          80,
          80,
          80,
          80,
          55,
          80,
          80,
          80,
          80,
          80,
          80,
          80,
          80,
          80,
          55,
          80,
          80,
          80,
          80,
          80,
          80,
          80,
          80,
          80,
          55,
          55,
          80,
          80,
          80,
          80,
          80,
          80,
          80,
          80,
          80,
          80,
          80,
          80,
          80,
          80,
          55,
          80,
          55,
          80,
          80,
          55,
          55,
          80,
          80,
          80,
          80,
          80,
          80,
          55,
          80,
          80,
          80,
          80,
          80,
          80,
          55,
          80,
          80,
          80,
          80,
          55,
          55,
          80,
          80,
          55,
          80,
          80,
          80,
          80,
          80,
          80,
          80,
          55,
          80,
          80,
          80,
          80,
          80,
          80,
          80,
          80,
          80,
          55,
          80,
          80,
          80,
          80,
          80,
          80,
          80,
          80,
          55,
          80,
          80,
          80,
          80,
          80,
          55,
          80,
          80,
          80,
          80,
          80,
          80,
          80,
          55,
          80,
          80,
          80,
          80,
          55,
          80,
          80,
          80,
          55,
          55,
          80,
          80,
          80,
          80,
          80,
          80,
          80,
          55,
          80,
          80,
          80,
          80,
          55,
          80,
          55,
          55,
          80,
          80,
          80,
          80,
          80,
          55,
          80,
          80,
          55,
          80,
          80,
          80,
          80,
          80,
          80,
          80,
          80,
          55,
          80,
          80,
          80,
          80,
          80,
          80,
          80,
          80,
          55,
          80,
          80,
          80,
          80,
          80,
          80,
          80,
          80,
          55,
          80,
          80,
          80,
          80,
          80,
          80,
          80,
          80,
          80,
          55,
          80,
          80,
          80,
          80,
          80,
          80,
          80,
          80,
          80,
          80,
          80,
          80,
          80,
          80,
          80,
          80,
          80,
          80,
          80,
          80,
          55,
          80,
          80,
          80,
          55,
          80,
          55,
          80,
          80,
          80,
          80,
          80,
          80,
          80,
          80,
          80,
          80,
          55,
          80,
          80,
          80,
          80,
          80,
          80,
          80,
          80,
          80,
          80,
          80,
          80,
          80,
          55,
          80,
          55,
          80,
          80,
          80,
          80,
          80,
          80,
          80,
          80,
          80,
          55,
          80,
          80,
          80,
          55,
          80,
          80,
          80,
          55,
          55,
          80,
          80,
          80,
          80,
          80,
          80,
          80,
          55,
          80,
          80,
          80,
          80,
          80,
          55,
          80,
          80,
          80,
          80,
          80,
          80,
          80,
          55,
          80,
          80,
          80,
          55,
          80,
          80,
          80,
          80,
          80,
          80,
          80,
          80,
          80,
          80,
          80,
          80,
          80,
          80,
          80,
          55,
          80,
          80,
          80,
          80,
          80,
          80,
          55,
          80,
          80,
          55,
          80,
          80,
          55,
          80,
          80,
          80,
          80,
          80,
          80,
          80,
          80,
          80,
          80,
          55,
          80,
          80,
          80,
          55,
          80,
          80,
          80,
          80,
          80,
          80,
          80,
          80,
          80,
          80,
          80,
          80,
          80,
          55,
          80,
          55,
          80,
          80,
          80,
          80,
          55,
          80,
          80,
          80,
          80,
          80,
          80,
          80,
          55,
          80,
          55,
          80,
          80,
          80,
          80,
          80,
          80,
          55,
          80,
          80,
          80,
          55,
          80,
          80,
          80,
          80,
          80,
          80,
          80,
          80,
          55,
          80,
          80,
          80,
          55,
          80,
          55,
          80,
          80,
          55,
          80,
          80,
          80,
          80,
          80,
          80,
          80,
          80,
          80,
          55,
          80,
          80,
          80,
          55,
          80,
          55,
          80,
          80,
          55,
          80,
          80,
          80,
          80,
          80,
          80,
          80,
          55,
          80,
          55,
          80,
          80,
          80,
          80,
          80,
          80,
          80,
          80,
          80,
          80,
          80,
          80,
          80,
          55,
          80,
          80,
          80,
          55,
          80,
          55,
          80,
          80,
          80,
          80,
          80,
          80,
          80,
          80,
          55,
          80,
          80,
          55,
          80,
          80,
          80,
          80,
          55,
          80,
          80,
          80,
          80,
          55,
          55,
          80,
          80,
          80,
          80,
          80,
          55,
          55,
          80,
          80,
          80,
          55,
          80,
          55,
          55,
          80,
          80,
          80,
          80,
          80,
          55,
          55,
          80,
          80,
          80,
          55,
          80,
          80,
          80,
          55,
          80,
          80,
          55,
          80,
          80,
          80,
          80,
          80,
          80,
          80,
          80,
          55,
          80,
          55,
          80,
          80,
          80,
          80,
          80,
          80,
          55,
          80,
          80,
          80,
          80,
          80,
          80,
          80,
          80,
          80,
          80,
          80,
          80,
          80,
          80,
          80,
          80,
          80,
          55,
          80,
          55,
          80,
          80,
          80,
          80,
          80,
          80,
          80,
          55,
          80,
          55,
          80,
          80,
          80,
          80,
          80,
          80,
          80,
          80,
          55,
          80,
          80,
          80,
          80,
          80,
          80,
          55,
          80,
          80,
          80,
          80,
          55,
          80,
          80,
          80,
          55,
          80,
          80,
          55,
          80,
          80,
          80,
          80,
          80,
          80,
          80,
          80,
          80,
          80,
          80,
          80,
          80,
          80,
          55,
          80,
          80,
          55,
          80,
          80,
          80,
          55,
          55,
          80,
          80,
          80,
          80,
          80,
          80,
          55,
          80,
          80,
          80,
          80,
          80,
          80,
          80,
          55,
          80,
          80,
          80,
          80,
          80,
          80,
          80,
          80,
          80,
          55,
          80,
          80,
          80,
          80,
          80,
          80,
          80,
          80,
          80,
          80,
          80,
          80,
          80,
          55,
          80,
          80,
          80,
          80,
          80,
          55,
          80,
          80,
          80,
          55,
          80,
          80,
          80,
          80,
          80,
          80,
          55,
          80,
          55,
          80,
          80,
          80,
          55,
          80,
          80,
          80,
          80,
          80,
          80,
          80,
          80,
          80,
          80,
          80,
          80,
          55,
          80,
          80,
          80,
          80,
          80,
          80,
          80,
          80,
          55,
          80,
          80,
          80,
          80,
          80,
          55,
          80,
          80,
          80,
          80,
          80,
          80,
          80,
          80,
          80,
          80,
          80,
          55,
          80,
          80,
          55,
          80,
          80,
          80,
          80,
          80,
          80,
          80,
          80,
          80,
          80,
          80,
          80,
          55,
          80,
          80,
          80,
          80,
          80,
          80,
          55,
          80,
          55,
          80,
          80,
          80,
          80,
          80,
          80,
          55,
          80,
          55,
          80,
          80,
          80,
          80,
          55,
          80,
          80,
          80,
          80,
          55,
          80,
          80,
          80,
          80,
          80,
          55,
          80,
          80,
          80,
          80,
          80,
          80,
          55,
          55,
          80,
          80,
          80,
          55,
          80,
          80,
          80,
          80,
          55,
          80,
          80,
          80,
          80,
          80,
          80,
          80,
          80,
          55,
          80,
          80,
          55,
          80,
          80,
          80,
          80,
          80,
          80,
          55,
          80,
          55,
          80,
          80,
          55,
          80,
          80,
          80,
          80,
          80,
          80,
          80,
          80,
          80,
          80,
          55,
          80,
          80,
          80,
          80,
          55,
          80,
          80,
          80,
          80,
          80,
          80,
          80,
          80,
          55,
          80,
          80,
          80,
          80,
          80,
          80,
          80,
          80,
          80,
          80,
          80,
          55,
          80,
          80,
          80,
          80,
          80,
          80,
          55,
          55,
          80,
          55,
          80,
          80,
          55,
          55,
          80,
          80,
          80,
          80,
          80,
          80,
          80,
          80,
          55,
          80,
          80,
          80,
          80,
          80,
          80,
          80,
          55,
          80,
          80,
          80,
          80,
          55,
          80,
          80,
          80,
          80,
          80,
          55,
          80,
          80,
          80,
          80,
          80,
          80,
          80,
          80,
          80,
          80,
          80,
          55,
          55,
          80,
          30,
          55,
          80,
          55,
          55,
          55,
          30,
          80,
          55,
          30,
          55,
          30,
          80,
          80,
          55,
          55,
          80,
          30,
          55,
          55,
          80,
          30,
          55,
          55,
          55,
          80,
          30,
          55,
          55,
          55,
          30,
          55,
          55,
          30,
          55,
          30,
          55,
          80,
          55,
          55,
          80,
          80,
          80,
          55,
          30,
          55,
          80,
          55,
          80,
          30,
          30,
          30,
          80,
          55,
          80,
          30,
          55,
          80,
          55,
          55,
          30,
          30,
          55,
          30,
          55,
          30,
          55,
          55,
          55,
          80,
          30,
          80,
          30,
          30,
          55,
          30,
          80,
          55,
          30,
          55,
          55,
          55,
          80,
          30,
          55,
          55,
          30,
          55,
          30,
          80,
          55,
          30,
          80,
          55,
          30,
          55,
          55,
          55,
          55,
          55,
          55,
          30,
          55,
          55,
          55,
          80,
          30,
          55,
          55,
          80,
          30,
          55,
          80,
          55,
          55,
          30,
          55,
          30,
          55,
          30,
          30,
          55,
          80,
          55,
          55,
          30,
          80,
          30,
          55,
          55,
          55,
          55,
          55,
          30,
          80,
          55,
          30,
          30,
          30,
          30,
          80,
          55,
          55,
          30,
          55,
          55,
          55,
          30,
          55,
          30,
          30,
          55,
          30,
          55,
          30,
          30,
          30,
          30,
          30,
          55,
          30,
          30,
          55,
          80,
          30,
          55,
          55,
          30,
          30,
          80,
          55,
          30,
          30,
          55,
          55,
          55,
          80,
          55,
          30,
          30,
          80,
          30,
          55,
          55,
          30,
          55,
          30,
          30,
          80,
          55,
          30,
          80,
          30,
          30,
          30,
          55,
          80,
          30,
          55,
          30,
          30,
          80,
          30,
          30,
          55,
          30,
          55,
          30,
          30,
          55,
          55,
          55,
          30,
          30,
          80,
          55,
          30,
          30,
          55,
          30,
          30,
          55,
          55,
          30,
          30,
          55,
          80,
          30,
          55,
          30,
          55,
          30,
          30,
          80,
          80,
          55,
          30,
          30,
          55,
          30,
          80,
          55,
          80,
          30,
          30,
          30,
          80,
          30,
          30,
          80,
          30,
          55,
          30,
          30,
          55,
          30,
          55,
          80,
          80,
          80,
          55,
          30,
          30,
          30,
          80,
          55,
          30,
          30,
          80,
          55,
          55,
          30,
          30,
          55,
          55,
          30,
          80,
          30,
          55,
          30,
          30,
          80,
          30,
          55,
          30,
          30,
          55,
          30,
          80,
          55,
          80,
          80,
          55,
          55,
          30,
          30,
          30,
          80,
          55,
          30,
          30,
          80,
          55,
          30,
          30,
          55,
          30,
          80,
          30,
          80,
          30,
          55,
          30,
          80,
          55,
          30,
          30,
          80,
          55,
          80,
          55,
          30,
          55,
          30,
          30,
          80,
          80,
          55,
          30,
          55,
          30,
          80,
          30,
          80,
          55,
          30,
          80,
          55,
          30,
          30,
          30,
          80,
          30,
          80,
          80,
          55,
          30,
          30,
          55,
          55,
          80,
          30,
          55,
          30,
          80,
          80,
          30,
          30,
          30,
          30,
          30,
          55,
          30,
          80,
          55,
          80,
          30,
          55,
          30,
          30,
          80,
          55,
          30,
          55,
          30,
          30,
          80,
          55,
          30,
          30,
          30,
          55,
          30,
          30,
          30,
          30,
          30,
          30,
          55,
          80,
          55,
          80,
          55,
          55,
          30,
          80,
          30,
          55,
          30,
          30,
          55,
          55,
          30,
          30,
          55,
          30,
          55,
          30,
          80,
          55,
          30,
          30,
          55,
          30,
          55,
          30,
          55,
          55,
          30,
          80,
          30,
          55,
          80,
          80,
          55,
          30,
          55,
          55,
          30,
          80,
          55,
          30,
          80,
          55,
          80,
          30,
          30,
          30,
          30,
          80,
          80,
          55,
          30,
          80,
          80,
          30,
          55,
          30,
          80,
          55,
          30,
          55,
          80,
          30,
          55,
          30,
          30,
          55,
          30,
          30,
          80,
          55,
          30,
          55,
          80,
          30,
          55,
          80,
          30,
          55,
          30,
          30,
          30,
          80,
          30,
          55,
          80,
          30,
          80,
          55,
          30,
          55,
          80,
          80,
          30,
          55,
          30,
          30,
          80,
          55,
          30,
          55,
          80,
          30,
          55,
          30,
          30,
          80,
          55,
          30,
          30,
          80,
          55,
          30,
          80,
          55,
          30,
          30,
          80,
          80,
          30,
          55,
          80,
          80,
          55,
          30,
          30,
          30,
          30,
          80,
          55,
          30,
          30,
          55,
          80,
          30,
          55,
          30,
          30,
          80,
          55,
          30,
          80,
          55,
          55,
          30,
          30,
          80,
          80,
          55,
          30,
          30,
          30,
          55,
          30,
          30,
          55,
          55,
          30,
          30,
          80,
          55,
          55,
          30,
          30,
          30,
          80,
          55,
          30,
          30,
          55,
          80,
          55,
          80,
          30,
          30,
          30,
          30,
          80,
          55,
          30,
          55,
          30,
          80,
          55,
          55,
          30,
          80,
          55,
          80,
          80,
          30,
          55,
          30,
          30,
          80,
          55,
          30,
          30,
          30,
          80,
          30,
          55,
          30,
          30,
          80,
          55,
          30,
          80,
          30,
          55,
          80,
          55,
          30,
          80,
          30,
          80,
          55,
          80,
          80,
          80,
          55,
          30,
          30,
          30,
          80,
          55,
          30,
          30,
          80,
          80,
          30,
          30,
          55,
          30,
          80,
          80,
          30,
          30,
          55,
          55,
          30,
          30,
          80,
          80,
          55,
          80,
          80,
          30,
          80,
          30,
          30,
          55,
          55,
          30,
          30,
          55,
          30,
          55,
          55,
          55,
          80,
          55,
          30,
          55,
          55,
          55,
          55,
          30,
          80,
          30,
          30,
          80,
          55,
          30,
          80,
          80,
          55,
          80,
          80,
          55,
          30,
          30,
          80,
          55,
          30,
          30,
          55,
          55,
          30,
          30,
          80,
          30,
          30,
          30,
          80,
          80,
          55,
          30,
          30,
          55,
          80,
          55,
          30,
          30,
          55,
          30,
          55,
          55,
          30,
          80,
          55,
          80,
          30,
          30,
          55,
          30,
          30,
          30,
          80,
          30,
          30,
          80,
          80,
          55,
          80,
          30,
          55,
          30,
          80,
          30,
          30,
          80,
          55,
          55,
          30,
          30,
          55,
          30,
          80,
          55,
          80,
          30,
          80,
          55,
          30,
          30,
          80,
          55,
          30,
          80,
          55,
          80,
          30,
          55,
          30,
          30,
          80,
          30,
          55,
          80,
          30,
          80,
          30,
          30,
          55,
          30,
          30,
          55,
          30,
          55,
          30,
          30,
          30,
          80,
          30,
          30,
          55,
          30,
          30,
          80,
          55,
          80,
          80,
          55,
          30,
          55,
          30,
          30,
          30,
          80,
          80,
          55,
          30,
          55,
          80,
          55,
          80,
          30,
          80,
          30,
          30,
          80,
          55,
          30,
          80,
          55,
          30,
          80,
          55,
          30,
          30,
          30,
          30,
          55,
          30,
          80,
          55,
          80,
          80,
          30,
          55,
          55,
          30,
          30,
          80,
          55,
          30,
          55,
          30,
          55,
          80,
          30,
          55,
          30,
          80,
          55,
          30,
          55,
          80,
          55,
          30,
          55,
          30,
          30,
          55,
          30,
          30,
          80,
          55,
          55,
          30,
          30,
          80,
          55,
          30,
          30,
          55,
          30,
          30,
          55,
          55,
          80,
          80,
          30,
          55,
          30,
          30,
          30,
          80,
          30,
          55,
          30,
          80,
          55,
          30,
          55,
          30,
          55,
          30,
          30,
          80,
          80,
          55,
          30,
          55,
          30,
          55,
          30,
          30,
          80,
          30,
          80,
          55,
          80,
          30,
          30,
          80,
          80,
          30,
          30,
          55,
          80,
          55,
          80,
          80,
          30,
          30,
          30,
          55,
          30,
          30,
          30,
          80,
          30,
          55,
          30,
          30,
          55,
          30,
          30,
          80,
          80,
          55,
          80,
          55,
          30,
          80,
          30,
          80,
          55,
          55,
          30,
          30,
          55,
          30,
          30,
          80,
          55,
          55,
          30,
          30,
          80,
          30,
          30,
          80,
          30,
          55,
          55,
          30,
          80,
          55,
          30,
          30,
          80,
          80,
          55,
          80,
          80,
          30,
          30,
          30,
          80,
          80,
          55,
          30,
          30,
          55,
          30,
          55,
          80,
          80,
          30,
          30,
          80,
          55,
          30,
          30,
          80,
          55,
          30,
          80,
          80,
          55,
          80,
          80,
          30,
          55,
          30,
          30,
          80,
          30,
          55,
          55,
          30,
          30,
          30,
          30,
          80,
          80,
          55,
          30,
          80,
          80,
          55,
          30,
          30,
          80,
          55,
          30,
          30,
          55,
          30,
          55,
          30,
          80,
          30,
          30,
          80,
          30,
          80,
          30,
          55,
          55,
          30,
          55,
          55,
          80,
          30,
          80,
          55,
          30,
          30,
          55,
          55,
          80,
          30,
          30,
          80,
          55,
          80,
          30,
          30,
          55,
          80,
          80,
          30,
          80,
          55,
          80,
          80,
          55,
          55,
          30,
          30,
          30,
          55,
          30,
          80,
          30,
          55,
          55,
          30,
          80,
          55,
          30,
          55,
          80,
          55,
          80,
          30,
          30,
          80,
          80,
          80,
          55,
          30,
          80,
          30,
          55,
          80,
          55,
          30,
          80,
          55,
          30,
          30,
          55,
          30,
          80,
          30,
          55,
          55,
          30,
          80,
          55,
          30,
          30,
          55,
          30,
          80,
          55,
          80,
          80,
          80,
          80,
          55,
          30,
          80,
          30,
          55,
          30,
          30,
          55,
          80,
          80,
          55,
          80,
          80,
          80,
          80,
          80,
          80,
          30,
          80,
          80,
          80,
          80,
          30,
          80,
          80,
          30,
          30,
          80,
          30,
          30,
          55,
          30,
          80,
          80,
          55,
          55,
          30,
          30,
          55,
          30,
          80,
          30,
          55,
          55,
          30,
          55,
          30,
          80,
          30,
          80,
          55,
          30,
          80,
          30,
          80,
          80,
          55,
          80,
          80,
          55,
          55,
          55,
          80,
          30,
          55,
          80,
          80,
          80,
          55,
          30,
          55,
          80,
          55,
          30,
          55,
          30,
          55,
          30,
          30,
          55,
          80,
          55,
          30,
          80,
          80,
          55,
          30,
          30,
          55,
          30,
          80,
          55,
          55,
          80,
          30,
          80,
          80,
          80,
          55,
          55,
          55,
          30,
          80,
          80,
          55,
          30,
          30,
          55,
          80,
          80,
          55,
          80,
          55,
          30,
          30,
          55,
          30,
          55,
          80,
          30,
          80,
          30,
          30,
          30,
          80,
          55,
          80,
          30,
          55,
          30,
          55,
          30,
          30,
          55,
          30,
          80,
          80,
          80,
          55,
          55,
          55,
          30,
          30,
          80,
          80,
          55,
          30,
          80,
          30,
          55,
          80,
          55,
          30,
          80,
          55,
          55,
          55,
          80,
          80,
          80,
          80,
          80,
          55,
          55,
          55,
          30,
          30,
          80,
          55,
          30,
          80,
          30,
          55,
          80,
          55,
          80,
          55,
          55,
          30,
          30,
          80,
          55,
          80,
          80,
          30,
          80,
          80,
          80,
          30,
          55,
          80,
          55,
          30,
          30,
          55,
          55,
          30,
          80,
          30,
          80,
          30,
          80,
          55,
          80,
          30,
          55,
          55,
          30,
          80,
          80,
          80,
          55,
          30,
          55,
          30,
          55,
          30,
          80,
          30,
          80,
          80,
          55,
          30,
          80,
          30,
          55,
          80,
          80,
          55,
          30,
          55,
          30,
          55,
          30,
          80,
          80,
          55,
          30,
          80,
          80,
          80,
          30,
          30,
          80,
          80,
          30,
          55,
          30,
          80,
          80,
          80,
          80,
          80,
          30,
          80,
          80,
          55,
          30,
          80,
          30,
          55,
          55,
          80,
          80,
          55,
          30,
          80,
          80,
          55,
          30,
          80,
          55,
          30,
          30,
          55,
          80,
          55,
          80,
          55,
          80,
          30,
          80,
          55,
          30,
          80,
          80,
          30,
          80,
          30,
          30,
          80,
          30,
          55,
          55,
          30,
          80,
          30,
          30,
          55,
          80,
          30,
          55,
          30,
          80,
          55,
          55,
          30,
          55,
          30,
          55,
          55,
          30,
          30,
          55,
          80,
          30,
          55,
          30,
          55,
          55,
          30,
          80,
          80,
          80,
          80,
          80,
          55,
          30,
          30,
          55,
          55,
          80,
          80,
          80,
          55,
          55,
          80,
          30,
          30,
          80,
          55,
          80,
          80,
          30,
          55,
          55,
          30,
          55,
          30,
          30,
          30,
          55,
          30,
          80,
          80,
          80,
          55,
          30,
          55,
          80,
          55,
          80,
          80,
          30,
          55,
          80,
          80,
          30,
          55,
          80,
          30,
          30,
          55,
          80,
          55,
          55,
          80,
          80,
          55,
          55,
          80,
          55,
          30,
          80,
          30,
          55,
          30,
          80,
          30,
          30,
          55,
          55,
          30,
          55,
          55,
          30,
          55,
          80,
          55,
          30,
          55,
          30,
          80,
          55,
          30,
          80,
          30,
          55,
          30,
          80,
          30,
          55,
          80,
          55,
          80,
          30,
          80,
          55,
          80,
          55,
          30,
          55,
          80,
          30,
          55,
          55,
          30,
          80,
          55,
          30,
          30,
          55,
          30,
          80,
          30,
          55,
          80,
          80,
          80,
          55,
          55,
          30,
          55,
          80,
          80,
          80,
          30,
          55,
          55,
          30,
          55,
          80,
          30,
          30,
          55,
          55,
          30,
          80,
          80,
          80,
          55,
          55,
          30,
          55,
          30,
          80,
          55,
          80,
          55,
          30,
          80,
          80,
          55,
          55,
          30,
          30,
          55,
          30,
          80,
          30,
          55,
          80,
          55,
          30,
          80,
          80,
          80,
          55,
          30,
          55,
          55,
          30,
          55,
          30,
          55,
          30,
          55,
          80,
          55,
          30,
          80,
          80,
          80,
          55,
          30,
          30,
          55,
          55,
          80,
          80,
          55,
          55,
          80,
          80,
          30,
          80,
          80,
          80,
          30,
          80,
          55,
          30,
          55,
          55,
          30,
          55,
          55,
          30,
          55,
          55,
          30,
          55,
          80,
          30,
          30,
          55,
          55,
          30,
          80,
          80,
          30,
          55,
          30,
          80,
          80,
          80,
          80,
          30,
          80,
          80,
          55,
          30,
          80,
          30,
          55,
          80,
          55,
          30,
          80,
          30,
          55,
          30,
          30,
          55,
          80,
          30,
          80,
          80,
          30,
          55,
          30,
          55,
          55,
          30,
          80,
          30,
          55,
          30,
          80,
          30,
          55,
          55,
          30,
          80,
          80,
          80,
          30,
          55,
          30,
          80,
          55,
          80,
          80,
          80,
          55,
          30,
          55,
          30,
          80,
          55,
          30,
          30,
          55,
          80,
          55,
          30,
          30,
          30,
          80,
          80,
          80,
          55,
          30,
          80,
          30,
          55,
          80,
          55,
          30,
          30,
          55,
          80,
          55,
          30,
          55,
          30,
          80,
          30,
          30,
          55,
          55,
          30,
          80,
          30,
          30,
          80,
          30,
          55,
          30,
          30,
          55,
          55,
          80,
          30,
          30,
          30,
          55,
          80,
          30,
          80,
          55,
          55,
          30,
          55,
          30,
          80,
          30,
          55,
          80,
          80,
          55,
          30,
          80,
          55,
          30,
          80,
          80,
          80,
          30,
          80,
          55,
          30,
          80,
          30,
          55,
          55,
          80,
          80,
          55,
          30,
          80,
          55,
          30,
          30,
          80,
          55,
          30,
          30,
          80,
          55,
          30,
          30,
          80,
          80,
          80,
          80,
          80,
          55,
          30,
          80,
          30,
          55,
          55,
          80,
          80,
          80,
          80,
          80,
          30,
          80,
          55,
          55,
          30,
          30,
          55,
          30,
          30,
          55,
          55,
          80,
          80,
          55,
          55,
          30,
          30,
          55,
          80,
          30,
          80,
          55,
          55,
          30,
          55,
          30,
          55,
          30,
          80,
          55,
          30,
          80,
          55,
          80,
          80,
          55,
          30,
          80,
          80,
          80,
          80,
          30,
          80,
          55,
          30,
          80,
          30,
          55,
          80,
          55,
          30,
          80,
          30,
          80,
          55,
          80,
          55,
          30,
          80,
          80,
          80,
          80,
          30,
          30,
          55,
          80,
          30,
          80,
          55,
          30,
          80,
          30,
          55,
          55,
          30,
          30,
          30,
          55,
          80,
          55,
          80,
          30,
          30,
          55,
          80,
          30,
          80,
          30,
          30,
          55,
          55,
          30,
          30,
          80,
          80,
          55,
          30,
          30,
          55,
          55,
          80,
          30,
          80,
          30,
          55,
          30,
          30,
          80,
          80,
          55,
          55,
          30,
          30,
          30,
          80,
          30,
          55,
          30,
          55,
          30,
          80,
          80,
          55,
          30,
          30,
          30,
          80,
          55,
          30,
          55,
          55,
          30,
          55,
          55,
          30,
          80,
          30,
          30,
          55,
          55,
          30,
          80,
          30,
          30,
          30,
          55,
          55,
          55,
          30,
          80,
          55,
          30,
          55,
          30,
          80,
          30,
          30,
          80,
          80,
          55,
          55,
          55,
          30,
          30,
          80,
          80,
          80,
          30,
          30,
          55,
          55,
          30,
          55,
          55,
          30,
          80,
          55,
          55,
          30,
          30,
          80,
          30,
          55,
          30,
          55,
          30,
          30,
          80,
          80,
          55,
          55,
          30,
          80,
          55,
          30,
          30,
          80,
          80,
          55,
          55,
          55,
          55,
          30,
          55,
          30,
          80,
          30,
          80,
          80,
          55,
          55,
          55,
          30,
          30,
          80,
          55,
          30,
          80,
          30,
          30,
          80,
          55,
          30,
          55,
          55,
          55,
          55,
          30,
          30,
          30,
          80,
          80,
          80,
          55,
          30,
          55,
          55,
          80,
          30,
          55,
          30,
          55,
          30,
          55,
          30,
          30,
          80,
          80,
          80,
          80,
          55,
          30,
          30,
          55,
          30,
          55,
          80,
          30,
          55,
          30,
          80,
          55,
          55,
          30,
          30,
          80,
          30,
          30,
          80,
          80,
          55,
          30,
          30,
          55,
          80,
          55,
          55,
          55,
          30,
          80,
          30,
          55,
          30,
          80,
          30,
          80,
          55,
          55,
          55,
          30,
          80,
          80,
          55,
          55,
          30,
          30,
          80,
          55,
          55,
          30,
          55,
          80,
          55,
          30,
          80,
          30,
          80,
          80,
          55,
          55,
          80,
          80,
          30,
          80,
          55,
          55,
          30,
          80,
          55,
          30,
          80,
          30,
          30,
          80,
          55,
          55,
          55,
          30,
          30,
          30,
          80,
          30,
          30,
          30,
          55,
          30,
          30,
          55,
          80,
          80,
          30,
          55,
          30,
          30,
          80,
          55,
          30,
          80,
          80,
          80,
          55,
          30,
          55,
          55,
          30,
          30,
          30,
          30,
          55,
          55,
          55,
          30,
          80,
          55,
          30,
          30,
          30,
          30,
          55,
          80,
          30,
          30,
          55,
          30,
          30,
          30,
          80,
          30,
          55,
          30,
          30,
          80,
          55,
          30,
          55,
          80,
          55,
          55,
          55,
          30,
          30,
          30,
          55,
          30,
          30,
          30,
          55,
          55,
          55,
          30,
          80,
          30,
          80,
          80,
          55,
          30,
          30,
          55,
          30,
          30,
          80,
          30,
          55,
          55,
          55,
          30,
          80,
          30,
          80,
          80,
          30,
          80,
          80,
          30,
          30,
          80,
          30,
          80,
          30,
          30,
          30,
          80,
          30,
          30,
          30,
          80,
          55,
          30,
          55,
          55,
          55,
          30,
          55,
          30,
          80,
          30,
          80,
          55,
          80,
          55,
          30,
          80,
          55,
          30,
          80,
          55,
          30,
          55,
          30,
          30,
          80,
          55,
          30,
          55,
          30,
          80,
          80,
          55,
          30,
          30,
          30,
          30,
          80,
          80,
          55,
          80,
          55,
          55,
          30,
          55,
          30,
          80,
          80,
          30,
          30,
          80,
          55,
          55,
          80,
          55,
          30,
          30,
          80,
          80,
          80,
          55,
          55,
          80,
          30,
          55,
          30,
          55,
          80,
          30,
          30,
          80,
          80,
          30,
          30,
          55,
          80,
          30,
          55,
          30,
          55,
          30,
          80,
          30,
          30,
          55,
          30,
          80,
          30,
          80,
          80,
          55,
          30,
          55,
          55,
          55,
          30,
          80,
          55,
          30,
          80,
          30,
          80,
          30,
          30,
          80,
          55,
          30,
          55,
          55,
          30,
          30,
          30,
          55,
          30,
          55,
          80,
          80,
          55,
          55,
          55,
          80,
          30,
          55,
          30,
          80,
          30,
          55,
          55,
          30,
          80,
          55,
          55,
          30,
          80,
          30,
          30,
          80,
          55,
          55,
          55,
          30,
          55,
          30,
          30,
          80,
          80,
          30,
          80,
          55,
          80,
          55,
          55,
          80,
          80,
          55,
          30,
          80,
          80,
          55,
          30,
          80,
          30,
          30,
          30,
          55,
          80,
          55,
          30,
          30,
          55,
          30,
          55,
          30,
          80,
          30,
          30,
          80,
          55,
          55,
          55,
          55,
          30,
          30,
          80,
          30,
          30,
          30,
          55,
          55,
          30,
          55,
          30,
          30,
          30,
          55,
          30,
          80,
          80,
          55,
          30,
          55,
          55,
          30,
          80,
          55,
          30,
          80,
          30,
          30,
          30,
          80,
          80,
          80,
          55,
          30,
          30,
          55,
          55,
          80,
          30,
          80,
          30,
          55,
          30,
          30,
          80,
          80,
          55,
          55,
          30,
          80,
          80,
          55,
          30,
          55,
          80,
          80,
          55,
          30,
          55,
          80,
          30,
          55,
          55,
          30,
          55,
          80,
          55,
          80,
          30,
          55,
          30,
          80,
          30,
          55,
          30,
          80,
          55,
          55,
          30,
          30,
          30,
          80,
          30,
          55,
          30,
          30,
          80,
          80,
          55,
          55,
          55,
          30,
          30,
          80,
          55,
          30,
          30,
          80,
          80,
          80,
          55,
          30,
          30,
          55,
          80,
          30,
          55,
          30,
          80,
          30,
          55,
          30,
          80,
          30,
          30,
          55,
          55,
          30,
          30,
          80,
          30,
          30,
          80,
          55,
          30,
          55,
          80,
          30,
          80,
          30,
          55,
          30,
          80,
          30,
          80,
          80,
          55,
          30,
          55,
          55,
          30,
          30,
          55,
          30,
          80,
          80,
          55,
          30,
          80,
          55,
          80,
          30,
          30,
          80,
          80,
          55,
          30,
          30,
          55,
          80,
          55,
          55,
          30,
          55,
          30,
          30,
          30,
          80,
          30,
          30,
          30,
          55,
          80,
          55,
          30,
          30,
          80,
          30,
          80,
          55,
          55,
          80,
          55,
          30,
          55,
          30,
          30,
          80,
          80,
          55,
          30,
          55,
          55,
          30,
          30,
          80,
          55,
          30,
          80,
          30,
          30,
          80,
          80,
          55,
          55,
          30,
          55,
          55,
          30,
          80,
          30,
          30,
          80,
          30,
          30,
          55,
          55,
          80,
          30,
          55,
          30,
          30,
          80,
          55,
          30,
          30,
          30,
          80,
          80,
          55,
          30,
          55,
          80,
          30,
          55,
          30,
          55,
          30,
          30,
          30,
          80,
          30,
          30,
          55,
          30,
          30,
          80,
          55,
          55,
          30,
          30,
          30,
          80,
          55,
          55,
          80,
          30,
          30,
          80,
          80,
          55,
          55,
          30,
          30,
          80,
          80,
          55,
          55,
          80,
          30,
          55,
          30,
          80,
          30,
          30,
          80,
          30,
          30,
          55,
          55,
          55,
          30,
          30,
          30,
          80,
          55,
          55,
          55,
          55,
          30,
          80,
          30,
          30,
          80,
          80,
          55,
          55,
          55,
          80,
          30,
          55,
          30,
          30,
          30,
          30,
          80
         ],
         "xaxis": "x",
         "yaxis": "y"
        }
       ],
       "layout": {
        "barmode": "relative",
        "legend": {
         "title": {
          "text": "Y"
         },
         "tracegroupgap": 0
        },
        "margin": {
         "t": 60
        },
        "template": {
         "data": {
          "bar": [
           {
            "error_x": {
             "color": "#2a3f5f"
            },
            "error_y": {
             "color": "#2a3f5f"
            },
            "marker": {
             "line": {
              "color": "#E5ECF6",
              "width": 0.5
             },
             "pattern": {
              "fillmode": "overlay",
              "size": 10,
              "solidity": 0.2
             }
            },
            "type": "bar"
           }
          ],
          "barpolar": [
           {
            "marker": {
             "line": {
              "color": "#E5ECF6",
              "width": 0.5
             },
             "pattern": {
              "fillmode": "overlay",
              "size": 10,
              "solidity": 0.2
             }
            },
            "type": "barpolar"
           }
          ],
          "carpet": [
           {
            "aaxis": {
             "endlinecolor": "#2a3f5f",
             "gridcolor": "white",
             "linecolor": "white",
             "minorgridcolor": "white",
             "startlinecolor": "#2a3f5f"
            },
            "baxis": {
             "endlinecolor": "#2a3f5f",
             "gridcolor": "white",
             "linecolor": "white",
             "minorgridcolor": "white",
             "startlinecolor": "#2a3f5f"
            },
            "type": "carpet"
           }
          ],
          "choropleth": [
           {
            "colorbar": {
             "outlinewidth": 0,
             "ticks": ""
            },
            "type": "choropleth"
           }
          ],
          "contour": [
           {
            "colorbar": {
             "outlinewidth": 0,
             "ticks": ""
            },
            "colorscale": [
             [
              0,
              "#0d0887"
             ],
             [
              0.1111111111111111,
              "#46039f"
             ],
             [
              0.2222222222222222,
              "#7201a8"
             ],
             [
              0.3333333333333333,
              "#9c179e"
             ],
             [
              0.4444444444444444,
              "#bd3786"
             ],
             [
              0.5555555555555556,
              "#d8576b"
             ],
             [
              0.6666666666666666,
              "#ed7953"
             ],
             [
              0.7777777777777778,
              "#fb9f3a"
             ],
             [
              0.8888888888888888,
              "#fdca26"
             ],
             [
              1,
              "#f0f921"
             ]
            ],
            "type": "contour"
           }
          ],
          "contourcarpet": [
           {
            "colorbar": {
             "outlinewidth": 0,
             "ticks": ""
            },
            "type": "contourcarpet"
           }
          ],
          "heatmap": [
           {
            "colorbar": {
             "outlinewidth": 0,
             "ticks": ""
            },
            "colorscale": [
             [
              0,
              "#0d0887"
             ],
             [
              0.1111111111111111,
              "#46039f"
             ],
             [
              0.2222222222222222,
              "#7201a8"
             ],
             [
              0.3333333333333333,
              "#9c179e"
             ],
             [
              0.4444444444444444,
              "#bd3786"
             ],
             [
              0.5555555555555556,
              "#d8576b"
             ],
             [
              0.6666666666666666,
              "#ed7953"
             ],
             [
              0.7777777777777778,
              "#fb9f3a"
             ],
             [
              0.8888888888888888,
              "#fdca26"
             ],
             [
              1,
              "#f0f921"
             ]
            ],
            "type": "heatmap"
           }
          ],
          "heatmapgl": [
           {
            "colorbar": {
             "outlinewidth": 0,
             "ticks": ""
            },
            "colorscale": [
             [
              0,
              "#0d0887"
             ],
             [
              0.1111111111111111,
              "#46039f"
             ],
             [
              0.2222222222222222,
              "#7201a8"
             ],
             [
              0.3333333333333333,
              "#9c179e"
             ],
             [
              0.4444444444444444,
              "#bd3786"
             ],
             [
              0.5555555555555556,
              "#d8576b"
             ],
             [
              0.6666666666666666,
              "#ed7953"
             ],
             [
              0.7777777777777778,
              "#fb9f3a"
             ],
             [
              0.8888888888888888,
              "#fdca26"
             ],
             [
              1,
              "#f0f921"
             ]
            ],
            "type": "heatmapgl"
           }
          ],
          "histogram": [
           {
            "marker": {
             "pattern": {
              "fillmode": "overlay",
              "size": 10,
              "solidity": 0.2
             }
            },
            "type": "histogram"
           }
          ],
          "histogram2d": [
           {
            "colorbar": {
             "outlinewidth": 0,
             "ticks": ""
            },
            "colorscale": [
             [
              0,
              "#0d0887"
             ],
             [
              0.1111111111111111,
              "#46039f"
             ],
             [
              0.2222222222222222,
              "#7201a8"
             ],
             [
              0.3333333333333333,
              "#9c179e"
             ],
             [
              0.4444444444444444,
              "#bd3786"
             ],
             [
              0.5555555555555556,
              "#d8576b"
             ],
             [
              0.6666666666666666,
              "#ed7953"
             ],
             [
              0.7777777777777778,
              "#fb9f3a"
             ],
             [
              0.8888888888888888,
              "#fdca26"
             ],
             [
              1,
              "#f0f921"
             ]
            ],
            "type": "histogram2d"
           }
          ],
          "histogram2dcontour": [
           {
            "colorbar": {
             "outlinewidth": 0,
             "ticks": ""
            },
            "colorscale": [
             [
              0,
              "#0d0887"
             ],
             [
              0.1111111111111111,
              "#46039f"
             ],
             [
              0.2222222222222222,
              "#7201a8"
             ],
             [
              0.3333333333333333,
              "#9c179e"
             ],
             [
              0.4444444444444444,
              "#bd3786"
             ],
             [
              0.5555555555555556,
              "#d8576b"
             ],
             [
              0.6666666666666666,
              "#ed7953"
             ],
             [
              0.7777777777777778,
              "#fb9f3a"
             ],
             [
              0.8888888888888888,
              "#fdca26"
             ],
             [
              1,
              "#f0f921"
             ]
            ],
            "type": "histogram2dcontour"
           }
          ],
          "mesh3d": [
           {
            "colorbar": {
             "outlinewidth": 0,
             "ticks": ""
            },
            "type": "mesh3d"
           }
          ],
          "parcoords": [
           {
            "line": {
             "colorbar": {
              "outlinewidth": 0,
              "ticks": ""
             }
            },
            "type": "parcoords"
           }
          ],
          "pie": [
           {
            "automargin": true,
            "type": "pie"
           }
          ],
          "scatter": [
           {
            "fillpattern": {
             "fillmode": "overlay",
             "size": 10,
             "solidity": 0.2
            },
            "type": "scatter"
           }
          ],
          "scatter3d": [
           {
            "line": {
             "colorbar": {
              "outlinewidth": 0,
              "ticks": ""
             }
            },
            "marker": {
             "colorbar": {
              "outlinewidth": 0,
              "ticks": ""
             }
            },
            "type": "scatter3d"
           }
          ],
          "scattercarpet": [
           {
            "marker": {
             "colorbar": {
              "outlinewidth": 0,
              "ticks": ""
             }
            },
            "type": "scattercarpet"
           }
          ],
          "scattergeo": [
           {
            "marker": {
             "colorbar": {
              "outlinewidth": 0,
              "ticks": ""
             }
            },
            "type": "scattergeo"
           }
          ],
          "scattergl": [
           {
            "marker": {
             "colorbar": {
              "outlinewidth": 0,
              "ticks": ""
             }
            },
            "type": "scattergl"
           }
          ],
          "scattermapbox": [
           {
            "marker": {
             "colorbar": {
              "outlinewidth": 0,
              "ticks": ""
             }
            },
            "type": "scattermapbox"
           }
          ],
          "scatterpolar": [
           {
            "marker": {
             "colorbar": {
              "outlinewidth": 0,
              "ticks": ""
             }
            },
            "type": "scatterpolar"
           }
          ],
          "scatterpolargl": [
           {
            "marker": {
             "colorbar": {
              "outlinewidth": 0,
              "ticks": ""
             }
            },
            "type": "scatterpolargl"
           }
          ],
          "scatterternary": [
           {
            "marker": {
             "colorbar": {
              "outlinewidth": 0,
              "ticks": ""
             }
            },
            "type": "scatterternary"
           }
          ],
          "surface": [
           {
            "colorbar": {
             "outlinewidth": 0,
             "ticks": ""
            },
            "colorscale": [
             [
              0,
              "#0d0887"
             ],
             [
              0.1111111111111111,
              "#46039f"
             ],
             [
              0.2222222222222222,
              "#7201a8"
             ],
             [
              0.3333333333333333,
              "#9c179e"
             ],
             [
              0.4444444444444444,
              "#bd3786"
             ],
             [
              0.5555555555555556,
              "#d8576b"
             ],
             [
              0.6666666666666666,
              "#ed7953"
             ],
             [
              0.7777777777777778,
              "#fb9f3a"
             ],
             [
              0.8888888888888888,
              "#fdca26"
             ],
             [
              1,
              "#f0f921"
             ]
            ],
            "type": "surface"
           }
          ],
          "table": [
           {
            "cells": {
             "fill": {
              "color": "#EBF0F8"
             },
             "line": {
              "color": "white"
             }
            },
            "header": {
             "fill": {
              "color": "#C8D4E3"
             },
             "line": {
              "color": "white"
             }
            },
            "type": "table"
           }
          ]
         },
         "layout": {
          "annotationdefaults": {
           "arrowcolor": "#2a3f5f",
           "arrowhead": 0,
           "arrowwidth": 1
          },
          "autotypenumbers": "strict",
          "coloraxis": {
           "colorbar": {
            "outlinewidth": 0,
            "ticks": ""
           }
          },
          "colorscale": {
           "diverging": [
            [
             0,
             "#8e0152"
            ],
            [
             0.1,
             "#c51b7d"
            ],
            [
             0.2,
             "#de77ae"
            ],
            [
             0.3,
             "#f1b6da"
            ],
            [
             0.4,
             "#fde0ef"
            ],
            [
             0.5,
             "#f7f7f7"
            ],
            [
             0.6,
             "#e6f5d0"
            ],
            [
             0.7,
             "#b8e186"
            ],
            [
             0.8,
             "#7fbc41"
            ],
            [
             0.9,
             "#4d9221"
            ],
            [
             1,
             "#276419"
            ]
           ],
           "sequential": [
            [
             0,
             "#0d0887"
            ],
            [
             0.1111111111111111,
             "#46039f"
            ],
            [
             0.2222222222222222,
             "#7201a8"
            ],
            [
             0.3333333333333333,
             "#9c179e"
            ],
            [
             0.4444444444444444,
             "#bd3786"
            ],
            [
             0.5555555555555556,
             "#d8576b"
            ],
            [
             0.6666666666666666,
             "#ed7953"
            ],
            [
             0.7777777777777778,
             "#fb9f3a"
            ],
            [
             0.8888888888888888,
             "#fdca26"
            ],
            [
             1,
             "#f0f921"
            ]
           ],
           "sequentialminus": [
            [
             0,
             "#0d0887"
            ],
            [
             0.1111111111111111,
             "#46039f"
            ],
            [
             0.2222222222222222,
             "#7201a8"
            ],
            [
             0.3333333333333333,
             "#9c179e"
            ],
            [
             0.4444444444444444,
             "#bd3786"
            ],
            [
             0.5555555555555556,
             "#d8576b"
            ],
            [
             0.6666666666666666,
             "#ed7953"
            ],
            [
             0.7777777777777778,
             "#fb9f3a"
            ],
            [
             0.8888888888888888,
             "#fdca26"
            ],
            [
             1,
             "#f0f921"
            ]
           ]
          },
          "colorway": [
           "#636efa",
           "#EF553B",
           "#00cc96",
           "#ab63fa",
           "#FFA15A",
           "#19d3f3",
           "#FF6692",
           "#B6E880",
           "#FF97FF",
           "#FECB52"
          ],
          "font": {
           "color": "#2a3f5f"
          },
          "geo": {
           "bgcolor": "white",
           "lakecolor": "white",
           "landcolor": "#E5ECF6",
           "showlakes": true,
           "showland": true,
           "subunitcolor": "white"
          },
          "hoverlabel": {
           "align": "left"
          },
          "hovermode": "closest",
          "mapbox": {
           "style": "light"
          },
          "paper_bgcolor": "white",
          "plot_bgcolor": "#E5ECF6",
          "polar": {
           "angularaxis": {
            "gridcolor": "white",
            "linecolor": "white",
            "ticks": ""
           },
           "bgcolor": "#E5ECF6",
           "radialaxis": {
            "gridcolor": "white",
            "linecolor": "white",
            "ticks": ""
           }
          },
          "scene": {
           "xaxis": {
            "backgroundcolor": "#E5ECF6",
            "gridcolor": "white",
            "gridwidth": 2,
            "linecolor": "white",
            "showbackground": true,
            "ticks": "",
            "zerolinecolor": "white"
           },
           "yaxis": {
            "backgroundcolor": "#E5ECF6",
            "gridcolor": "white",
            "gridwidth": 2,
            "linecolor": "white",
            "showbackground": true,
            "ticks": "",
            "zerolinecolor": "white"
           },
           "zaxis": {
            "backgroundcolor": "#E5ECF6",
            "gridcolor": "white",
            "gridwidth": 2,
            "linecolor": "white",
            "showbackground": true,
            "ticks": "",
            "zerolinecolor": "white"
           }
          },
          "shapedefaults": {
           "line": {
            "color": "#2a3f5f"
           }
          },
          "ternary": {
           "aaxis": {
            "gridcolor": "white",
            "linecolor": "white",
            "ticks": ""
           },
           "baxis": {
            "gridcolor": "white",
            "linecolor": "white",
            "ticks": ""
           },
           "bgcolor": "#E5ECF6",
           "caxis": {
            "gridcolor": "white",
            "linecolor": "white",
            "ticks": ""
           }
          },
          "title": {
           "x": 0.05
          },
          "xaxis": {
           "automargin": true,
           "gridcolor": "white",
           "linecolor": "white",
           "ticks": "",
           "title": {
            "standoff": 15
           },
           "zerolinecolor": "white",
           "zerolinewidth": 2
          },
          "yaxis": {
           "automargin": true,
           "gridcolor": "white",
           "linecolor": "white",
           "ticks": "",
           "title": {
            "standoff": 15
           },
           "zerolinecolor": "white",
           "zerolinewidth": 2
          }
         }
        },
        "xaxis": {
         "anchor": "y",
         "domain": [
          0,
          1
         ],
         "title": {
          "text": "temperature"
         }
        },
        "yaxis": {
         "anchor": "x",
         "domain": [
          0,
          1
         ],
         "title": {
          "text": "count"
         }
        }
       }
      }
     },
     "metadata": {},
     "output_type": "display_data"
    }
   ],
   "source": [
    "#histdata=newdata.groupby(['temperature','Y']).size().reset_index(name='size')\n",
    "fig = px.histogram(numericdata, x='temperature',color='Y')\n",
    "fig.show()"
   ]
  },
  {
   "cell_type": "code",
   "execution_count": 497,
   "metadata": {
    "vscode": {
     "languageId": "powershell"
    }
   },
   "outputs": [],
   "source": [
    "# save image\n",
    "fig.write_image(\"images/temphist.png\")"
   ]
  },
  {
   "cell_type": "markdown",
   "metadata": {},
   "source": [
    "**Investigating the Bar Coupons**\n",
    "\n",
    "Now, we will lead you through an exploration of just the bar related coupons.  \n",
    "\n",
    "1. Create a new `DataFrame` that contains just the bar coupons.\n"
   ]
  },
  {
   "cell_type": "code",
   "execution_count": 498,
   "metadata": {
    "vscode": {
     "languageId": "powershell"
    }
   },
   "outputs": [],
   "source": [
    "# create df where coupon == 'Bar'\n",
    "barcoupon = numericdata.query(\"coupon == 'Bar'\")"
   ]
  },
  {
   "cell_type": "code",
   "execution_count": 499,
   "metadata": {
    "vscode": {
     "languageId": "powershell"
    }
   },
   "outputs": [
    {
     "data": {
      "text/plain": [
       "destination             1980\n",
       "passanger               1980\n",
       "weather                 1980\n",
       "temperature             1980\n",
       "time                    1980\n",
       "coupon                  1980\n",
       "expiration              1980\n",
       "gender                  1980\n",
       "age                     1980\n",
       "maritalStatus           1980\n",
       "has_children            1980\n",
       "education               1980\n",
       "occupation              1980\n",
       "income                  1980\n",
       "car                     1980\n",
       "Bar                     1980\n",
       "CoffeeHouse             1980\n",
       "CarryAway               1980\n",
       "RestaurantLessThan20    1980\n",
       "Restaurant20To50        1980\n",
       "toCoupon_GEQ5min        1980\n",
       "toCoupon_GEQ15min       1980\n",
       "toCoupon_GEQ25min       1980\n",
       "direction_same          1980\n",
       "direction_opp           1980\n",
       "Y                       1980\n",
       "bar_bucket              1980\n",
       "dtype: int64"
      ]
     },
     "execution_count": 499,
     "metadata": {},
     "output_type": "execute_result"
    }
   ],
   "source": [
    "coupon.count()"
   ]
  },
  {
   "cell_type": "markdown",
   "metadata": {},
   "source": [
    "2. What proportion of bar coupons were accepted?\n"
   ]
  },
  {
   "cell_type": "code",
   "execution_count": 500,
   "metadata": {
    "vscode": {
     "languageId": "powershell"
    }
   },
   "outputs": [],
   "source": [
    "# remove unknown\n",
    "barcoupon = barcoupon.query(\"Bar != 'unknown'\")\n",
    "barcoupon = barcoupon.query(\"RestaurantLessThan20 != 'unknown'\")\n",
    "barcoupon = barcoupon.query(\"income != 'unknown'\")\n",
    "barcoupon = barcoupon.query(\"age != 'unknown'\")"
   ]
  },
  {
   "cell_type": "code",
   "execution_count": 501,
   "metadata": {
    "vscode": {
     "languageId": "powershell"
    }
   },
   "outputs": [],
   "source": [
    "# convert string columns to int\n",
    "barcoupon['Bar'] = barcoupon['Bar'].astype(int)\n",
    "barcoupon['age'] = barcoupon['age'].astype(int)\n",
    "barcoupon['RestaurantLessThan20'] = barcoupon['RestaurantLessThan20'].astype(int)\n",
    "barcoupon['income'] = barcoupon['income'].astype(int)"
   ]
  },
  {
   "cell_type": "code",
   "execution_count": 502,
   "metadata": {
    "vscode": {
     "languageId": "powershell"
    }
   },
   "outputs": [
    {
     "data": {
      "text/plain": [
       "Y\n",
       "0    1170\n",
       "1     810\n",
       "dtype: int64"
      ]
     },
     "execution_count": 502,
     "metadata": {},
     "output_type": "execute_result"
    }
   ],
   "source": [
    "barcoupon.groupby('Y').size()"
   ]
  },
  {
   "cell_type": "markdown",
   "metadata": {},
   "source": [
    "817 bar coupons accepted out of 1994, 41% "
   ]
  },
  {
   "cell_type": "markdown",
   "metadata": {},
   "source": [
    "3. Compare the acceptance rate between those who went to a bar 3 or fewer times a month to those who went more.\n"
   ]
  },
  {
   "cell_type": "code",
   "execution_count": 503,
   "metadata": {
    "vscode": {
     "languageId": "powershell"
    }
   },
   "outputs": [],
   "source": [
    "#coupon.Bar.unique()"
   ]
  },
  {
   "cell_type": "code",
   "execution_count": 504,
   "metadata": {
    "vscode": {
     "languageId": "powershell"
    }
   },
   "outputs": [],
   "source": [
    "# group records into 2 bins, those who went 3 times or fewer and those who went more\n",
    "barcoupon[\"bar_bucket\"] = pd.cut(x=barcoupon.Bar, bins=[-1,3,8], labels=['<3','>3'])"
   ]
  },
  {
   "cell_type": "code",
   "execution_count": 505,
   "metadata": {
    "vscode": {
     "languageId": "powershell"
    }
   },
   "outputs": [
    {
     "name": "stderr",
     "output_type": "stream",
     "text": [
      "C:\\Users\\christian.dungca\\AppData\\Local\\Temp\\ipykernel_15176\\3610471644.py:2: FutureWarning:\n",
      "\n",
      "The default of observed=False is deprecated and will be changed to True in a future version of pandas. Pass observed=False to retain current behavior or observed=True to adopt the future default and silence this warning.\n",
      "\n"
     ]
    }
   ],
   "source": [
    "# assign to a new df for this scenario\n",
    "scenariodf = barcoupon.groupby(['bar_bucket','Y']).size().reset_index(name='size')"
   ]
  },
  {
   "cell_type": "code",
   "execution_count": 506,
   "metadata": {
    "vscode": {
     "languageId": "powershell"
    }
   },
   "outputs": [
    {
     "data": {
      "text/plain": [
       "['<3', '>3']\n",
       "Categories (2, object): ['<3' < '>3']"
      ]
     },
     "execution_count": 506,
     "metadata": {},
     "output_type": "execute_result"
    }
   ],
   "source": [
    "# check new column\n",
    "scenariodf.bar_bucket.unique()"
   ]
  },
  {
   "cell_type": "code",
   "execution_count": 507,
   "metadata": {
    "vscode": {
     "languageId": "powershell"
    }
   },
   "outputs": [
    {
     "data": {
      "application/vnd.plotly.v1+json": {
       "config": {
        "plotlyServerURL": "https://plot.ly"
       },
       "data": [
        {
         "alignmentgroup": "True",
         "hovertemplate": "bar_bucket=%{x}<br>size=%{y}<br>Y=%{marker.color}<extra></extra>",
         "legendgroup": "",
         "marker": {
          "color": [
           0,
           1,
           0,
           1
          ],
          "coloraxis": "coloraxis",
          "pattern": {
           "shape": ""
          }
         },
         "name": "",
         "offsetgroup": "",
         "orientation": "v",
         "showlegend": false,
         "textposition": "auto",
         "type": "bar",
         "x": [
          "<3",
          "<3",
          ">3",
          ">3"
         ],
         "xaxis": "x",
         "y": [
          1124,
          659,
          46,
          151
         ],
         "yaxis": "y"
        }
       ],
       "layout": {
        "barmode": "relative",
        "coloraxis": {
         "colorbar": {
          "title": {
           "text": "Y"
          }
         },
         "colorscale": [
          [
           0,
           "#0d0887"
          ],
          [
           0.1111111111111111,
           "#46039f"
          ],
          [
           0.2222222222222222,
           "#7201a8"
          ],
          [
           0.3333333333333333,
           "#9c179e"
          ],
          [
           0.4444444444444444,
           "#bd3786"
          ],
          [
           0.5555555555555556,
           "#d8576b"
          ],
          [
           0.6666666666666666,
           "#ed7953"
          ],
          [
           0.7777777777777778,
           "#fb9f3a"
          ],
          [
           0.8888888888888888,
           "#fdca26"
          ],
          [
           1,
           "#f0f921"
          ]
         ]
        },
        "legend": {
         "tracegroupgap": 0
        },
        "margin": {
         "t": 60
        },
        "template": {
         "data": {
          "bar": [
           {
            "error_x": {
             "color": "#2a3f5f"
            },
            "error_y": {
             "color": "#2a3f5f"
            },
            "marker": {
             "line": {
              "color": "#E5ECF6",
              "width": 0.5
             },
             "pattern": {
              "fillmode": "overlay",
              "size": 10,
              "solidity": 0.2
             }
            },
            "type": "bar"
           }
          ],
          "barpolar": [
           {
            "marker": {
             "line": {
              "color": "#E5ECF6",
              "width": 0.5
             },
             "pattern": {
              "fillmode": "overlay",
              "size": 10,
              "solidity": 0.2
             }
            },
            "type": "barpolar"
           }
          ],
          "carpet": [
           {
            "aaxis": {
             "endlinecolor": "#2a3f5f",
             "gridcolor": "white",
             "linecolor": "white",
             "minorgridcolor": "white",
             "startlinecolor": "#2a3f5f"
            },
            "baxis": {
             "endlinecolor": "#2a3f5f",
             "gridcolor": "white",
             "linecolor": "white",
             "minorgridcolor": "white",
             "startlinecolor": "#2a3f5f"
            },
            "type": "carpet"
           }
          ],
          "choropleth": [
           {
            "colorbar": {
             "outlinewidth": 0,
             "ticks": ""
            },
            "type": "choropleth"
           }
          ],
          "contour": [
           {
            "colorbar": {
             "outlinewidth": 0,
             "ticks": ""
            },
            "colorscale": [
             [
              0,
              "#0d0887"
             ],
             [
              0.1111111111111111,
              "#46039f"
             ],
             [
              0.2222222222222222,
              "#7201a8"
             ],
             [
              0.3333333333333333,
              "#9c179e"
             ],
             [
              0.4444444444444444,
              "#bd3786"
             ],
             [
              0.5555555555555556,
              "#d8576b"
             ],
             [
              0.6666666666666666,
              "#ed7953"
             ],
             [
              0.7777777777777778,
              "#fb9f3a"
             ],
             [
              0.8888888888888888,
              "#fdca26"
             ],
             [
              1,
              "#f0f921"
             ]
            ],
            "type": "contour"
           }
          ],
          "contourcarpet": [
           {
            "colorbar": {
             "outlinewidth": 0,
             "ticks": ""
            },
            "type": "contourcarpet"
           }
          ],
          "heatmap": [
           {
            "colorbar": {
             "outlinewidth": 0,
             "ticks": ""
            },
            "colorscale": [
             [
              0,
              "#0d0887"
             ],
             [
              0.1111111111111111,
              "#46039f"
             ],
             [
              0.2222222222222222,
              "#7201a8"
             ],
             [
              0.3333333333333333,
              "#9c179e"
             ],
             [
              0.4444444444444444,
              "#bd3786"
             ],
             [
              0.5555555555555556,
              "#d8576b"
             ],
             [
              0.6666666666666666,
              "#ed7953"
             ],
             [
              0.7777777777777778,
              "#fb9f3a"
             ],
             [
              0.8888888888888888,
              "#fdca26"
             ],
             [
              1,
              "#f0f921"
             ]
            ],
            "type": "heatmap"
           }
          ],
          "heatmapgl": [
           {
            "colorbar": {
             "outlinewidth": 0,
             "ticks": ""
            },
            "colorscale": [
             [
              0,
              "#0d0887"
             ],
             [
              0.1111111111111111,
              "#46039f"
             ],
             [
              0.2222222222222222,
              "#7201a8"
             ],
             [
              0.3333333333333333,
              "#9c179e"
             ],
             [
              0.4444444444444444,
              "#bd3786"
             ],
             [
              0.5555555555555556,
              "#d8576b"
             ],
             [
              0.6666666666666666,
              "#ed7953"
             ],
             [
              0.7777777777777778,
              "#fb9f3a"
             ],
             [
              0.8888888888888888,
              "#fdca26"
             ],
             [
              1,
              "#f0f921"
             ]
            ],
            "type": "heatmapgl"
           }
          ],
          "histogram": [
           {
            "marker": {
             "pattern": {
              "fillmode": "overlay",
              "size": 10,
              "solidity": 0.2
             }
            },
            "type": "histogram"
           }
          ],
          "histogram2d": [
           {
            "colorbar": {
             "outlinewidth": 0,
             "ticks": ""
            },
            "colorscale": [
             [
              0,
              "#0d0887"
             ],
             [
              0.1111111111111111,
              "#46039f"
             ],
             [
              0.2222222222222222,
              "#7201a8"
             ],
             [
              0.3333333333333333,
              "#9c179e"
             ],
             [
              0.4444444444444444,
              "#bd3786"
             ],
             [
              0.5555555555555556,
              "#d8576b"
             ],
             [
              0.6666666666666666,
              "#ed7953"
             ],
             [
              0.7777777777777778,
              "#fb9f3a"
             ],
             [
              0.8888888888888888,
              "#fdca26"
             ],
             [
              1,
              "#f0f921"
             ]
            ],
            "type": "histogram2d"
           }
          ],
          "histogram2dcontour": [
           {
            "colorbar": {
             "outlinewidth": 0,
             "ticks": ""
            },
            "colorscale": [
             [
              0,
              "#0d0887"
             ],
             [
              0.1111111111111111,
              "#46039f"
             ],
             [
              0.2222222222222222,
              "#7201a8"
             ],
             [
              0.3333333333333333,
              "#9c179e"
             ],
             [
              0.4444444444444444,
              "#bd3786"
             ],
             [
              0.5555555555555556,
              "#d8576b"
             ],
             [
              0.6666666666666666,
              "#ed7953"
             ],
             [
              0.7777777777777778,
              "#fb9f3a"
             ],
             [
              0.8888888888888888,
              "#fdca26"
             ],
             [
              1,
              "#f0f921"
             ]
            ],
            "type": "histogram2dcontour"
           }
          ],
          "mesh3d": [
           {
            "colorbar": {
             "outlinewidth": 0,
             "ticks": ""
            },
            "type": "mesh3d"
           }
          ],
          "parcoords": [
           {
            "line": {
             "colorbar": {
              "outlinewidth": 0,
              "ticks": ""
             }
            },
            "type": "parcoords"
           }
          ],
          "pie": [
           {
            "automargin": true,
            "type": "pie"
           }
          ],
          "scatter": [
           {
            "fillpattern": {
             "fillmode": "overlay",
             "size": 10,
             "solidity": 0.2
            },
            "type": "scatter"
           }
          ],
          "scatter3d": [
           {
            "line": {
             "colorbar": {
              "outlinewidth": 0,
              "ticks": ""
             }
            },
            "marker": {
             "colorbar": {
              "outlinewidth": 0,
              "ticks": ""
             }
            },
            "type": "scatter3d"
           }
          ],
          "scattercarpet": [
           {
            "marker": {
             "colorbar": {
              "outlinewidth": 0,
              "ticks": ""
             }
            },
            "type": "scattercarpet"
           }
          ],
          "scattergeo": [
           {
            "marker": {
             "colorbar": {
              "outlinewidth": 0,
              "ticks": ""
             }
            },
            "type": "scattergeo"
           }
          ],
          "scattergl": [
           {
            "marker": {
             "colorbar": {
              "outlinewidth": 0,
              "ticks": ""
             }
            },
            "type": "scattergl"
           }
          ],
          "scattermapbox": [
           {
            "marker": {
             "colorbar": {
              "outlinewidth": 0,
              "ticks": ""
             }
            },
            "type": "scattermapbox"
           }
          ],
          "scatterpolar": [
           {
            "marker": {
             "colorbar": {
              "outlinewidth": 0,
              "ticks": ""
             }
            },
            "type": "scatterpolar"
           }
          ],
          "scatterpolargl": [
           {
            "marker": {
             "colorbar": {
              "outlinewidth": 0,
              "ticks": ""
             }
            },
            "type": "scatterpolargl"
           }
          ],
          "scatterternary": [
           {
            "marker": {
             "colorbar": {
              "outlinewidth": 0,
              "ticks": ""
             }
            },
            "type": "scatterternary"
           }
          ],
          "surface": [
           {
            "colorbar": {
             "outlinewidth": 0,
             "ticks": ""
            },
            "colorscale": [
             [
              0,
              "#0d0887"
             ],
             [
              0.1111111111111111,
              "#46039f"
             ],
             [
              0.2222222222222222,
              "#7201a8"
             ],
             [
              0.3333333333333333,
              "#9c179e"
             ],
             [
              0.4444444444444444,
              "#bd3786"
             ],
             [
              0.5555555555555556,
              "#d8576b"
             ],
             [
              0.6666666666666666,
              "#ed7953"
             ],
             [
              0.7777777777777778,
              "#fb9f3a"
             ],
             [
              0.8888888888888888,
              "#fdca26"
             ],
             [
              1,
              "#f0f921"
             ]
            ],
            "type": "surface"
           }
          ],
          "table": [
           {
            "cells": {
             "fill": {
              "color": "#EBF0F8"
             },
             "line": {
              "color": "white"
             }
            },
            "header": {
             "fill": {
              "color": "#C8D4E3"
             },
             "line": {
              "color": "white"
             }
            },
            "type": "table"
           }
          ]
         },
         "layout": {
          "annotationdefaults": {
           "arrowcolor": "#2a3f5f",
           "arrowhead": 0,
           "arrowwidth": 1
          },
          "autotypenumbers": "strict",
          "coloraxis": {
           "colorbar": {
            "outlinewidth": 0,
            "ticks": ""
           }
          },
          "colorscale": {
           "diverging": [
            [
             0,
             "#8e0152"
            ],
            [
             0.1,
             "#c51b7d"
            ],
            [
             0.2,
             "#de77ae"
            ],
            [
             0.3,
             "#f1b6da"
            ],
            [
             0.4,
             "#fde0ef"
            ],
            [
             0.5,
             "#f7f7f7"
            ],
            [
             0.6,
             "#e6f5d0"
            ],
            [
             0.7,
             "#b8e186"
            ],
            [
             0.8,
             "#7fbc41"
            ],
            [
             0.9,
             "#4d9221"
            ],
            [
             1,
             "#276419"
            ]
           ],
           "sequential": [
            [
             0,
             "#0d0887"
            ],
            [
             0.1111111111111111,
             "#46039f"
            ],
            [
             0.2222222222222222,
             "#7201a8"
            ],
            [
             0.3333333333333333,
             "#9c179e"
            ],
            [
             0.4444444444444444,
             "#bd3786"
            ],
            [
             0.5555555555555556,
             "#d8576b"
            ],
            [
             0.6666666666666666,
             "#ed7953"
            ],
            [
             0.7777777777777778,
             "#fb9f3a"
            ],
            [
             0.8888888888888888,
             "#fdca26"
            ],
            [
             1,
             "#f0f921"
            ]
           ],
           "sequentialminus": [
            [
             0,
             "#0d0887"
            ],
            [
             0.1111111111111111,
             "#46039f"
            ],
            [
             0.2222222222222222,
             "#7201a8"
            ],
            [
             0.3333333333333333,
             "#9c179e"
            ],
            [
             0.4444444444444444,
             "#bd3786"
            ],
            [
             0.5555555555555556,
             "#d8576b"
            ],
            [
             0.6666666666666666,
             "#ed7953"
            ],
            [
             0.7777777777777778,
             "#fb9f3a"
            ],
            [
             0.8888888888888888,
             "#fdca26"
            ],
            [
             1,
             "#f0f921"
            ]
           ]
          },
          "colorway": [
           "#636efa",
           "#EF553B",
           "#00cc96",
           "#ab63fa",
           "#FFA15A",
           "#19d3f3",
           "#FF6692",
           "#B6E880",
           "#FF97FF",
           "#FECB52"
          ],
          "font": {
           "color": "#2a3f5f"
          },
          "geo": {
           "bgcolor": "white",
           "lakecolor": "white",
           "landcolor": "#E5ECF6",
           "showlakes": true,
           "showland": true,
           "subunitcolor": "white"
          },
          "hoverlabel": {
           "align": "left"
          },
          "hovermode": "closest",
          "mapbox": {
           "style": "light"
          },
          "paper_bgcolor": "white",
          "plot_bgcolor": "#E5ECF6",
          "polar": {
           "angularaxis": {
            "gridcolor": "white",
            "linecolor": "white",
            "ticks": ""
           },
           "bgcolor": "#E5ECF6",
           "radialaxis": {
            "gridcolor": "white",
            "linecolor": "white",
            "ticks": ""
           }
          },
          "scene": {
           "xaxis": {
            "backgroundcolor": "#E5ECF6",
            "gridcolor": "white",
            "gridwidth": 2,
            "linecolor": "white",
            "showbackground": true,
            "ticks": "",
            "zerolinecolor": "white"
           },
           "yaxis": {
            "backgroundcolor": "#E5ECF6",
            "gridcolor": "white",
            "gridwidth": 2,
            "linecolor": "white",
            "showbackground": true,
            "ticks": "",
            "zerolinecolor": "white"
           },
           "zaxis": {
            "backgroundcolor": "#E5ECF6",
            "gridcolor": "white",
            "gridwidth": 2,
            "linecolor": "white",
            "showbackground": true,
            "ticks": "",
            "zerolinecolor": "white"
           }
          },
          "shapedefaults": {
           "line": {
            "color": "#2a3f5f"
           }
          },
          "ternary": {
           "aaxis": {
            "gridcolor": "white",
            "linecolor": "white",
            "ticks": ""
           },
           "baxis": {
            "gridcolor": "white",
            "linecolor": "white",
            "ticks": ""
           },
           "bgcolor": "#E5ECF6",
           "caxis": {
            "gridcolor": "white",
            "linecolor": "white",
            "ticks": ""
           }
          },
          "title": {
           "x": 0.05
          },
          "xaxis": {
           "automargin": true,
           "gridcolor": "white",
           "linecolor": "white",
           "ticks": "",
           "title": {
            "standoff": 15
           },
           "zerolinecolor": "white",
           "zerolinewidth": 2
          },
          "yaxis": {
           "automargin": true,
           "gridcolor": "white",
           "linecolor": "white",
           "ticks": "",
           "title": {
            "standoff": 15
           },
           "zerolinecolor": "white",
           "zerolinewidth": 2
          }
         }
        },
        "xaxis": {
         "anchor": "y",
         "domain": [
          0,
          1
         ],
         "title": {
          "text": "bar_bucket"
         }
        },
        "yaxis": {
         "anchor": "x",
         "domain": [
          0,
          1
         ],
         "title": {
          "text": "size"
         }
        }
       }
      }
     },
     "metadata": {},
     "output_type": "display_data"
    }
   ],
   "source": [
    "# visualize scenariodf\n",
    "fig = px.bar(scenariodf, x='bar_bucket', y='size',color='Y')\n",
    "fig.show()"
   ]
  },
  {
   "cell_type": "code",
   "execution_count": 508,
   "metadata": {
    "vscode": {
     "languageId": "powershell"
    }
   },
   "outputs": [],
   "source": [
    "# save image\n",
    "fig.write_image(\"images/scenariodf.png\")"
   ]
  },
  {
   "cell_type": "code",
   "execution_count": 509,
   "metadata": {
    "vscode": {
     "languageId": "powershell"
    }
   },
   "outputs": [
    {
     "data": {
      "text/html": [
       "<div>\n",
       "<style scoped>\n",
       "    .dataframe tbody tr th:only-of-type {\n",
       "        vertical-align: middle;\n",
       "    }\n",
       "\n",
       "    .dataframe tbody tr th {\n",
       "        vertical-align: top;\n",
       "    }\n",
       "\n",
       "    .dataframe thead th {\n",
       "        text-align: right;\n",
       "    }\n",
       "</style>\n",
       "<table border=\"1\" class=\"dataframe\">\n",
       "  <thead>\n",
       "    <tr style=\"text-align: right;\">\n",
       "      <th></th>\n",
       "      <th>bar_bucket</th>\n",
       "      <th>Y</th>\n",
       "      <th>size</th>\n",
       "    </tr>\n",
       "  </thead>\n",
       "  <tbody>\n",
       "    <tr>\n",
       "      <th>0</th>\n",
       "      <td>&lt;3</td>\n",
       "      <td>0</td>\n",
       "      <td>1124</td>\n",
       "    </tr>\n",
       "    <tr>\n",
       "      <th>1</th>\n",
       "      <td>&lt;3</td>\n",
       "      <td>1</td>\n",
       "      <td>659</td>\n",
       "    </tr>\n",
       "    <tr>\n",
       "      <th>2</th>\n",
       "      <td>&gt;3</td>\n",
       "      <td>0</td>\n",
       "      <td>46</td>\n",
       "    </tr>\n",
       "    <tr>\n",
       "      <th>3</th>\n",
       "      <td>&gt;3</td>\n",
       "      <td>1</td>\n",
       "      <td>151</td>\n",
       "    </tr>\n",
       "  </tbody>\n",
       "</table>\n",
       "</div>"
      ],
      "text/plain": [
       "  bar_bucket  Y  size\n",
       "0         <3  0  1124\n",
       "1         <3  1   659\n",
       "2         >3  0    46\n",
       "3         >3  1   151"
      ]
     },
     "execution_count": 509,
     "metadata": {},
     "output_type": "execute_result"
    }
   ],
   "source": [
    "# show scenariodf\n",
    "scenariodf"
   ]
  },
  {
   "cell_type": "markdown",
   "metadata": {},
   "source": [
    "For people that goes to bar less than 3 times, they accept the coupons 666 out of 1797 which is 37%\n",
    "For people that goes to bar more than 3 times, they accept the coupons 151 out of 197 which is 77%"
   ]
  },
  {
   "cell_type": "markdown",
   "metadata": {},
   "source": [
    "4. Compare the acceptance rate between drivers who go to a bar more than once a month and are over the age of 25 to the all others.  Is there a difference?\n"
   ]
  },
  {
   "cell_type": "code",
   "execution_count": 510,
   "metadata": {
    "vscode": {
     "languageId": "powershell"
    }
   },
   "outputs": [
    {
     "data": {
      "application/vnd.plotly.v1+json": {
       "config": {
        "plotlyServerURL": "https://plot.ly"
       },
       "data": [
        {
         "alignmentgroup": "True",
         "hovertemplate": "Y=%{marker.color}<br>size=%{y}<extra></extra>",
         "legendgroup": "",
         "marker": {
          "color": [
           0,
           1
          ],
          "coloraxis": "coloraxis",
          "pattern": {
           "shape": ""
          }
         },
         "name": "",
         "offsetgroup": "",
         "orientation": "v",
         "showlegend": false,
         "textposition": "auto",
         "type": "bar",
         "x": [
          0,
          1
         ],
         "xaxis": "x",
         "y": [
          31,
          103
         ],
         "yaxis": "y"
        }
       ],
       "layout": {
        "barmode": "relative",
        "coloraxis": {
         "colorbar": {
          "title": {
           "text": "Y"
          }
         },
         "colorscale": [
          [
           0,
           "#0d0887"
          ],
          [
           0.1111111111111111,
           "#46039f"
          ],
          [
           0.2222222222222222,
           "#7201a8"
          ],
          [
           0.3333333333333333,
           "#9c179e"
          ],
          [
           0.4444444444444444,
           "#bd3786"
          ],
          [
           0.5555555555555556,
           "#d8576b"
          ],
          [
           0.6666666666666666,
           "#ed7953"
          ],
          [
           0.7777777777777778,
           "#fb9f3a"
          ],
          [
           0.8888888888888888,
           "#fdca26"
          ],
          [
           1,
           "#f0f921"
          ]
         ]
        },
        "legend": {
         "tracegroupgap": 0
        },
        "margin": {
         "t": 60
        },
        "template": {
         "data": {
          "bar": [
           {
            "error_x": {
             "color": "#2a3f5f"
            },
            "error_y": {
             "color": "#2a3f5f"
            },
            "marker": {
             "line": {
              "color": "#E5ECF6",
              "width": 0.5
             },
             "pattern": {
              "fillmode": "overlay",
              "size": 10,
              "solidity": 0.2
             }
            },
            "type": "bar"
           }
          ],
          "barpolar": [
           {
            "marker": {
             "line": {
              "color": "#E5ECF6",
              "width": 0.5
             },
             "pattern": {
              "fillmode": "overlay",
              "size": 10,
              "solidity": 0.2
             }
            },
            "type": "barpolar"
           }
          ],
          "carpet": [
           {
            "aaxis": {
             "endlinecolor": "#2a3f5f",
             "gridcolor": "white",
             "linecolor": "white",
             "minorgridcolor": "white",
             "startlinecolor": "#2a3f5f"
            },
            "baxis": {
             "endlinecolor": "#2a3f5f",
             "gridcolor": "white",
             "linecolor": "white",
             "minorgridcolor": "white",
             "startlinecolor": "#2a3f5f"
            },
            "type": "carpet"
           }
          ],
          "choropleth": [
           {
            "colorbar": {
             "outlinewidth": 0,
             "ticks": ""
            },
            "type": "choropleth"
           }
          ],
          "contour": [
           {
            "colorbar": {
             "outlinewidth": 0,
             "ticks": ""
            },
            "colorscale": [
             [
              0,
              "#0d0887"
             ],
             [
              0.1111111111111111,
              "#46039f"
             ],
             [
              0.2222222222222222,
              "#7201a8"
             ],
             [
              0.3333333333333333,
              "#9c179e"
             ],
             [
              0.4444444444444444,
              "#bd3786"
             ],
             [
              0.5555555555555556,
              "#d8576b"
             ],
             [
              0.6666666666666666,
              "#ed7953"
             ],
             [
              0.7777777777777778,
              "#fb9f3a"
             ],
             [
              0.8888888888888888,
              "#fdca26"
             ],
             [
              1,
              "#f0f921"
             ]
            ],
            "type": "contour"
           }
          ],
          "contourcarpet": [
           {
            "colorbar": {
             "outlinewidth": 0,
             "ticks": ""
            },
            "type": "contourcarpet"
           }
          ],
          "heatmap": [
           {
            "colorbar": {
             "outlinewidth": 0,
             "ticks": ""
            },
            "colorscale": [
             [
              0,
              "#0d0887"
             ],
             [
              0.1111111111111111,
              "#46039f"
             ],
             [
              0.2222222222222222,
              "#7201a8"
             ],
             [
              0.3333333333333333,
              "#9c179e"
             ],
             [
              0.4444444444444444,
              "#bd3786"
             ],
             [
              0.5555555555555556,
              "#d8576b"
             ],
             [
              0.6666666666666666,
              "#ed7953"
             ],
             [
              0.7777777777777778,
              "#fb9f3a"
             ],
             [
              0.8888888888888888,
              "#fdca26"
             ],
             [
              1,
              "#f0f921"
             ]
            ],
            "type": "heatmap"
           }
          ],
          "heatmapgl": [
           {
            "colorbar": {
             "outlinewidth": 0,
             "ticks": ""
            },
            "colorscale": [
             [
              0,
              "#0d0887"
             ],
             [
              0.1111111111111111,
              "#46039f"
             ],
             [
              0.2222222222222222,
              "#7201a8"
             ],
             [
              0.3333333333333333,
              "#9c179e"
             ],
             [
              0.4444444444444444,
              "#bd3786"
             ],
             [
              0.5555555555555556,
              "#d8576b"
             ],
             [
              0.6666666666666666,
              "#ed7953"
             ],
             [
              0.7777777777777778,
              "#fb9f3a"
             ],
             [
              0.8888888888888888,
              "#fdca26"
             ],
             [
              1,
              "#f0f921"
             ]
            ],
            "type": "heatmapgl"
           }
          ],
          "histogram": [
           {
            "marker": {
             "pattern": {
              "fillmode": "overlay",
              "size": 10,
              "solidity": 0.2
             }
            },
            "type": "histogram"
           }
          ],
          "histogram2d": [
           {
            "colorbar": {
             "outlinewidth": 0,
             "ticks": ""
            },
            "colorscale": [
             [
              0,
              "#0d0887"
             ],
             [
              0.1111111111111111,
              "#46039f"
             ],
             [
              0.2222222222222222,
              "#7201a8"
             ],
             [
              0.3333333333333333,
              "#9c179e"
             ],
             [
              0.4444444444444444,
              "#bd3786"
             ],
             [
              0.5555555555555556,
              "#d8576b"
             ],
             [
              0.6666666666666666,
              "#ed7953"
             ],
             [
              0.7777777777777778,
              "#fb9f3a"
             ],
             [
              0.8888888888888888,
              "#fdca26"
             ],
             [
              1,
              "#f0f921"
             ]
            ],
            "type": "histogram2d"
           }
          ],
          "histogram2dcontour": [
           {
            "colorbar": {
             "outlinewidth": 0,
             "ticks": ""
            },
            "colorscale": [
             [
              0,
              "#0d0887"
             ],
             [
              0.1111111111111111,
              "#46039f"
             ],
             [
              0.2222222222222222,
              "#7201a8"
             ],
             [
              0.3333333333333333,
              "#9c179e"
             ],
             [
              0.4444444444444444,
              "#bd3786"
             ],
             [
              0.5555555555555556,
              "#d8576b"
             ],
             [
              0.6666666666666666,
              "#ed7953"
             ],
             [
              0.7777777777777778,
              "#fb9f3a"
             ],
             [
              0.8888888888888888,
              "#fdca26"
             ],
             [
              1,
              "#f0f921"
             ]
            ],
            "type": "histogram2dcontour"
           }
          ],
          "mesh3d": [
           {
            "colorbar": {
             "outlinewidth": 0,
             "ticks": ""
            },
            "type": "mesh3d"
           }
          ],
          "parcoords": [
           {
            "line": {
             "colorbar": {
              "outlinewidth": 0,
              "ticks": ""
             }
            },
            "type": "parcoords"
           }
          ],
          "pie": [
           {
            "automargin": true,
            "type": "pie"
           }
          ],
          "scatter": [
           {
            "fillpattern": {
             "fillmode": "overlay",
             "size": 10,
             "solidity": 0.2
            },
            "type": "scatter"
           }
          ],
          "scatter3d": [
           {
            "line": {
             "colorbar": {
              "outlinewidth": 0,
              "ticks": ""
             }
            },
            "marker": {
             "colorbar": {
              "outlinewidth": 0,
              "ticks": ""
             }
            },
            "type": "scatter3d"
           }
          ],
          "scattercarpet": [
           {
            "marker": {
             "colorbar": {
              "outlinewidth": 0,
              "ticks": ""
             }
            },
            "type": "scattercarpet"
           }
          ],
          "scattergeo": [
           {
            "marker": {
             "colorbar": {
              "outlinewidth": 0,
              "ticks": ""
             }
            },
            "type": "scattergeo"
           }
          ],
          "scattergl": [
           {
            "marker": {
             "colorbar": {
              "outlinewidth": 0,
              "ticks": ""
             }
            },
            "type": "scattergl"
           }
          ],
          "scattermapbox": [
           {
            "marker": {
             "colorbar": {
              "outlinewidth": 0,
              "ticks": ""
             }
            },
            "type": "scattermapbox"
           }
          ],
          "scatterpolar": [
           {
            "marker": {
             "colorbar": {
              "outlinewidth": 0,
              "ticks": ""
             }
            },
            "type": "scatterpolar"
           }
          ],
          "scatterpolargl": [
           {
            "marker": {
             "colorbar": {
              "outlinewidth": 0,
              "ticks": ""
             }
            },
            "type": "scatterpolargl"
           }
          ],
          "scatterternary": [
           {
            "marker": {
             "colorbar": {
              "outlinewidth": 0,
              "ticks": ""
             }
            },
            "type": "scatterternary"
           }
          ],
          "surface": [
           {
            "colorbar": {
             "outlinewidth": 0,
             "ticks": ""
            },
            "colorscale": [
             [
              0,
              "#0d0887"
             ],
             [
              0.1111111111111111,
              "#46039f"
             ],
             [
              0.2222222222222222,
              "#7201a8"
             ],
             [
              0.3333333333333333,
              "#9c179e"
             ],
             [
              0.4444444444444444,
              "#bd3786"
             ],
             [
              0.5555555555555556,
              "#d8576b"
             ],
             [
              0.6666666666666666,
              "#ed7953"
             ],
             [
              0.7777777777777778,
              "#fb9f3a"
             ],
             [
              0.8888888888888888,
              "#fdca26"
             ],
             [
              1,
              "#f0f921"
             ]
            ],
            "type": "surface"
           }
          ],
          "table": [
           {
            "cells": {
             "fill": {
              "color": "#EBF0F8"
             },
             "line": {
              "color": "white"
             }
            },
            "header": {
             "fill": {
              "color": "#C8D4E3"
             },
             "line": {
              "color": "white"
             }
            },
            "type": "table"
           }
          ]
         },
         "layout": {
          "annotationdefaults": {
           "arrowcolor": "#2a3f5f",
           "arrowhead": 0,
           "arrowwidth": 1
          },
          "autotypenumbers": "strict",
          "coloraxis": {
           "colorbar": {
            "outlinewidth": 0,
            "ticks": ""
           }
          },
          "colorscale": {
           "diverging": [
            [
             0,
             "#8e0152"
            ],
            [
             0.1,
             "#c51b7d"
            ],
            [
             0.2,
             "#de77ae"
            ],
            [
             0.3,
             "#f1b6da"
            ],
            [
             0.4,
             "#fde0ef"
            ],
            [
             0.5,
             "#f7f7f7"
            ],
            [
             0.6,
             "#e6f5d0"
            ],
            [
             0.7,
             "#b8e186"
            ],
            [
             0.8,
             "#7fbc41"
            ],
            [
             0.9,
             "#4d9221"
            ],
            [
             1,
             "#276419"
            ]
           ],
           "sequential": [
            [
             0,
             "#0d0887"
            ],
            [
             0.1111111111111111,
             "#46039f"
            ],
            [
             0.2222222222222222,
             "#7201a8"
            ],
            [
             0.3333333333333333,
             "#9c179e"
            ],
            [
             0.4444444444444444,
             "#bd3786"
            ],
            [
             0.5555555555555556,
             "#d8576b"
            ],
            [
             0.6666666666666666,
             "#ed7953"
            ],
            [
             0.7777777777777778,
             "#fb9f3a"
            ],
            [
             0.8888888888888888,
             "#fdca26"
            ],
            [
             1,
             "#f0f921"
            ]
           ],
           "sequentialminus": [
            [
             0,
             "#0d0887"
            ],
            [
             0.1111111111111111,
             "#46039f"
            ],
            [
             0.2222222222222222,
             "#7201a8"
            ],
            [
             0.3333333333333333,
             "#9c179e"
            ],
            [
             0.4444444444444444,
             "#bd3786"
            ],
            [
             0.5555555555555556,
             "#d8576b"
            ],
            [
             0.6666666666666666,
             "#ed7953"
            ],
            [
             0.7777777777777778,
             "#fb9f3a"
            ],
            [
             0.8888888888888888,
             "#fdca26"
            ],
            [
             1,
             "#f0f921"
            ]
           ]
          },
          "colorway": [
           "#636efa",
           "#EF553B",
           "#00cc96",
           "#ab63fa",
           "#FFA15A",
           "#19d3f3",
           "#FF6692",
           "#B6E880",
           "#FF97FF",
           "#FECB52"
          ],
          "font": {
           "color": "#2a3f5f"
          },
          "geo": {
           "bgcolor": "white",
           "lakecolor": "white",
           "landcolor": "#E5ECF6",
           "showlakes": true,
           "showland": true,
           "subunitcolor": "white"
          },
          "hoverlabel": {
           "align": "left"
          },
          "hovermode": "closest",
          "mapbox": {
           "style": "light"
          },
          "paper_bgcolor": "white",
          "plot_bgcolor": "#E5ECF6",
          "polar": {
           "angularaxis": {
            "gridcolor": "white",
            "linecolor": "white",
            "ticks": ""
           },
           "bgcolor": "#E5ECF6",
           "radialaxis": {
            "gridcolor": "white",
            "linecolor": "white",
            "ticks": ""
           }
          },
          "scene": {
           "xaxis": {
            "backgroundcolor": "#E5ECF6",
            "gridcolor": "white",
            "gridwidth": 2,
            "linecolor": "white",
            "showbackground": true,
            "ticks": "",
            "zerolinecolor": "white"
           },
           "yaxis": {
            "backgroundcolor": "#E5ECF6",
            "gridcolor": "white",
            "gridwidth": 2,
            "linecolor": "white",
            "showbackground": true,
            "ticks": "",
            "zerolinecolor": "white"
           },
           "zaxis": {
            "backgroundcolor": "#E5ECF6",
            "gridcolor": "white",
            "gridwidth": 2,
            "linecolor": "white",
            "showbackground": true,
            "ticks": "",
            "zerolinecolor": "white"
           }
          },
          "shapedefaults": {
           "line": {
            "color": "#2a3f5f"
           }
          },
          "ternary": {
           "aaxis": {
            "gridcolor": "white",
            "linecolor": "white",
            "ticks": ""
           },
           "baxis": {
            "gridcolor": "white",
            "linecolor": "white",
            "ticks": ""
           },
           "bgcolor": "#E5ECF6",
           "caxis": {
            "gridcolor": "white",
            "linecolor": "white",
            "ticks": ""
           }
          },
          "title": {
           "x": 0.05
          },
          "xaxis": {
           "automargin": true,
           "gridcolor": "white",
           "linecolor": "white",
           "ticks": "",
           "title": {
            "standoff": 15
           },
           "zerolinecolor": "white",
           "zerolinewidth": 2
          },
          "yaxis": {
           "automargin": true,
           "gridcolor": "white",
           "linecolor": "white",
           "ticks": "",
           "title": {
            "standoff": 15
           },
           "zerolinecolor": "white",
           "zerolinewidth": 2
          }
         }
        },
        "xaxis": {
         "anchor": "y",
         "domain": [
          0,
          1
         ],
         "title": {
          "text": "Y"
         }
        },
        "yaxis": {
         "anchor": "x",
         "domain": [
          0,
          1
         ],
         "title": {
          "text": "size"
         }
        }
       }
      }
     },
     "metadata": {},
     "output_type": "display_data"
    }
   ],
   "source": [
    "# create scenariodf1 => bar > 1 and age > 25\n",
    "scenariodf1 =  barcoupon.query(\"Bar > 1\").query(\"age > 25 \")\n",
    "scenariodf1 = scenariodf1.groupby('Y').size().reset_index(name='size')\n",
    "\n",
    "fig = px.bar(scenariodf1, x='Y', y='size',color='Y')\n",
    "fig.show()"
   ]
  },
  {
   "cell_type": "code",
   "execution_count": 511,
   "metadata": {
    "vscode": {
     "languageId": "powershell"
    }
   },
   "outputs": [],
   "source": [
    "# save image\n",
    "fig.write_image(\"images/scenariodf1.png\")"
   ]
  },
  {
   "cell_type": "code",
   "execution_count": 512,
   "metadata": {
    "vscode": {
     "languageId": "powershell"
    }
   },
   "outputs": [
    {
     "data": {
      "text/html": [
       "<div>\n",
       "<style scoped>\n",
       "    .dataframe tbody tr th:only-of-type {\n",
       "        vertical-align: middle;\n",
       "    }\n",
       "\n",
       "    .dataframe tbody tr th {\n",
       "        vertical-align: top;\n",
       "    }\n",
       "\n",
       "    .dataframe thead th {\n",
       "        text-align: right;\n",
       "    }\n",
       "</style>\n",
       "<table border=\"1\" class=\"dataframe\">\n",
       "  <thead>\n",
       "    <tr style=\"text-align: right;\">\n",
       "      <th></th>\n",
       "      <th>Y</th>\n",
       "      <th>size</th>\n",
       "    </tr>\n",
       "  </thead>\n",
       "  <tbody>\n",
       "    <tr>\n",
       "      <th>0</th>\n",
       "      <td>0</td>\n",
       "      <td>31</td>\n",
       "    </tr>\n",
       "    <tr>\n",
       "      <th>1</th>\n",
       "      <td>1</td>\n",
       "      <td>103</td>\n",
       "    </tr>\n",
       "  </tbody>\n",
       "</table>\n",
       "</div>"
      ],
      "text/plain": [
       "   Y  size\n",
       "0  0    31\n",
       "1  1   103"
      ]
     },
     "execution_count": 512,
     "metadata": {},
     "output_type": "execute_result"
    }
   ],
   "source": [
    "scenariodf1"
   ]
  },
  {
   "cell_type": "code",
   "execution_count": 513,
   "metadata": {
    "vscode": {
     "languageId": "powershell"
    }
   },
   "outputs": [
    {
     "data": {
      "application/vnd.plotly.v1+json": {
       "config": {
        "plotlyServerURL": "https://plot.ly"
       },
       "data": [
        {
         "alignmentgroup": "True",
         "hovertemplate": "Y=%{marker.color}<br>size=%{y}<extra></extra>",
         "legendgroup": "",
         "marker": {
          "color": [
           0,
           1
          ],
          "coloraxis": "coloraxis",
          "pattern": {
           "shape": ""
          }
         },
         "name": "",
         "offsetgroup": "",
         "orientation": "v",
         "showlegend": false,
         "textposition": "auto",
         "type": "bar",
         "x": [
          0,
          1
         ],
         "xaxis": "x",
         "y": [
          195,
          123
         ],
         "yaxis": "y"
        }
       ],
       "layout": {
        "barmode": "relative",
        "coloraxis": {
         "colorbar": {
          "title": {
           "text": "Y"
          }
         },
         "colorscale": [
          [
           0,
           "#0d0887"
          ],
          [
           0.1111111111111111,
           "#46039f"
          ],
          [
           0.2222222222222222,
           "#7201a8"
          ],
          [
           0.3333333333333333,
           "#9c179e"
          ],
          [
           0.4444444444444444,
           "#bd3786"
          ],
          [
           0.5555555555555556,
           "#d8576b"
          ],
          [
           0.6666666666666666,
           "#ed7953"
          ],
          [
           0.7777777777777778,
           "#fb9f3a"
          ],
          [
           0.8888888888888888,
           "#fdca26"
          ],
          [
           1,
           "#f0f921"
          ]
         ]
        },
        "legend": {
         "tracegroupgap": 0
        },
        "margin": {
         "t": 60
        },
        "template": {
         "data": {
          "bar": [
           {
            "error_x": {
             "color": "#2a3f5f"
            },
            "error_y": {
             "color": "#2a3f5f"
            },
            "marker": {
             "line": {
              "color": "#E5ECF6",
              "width": 0.5
             },
             "pattern": {
              "fillmode": "overlay",
              "size": 10,
              "solidity": 0.2
             }
            },
            "type": "bar"
           }
          ],
          "barpolar": [
           {
            "marker": {
             "line": {
              "color": "#E5ECF6",
              "width": 0.5
             },
             "pattern": {
              "fillmode": "overlay",
              "size": 10,
              "solidity": 0.2
             }
            },
            "type": "barpolar"
           }
          ],
          "carpet": [
           {
            "aaxis": {
             "endlinecolor": "#2a3f5f",
             "gridcolor": "white",
             "linecolor": "white",
             "minorgridcolor": "white",
             "startlinecolor": "#2a3f5f"
            },
            "baxis": {
             "endlinecolor": "#2a3f5f",
             "gridcolor": "white",
             "linecolor": "white",
             "minorgridcolor": "white",
             "startlinecolor": "#2a3f5f"
            },
            "type": "carpet"
           }
          ],
          "choropleth": [
           {
            "colorbar": {
             "outlinewidth": 0,
             "ticks": ""
            },
            "type": "choropleth"
           }
          ],
          "contour": [
           {
            "colorbar": {
             "outlinewidth": 0,
             "ticks": ""
            },
            "colorscale": [
             [
              0,
              "#0d0887"
             ],
             [
              0.1111111111111111,
              "#46039f"
             ],
             [
              0.2222222222222222,
              "#7201a8"
             ],
             [
              0.3333333333333333,
              "#9c179e"
             ],
             [
              0.4444444444444444,
              "#bd3786"
             ],
             [
              0.5555555555555556,
              "#d8576b"
             ],
             [
              0.6666666666666666,
              "#ed7953"
             ],
             [
              0.7777777777777778,
              "#fb9f3a"
             ],
             [
              0.8888888888888888,
              "#fdca26"
             ],
             [
              1,
              "#f0f921"
             ]
            ],
            "type": "contour"
           }
          ],
          "contourcarpet": [
           {
            "colorbar": {
             "outlinewidth": 0,
             "ticks": ""
            },
            "type": "contourcarpet"
           }
          ],
          "heatmap": [
           {
            "colorbar": {
             "outlinewidth": 0,
             "ticks": ""
            },
            "colorscale": [
             [
              0,
              "#0d0887"
             ],
             [
              0.1111111111111111,
              "#46039f"
             ],
             [
              0.2222222222222222,
              "#7201a8"
             ],
             [
              0.3333333333333333,
              "#9c179e"
             ],
             [
              0.4444444444444444,
              "#bd3786"
             ],
             [
              0.5555555555555556,
              "#d8576b"
             ],
             [
              0.6666666666666666,
              "#ed7953"
             ],
             [
              0.7777777777777778,
              "#fb9f3a"
             ],
             [
              0.8888888888888888,
              "#fdca26"
             ],
             [
              1,
              "#f0f921"
             ]
            ],
            "type": "heatmap"
           }
          ],
          "heatmapgl": [
           {
            "colorbar": {
             "outlinewidth": 0,
             "ticks": ""
            },
            "colorscale": [
             [
              0,
              "#0d0887"
             ],
             [
              0.1111111111111111,
              "#46039f"
             ],
             [
              0.2222222222222222,
              "#7201a8"
             ],
             [
              0.3333333333333333,
              "#9c179e"
             ],
             [
              0.4444444444444444,
              "#bd3786"
             ],
             [
              0.5555555555555556,
              "#d8576b"
             ],
             [
              0.6666666666666666,
              "#ed7953"
             ],
             [
              0.7777777777777778,
              "#fb9f3a"
             ],
             [
              0.8888888888888888,
              "#fdca26"
             ],
             [
              1,
              "#f0f921"
             ]
            ],
            "type": "heatmapgl"
           }
          ],
          "histogram": [
           {
            "marker": {
             "pattern": {
              "fillmode": "overlay",
              "size": 10,
              "solidity": 0.2
             }
            },
            "type": "histogram"
           }
          ],
          "histogram2d": [
           {
            "colorbar": {
             "outlinewidth": 0,
             "ticks": ""
            },
            "colorscale": [
             [
              0,
              "#0d0887"
             ],
             [
              0.1111111111111111,
              "#46039f"
             ],
             [
              0.2222222222222222,
              "#7201a8"
             ],
             [
              0.3333333333333333,
              "#9c179e"
             ],
             [
              0.4444444444444444,
              "#bd3786"
             ],
             [
              0.5555555555555556,
              "#d8576b"
             ],
             [
              0.6666666666666666,
              "#ed7953"
             ],
             [
              0.7777777777777778,
              "#fb9f3a"
             ],
             [
              0.8888888888888888,
              "#fdca26"
             ],
             [
              1,
              "#f0f921"
             ]
            ],
            "type": "histogram2d"
           }
          ],
          "histogram2dcontour": [
           {
            "colorbar": {
             "outlinewidth": 0,
             "ticks": ""
            },
            "colorscale": [
             [
              0,
              "#0d0887"
             ],
             [
              0.1111111111111111,
              "#46039f"
             ],
             [
              0.2222222222222222,
              "#7201a8"
             ],
             [
              0.3333333333333333,
              "#9c179e"
             ],
             [
              0.4444444444444444,
              "#bd3786"
             ],
             [
              0.5555555555555556,
              "#d8576b"
             ],
             [
              0.6666666666666666,
              "#ed7953"
             ],
             [
              0.7777777777777778,
              "#fb9f3a"
             ],
             [
              0.8888888888888888,
              "#fdca26"
             ],
             [
              1,
              "#f0f921"
             ]
            ],
            "type": "histogram2dcontour"
           }
          ],
          "mesh3d": [
           {
            "colorbar": {
             "outlinewidth": 0,
             "ticks": ""
            },
            "type": "mesh3d"
           }
          ],
          "parcoords": [
           {
            "line": {
             "colorbar": {
              "outlinewidth": 0,
              "ticks": ""
             }
            },
            "type": "parcoords"
           }
          ],
          "pie": [
           {
            "automargin": true,
            "type": "pie"
           }
          ],
          "scatter": [
           {
            "fillpattern": {
             "fillmode": "overlay",
             "size": 10,
             "solidity": 0.2
            },
            "type": "scatter"
           }
          ],
          "scatter3d": [
           {
            "line": {
             "colorbar": {
              "outlinewidth": 0,
              "ticks": ""
             }
            },
            "marker": {
             "colorbar": {
              "outlinewidth": 0,
              "ticks": ""
             }
            },
            "type": "scatter3d"
           }
          ],
          "scattercarpet": [
           {
            "marker": {
             "colorbar": {
              "outlinewidth": 0,
              "ticks": ""
             }
            },
            "type": "scattercarpet"
           }
          ],
          "scattergeo": [
           {
            "marker": {
             "colorbar": {
              "outlinewidth": 0,
              "ticks": ""
             }
            },
            "type": "scattergeo"
           }
          ],
          "scattergl": [
           {
            "marker": {
             "colorbar": {
              "outlinewidth": 0,
              "ticks": ""
             }
            },
            "type": "scattergl"
           }
          ],
          "scattermapbox": [
           {
            "marker": {
             "colorbar": {
              "outlinewidth": 0,
              "ticks": ""
             }
            },
            "type": "scattermapbox"
           }
          ],
          "scatterpolar": [
           {
            "marker": {
             "colorbar": {
              "outlinewidth": 0,
              "ticks": ""
             }
            },
            "type": "scatterpolar"
           }
          ],
          "scatterpolargl": [
           {
            "marker": {
             "colorbar": {
              "outlinewidth": 0,
              "ticks": ""
             }
            },
            "type": "scatterpolargl"
           }
          ],
          "scatterternary": [
           {
            "marker": {
             "colorbar": {
              "outlinewidth": 0,
              "ticks": ""
             }
            },
            "type": "scatterternary"
           }
          ],
          "surface": [
           {
            "colorbar": {
             "outlinewidth": 0,
             "ticks": ""
            },
            "colorscale": [
             [
              0,
              "#0d0887"
             ],
             [
              0.1111111111111111,
              "#46039f"
             ],
             [
              0.2222222222222222,
              "#7201a8"
             ],
             [
              0.3333333333333333,
              "#9c179e"
             ],
             [
              0.4444444444444444,
              "#bd3786"
             ],
             [
              0.5555555555555556,
              "#d8576b"
             ],
             [
              0.6666666666666666,
              "#ed7953"
             ],
             [
              0.7777777777777778,
              "#fb9f3a"
             ],
             [
              0.8888888888888888,
              "#fdca26"
             ],
             [
              1,
              "#f0f921"
             ]
            ],
            "type": "surface"
           }
          ],
          "table": [
           {
            "cells": {
             "fill": {
              "color": "#EBF0F8"
             },
             "line": {
              "color": "white"
             }
            },
            "header": {
             "fill": {
              "color": "#C8D4E3"
             },
             "line": {
              "color": "white"
             }
            },
            "type": "table"
           }
          ]
         },
         "layout": {
          "annotationdefaults": {
           "arrowcolor": "#2a3f5f",
           "arrowhead": 0,
           "arrowwidth": 1
          },
          "autotypenumbers": "strict",
          "coloraxis": {
           "colorbar": {
            "outlinewidth": 0,
            "ticks": ""
           }
          },
          "colorscale": {
           "diverging": [
            [
             0,
             "#8e0152"
            ],
            [
             0.1,
             "#c51b7d"
            ],
            [
             0.2,
             "#de77ae"
            ],
            [
             0.3,
             "#f1b6da"
            ],
            [
             0.4,
             "#fde0ef"
            ],
            [
             0.5,
             "#f7f7f7"
            ],
            [
             0.6,
             "#e6f5d0"
            ],
            [
             0.7,
             "#b8e186"
            ],
            [
             0.8,
             "#7fbc41"
            ],
            [
             0.9,
             "#4d9221"
            ],
            [
             1,
             "#276419"
            ]
           ],
           "sequential": [
            [
             0,
             "#0d0887"
            ],
            [
             0.1111111111111111,
             "#46039f"
            ],
            [
             0.2222222222222222,
             "#7201a8"
            ],
            [
             0.3333333333333333,
             "#9c179e"
            ],
            [
             0.4444444444444444,
             "#bd3786"
            ],
            [
             0.5555555555555556,
             "#d8576b"
            ],
            [
             0.6666666666666666,
             "#ed7953"
            ],
            [
             0.7777777777777778,
             "#fb9f3a"
            ],
            [
             0.8888888888888888,
             "#fdca26"
            ],
            [
             1,
             "#f0f921"
            ]
           ],
           "sequentialminus": [
            [
             0,
             "#0d0887"
            ],
            [
             0.1111111111111111,
             "#46039f"
            ],
            [
             0.2222222222222222,
             "#7201a8"
            ],
            [
             0.3333333333333333,
             "#9c179e"
            ],
            [
             0.4444444444444444,
             "#bd3786"
            ],
            [
             0.5555555555555556,
             "#d8576b"
            ],
            [
             0.6666666666666666,
             "#ed7953"
            ],
            [
             0.7777777777777778,
             "#fb9f3a"
            ],
            [
             0.8888888888888888,
             "#fdca26"
            ],
            [
             1,
             "#f0f921"
            ]
           ]
          },
          "colorway": [
           "#636efa",
           "#EF553B",
           "#00cc96",
           "#ab63fa",
           "#FFA15A",
           "#19d3f3",
           "#FF6692",
           "#B6E880",
           "#FF97FF",
           "#FECB52"
          ],
          "font": {
           "color": "#2a3f5f"
          },
          "geo": {
           "bgcolor": "white",
           "lakecolor": "white",
           "landcolor": "#E5ECF6",
           "showlakes": true,
           "showland": true,
           "subunitcolor": "white"
          },
          "hoverlabel": {
           "align": "left"
          },
          "hovermode": "closest",
          "mapbox": {
           "style": "light"
          },
          "paper_bgcolor": "white",
          "plot_bgcolor": "#E5ECF6",
          "polar": {
           "angularaxis": {
            "gridcolor": "white",
            "linecolor": "white",
            "ticks": ""
           },
           "bgcolor": "#E5ECF6",
           "radialaxis": {
            "gridcolor": "white",
            "linecolor": "white",
            "ticks": ""
           }
          },
          "scene": {
           "xaxis": {
            "backgroundcolor": "#E5ECF6",
            "gridcolor": "white",
            "gridwidth": 2,
            "linecolor": "white",
            "showbackground": true,
            "ticks": "",
            "zerolinecolor": "white"
           },
           "yaxis": {
            "backgroundcolor": "#E5ECF6",
            "gridcolor": "white",
            "gridwidth": 2,
            "linecolor": "white",
            "showbackground": true,
            "ticks": "",
            "zerolinecolor": "white"
           },
           "zaxis": {
            "backgroundcolor": "#E5ECF6",
            "gridcolor": "white",
            "gridwidth": 2,
            "linecolor": "white",
            "showbackground": true,
            "ticks": "",
            "zerolinecolor": "white"
           }
          },
          "shapedefaults": {
           "line": {
            "color": "#2a3f5f"
           }
          },
          "ternary": {
           "aaxis": {
            "gridcolor": "white",
            "linecolor": "white",
            "ticks": ""
           },
           "baxis": {
            "gridcolor": "white",
            "linecolor": "white",
            "ticks": ""
           },
           "bgcolor": "#E5ECF6",
           "caxis": {
            "gridcolor": "white",
            "linecolor": "white",
            "ticks": ""
           }
          },
          "title": {
           "x": 0.05
          },
          "xaxis": {
           "automargin": true,
           "gridcolor": "white",
           "linecolor": "white",
           "ticks": "",
           "title": {
            "standoff": 15
           },
           "zerolinecolor": "white",
           "zerolinewidth": 2
          },
          "yaxis": {
           "automargin": true,
           "gridcolor": "white",
           "linecolor": "white",
           "ticks": "",
           "title": {
            "standoff": 15
           },
           "zerolinecolor": "white",
           "zerolinewidth": 2
          }
         }
        },
        "xaxis": {
         "anchor": "y",
         "domain": [
          0,
          1
         ],
         "title": {
          "text": "Y"
         }
        },
        "yaxis": {
         "anchor": "x",
         "domain": [
          0,
          1
         ],
         "title": {
          "text": "size"
         }
        }
       }
      }
     },
     "metadata": {},
     "output_type": "display_data"
    }
   ],
   "source": [
    "# create scneariodf2 => bar < 1 and age < 25\n",
    "scenariodf2 =  barcoupon.query(\"Bar < 1\").query(\"age < 25 \")\n",
    "\n",
    "scenariodf2 = scenariodf2.groupby('Y').size().reset_index(name='size')\n",
    "\n",
    "fig = px.bar(scenariodf2, x='Y', y='size',color='Y')\n",
    "fig.show()"
   ]
  },
  {
   "cell_type": "code",
   "execution_count": 514,
   "metadata": {
    "vscode": {
     "languageId": "powershell"
    }
   },
   "outputs": [],
   "source": [
    "# save image\n",
    "fig.write_image(\"images/scenariodf2.png\")"
   ]
  },
  {
   "cell_type": "code",
   "execution_count": 515,
   "metadata": {
    "vscode": {
     "languageId": "powershell"
    }
   },
   "outputs": [
    {
     "data": {
      "text/html": [
       "<div>\n",
       "<style scoped>\n",
       "    .dataframe tbody tr th:only-of-type {\n",
       "        vertical-align: middle;\n",
       "    }\n",
       "\n",
       "    .dataframe tbody tr th {\n",
       "        vertical-align: top;\n",
       "    }\n",
       "\n",
       "    .dataframe thead th {\n",
       "        text-align: right;\n",
       "    }\n",
       "</style>\n",
       "<table border=\"1\" class=\"dataframe\">\n",
       "  <thead>\n",
       "    <tr style=\"text-align: right;\">\n",
       "      <th></th>\n",
       "      <th>Y</th>\n",
       "      <th>size</th>\n",
       "    </tr>\n",
       "  </thead>\n",
       "  <tbody>\n",
       "    <tr>\n",
       "      <th>0</th>\n",
       "      <td>0</td>\n",
       "      <td>195</td>\n",
       "    </tr>\n",
       "    <tr>\n",
       "      <th>1</th>\n",
       "      <td>1</td>\n",
       "      <td>123</td>\n",
       "    </tr>\n",
       "  </tbody>\n",
       "</table>\n",
       "</div>"
      ],
      "text/plain": [
       "   Y  size\n",
       "0  0   195\n",
       "1  1   123"
      ]
     },
     "execution_count": 515,
     "metadata": {},
     "output_type": "execute_result"
    }
   ],
   "source": [
    "scenariodf2"
   ]
  },
  {
   "cell_type": "markdown",
   "metadata": {},
   "source": [
    "5. Use the same process to compare the acceptance rate between drivers who go to bars more than once a month and had passengers that were not a kid and had occupations other than farming, fishing, or forestry. \n"
   ]
  },
  {
   "cell_type": "code",
   "execution_count": 516,
   "metadata": {
    "vscode": {
     "languageId": "powershell"
    }
   },
   "outputs": [
    {
     "data": {
      "application/vnd.plotly.v1+json": {
       "config": {
        "plotlyServerURL": "https://plot.ly"
       },
       "data": [
        {
         "alignmentgroup": "True",
         "hovertemplate": "Y=%{marker.color}<br>size=%{y}<extra></extra>",
         "legendgroup": "",
         "marker": {
          "color": [
           0,
           1
          ],
          "coloraxis": "coloraxis",
          "pattern": {
           "shape": ""
          }
         },
         "name": "",
         "offsetgroup": "",
         "orientation": "v",
         "showlegend": false,
         "textposition": "auto",
         "type": "bar",
         "x": [
          0,
          1
         ],
         "xaxis": "x",
         "y": [
          43,
          146
         ],
         "yaxis": "y"
        }
       ],
       "layout": {
        "barmode": "relative",
        "coloraxis": {
         "colorbar": {
          "title": {
           "text": "Y"
          }
         },
         "colorscale": [
          [
           0,
           "#0d0887"
          ],
          [
           0.1111111111111111,
           "#46039f"
          ],
          [
           0.2222222222222222,
           "#7201a8"
          ],
          [
           0.3333333333333333,
           "#9c179e"
          ],
          [
           0.4444444444444444,
           "#bd3786"
          ],
          [
           0.5555555555555556,
           "#d8576b"
          ],
          [
           0.6666666666666666,
           "#ed7953"
          ],
          [
           0.7777777777777778,
           "#fb9f3a"
          ],
          [
           0.8888888888888888,
           "#fdca26"
          ],
          [
           1,
           "#f0f921"
          ]
         ]
        },
        "legend": {
         "tracegroupgap": 0
        },
        "margin": {
         "t": 60
        },
        "template": {
         "data": {
          "bar": [
           {
            "error_x": {
             "color": "#2a3f5f"
            },
            "error_y": {
             "color": "#2a3f5f"
            },
            "marker": {
             "line": {
              "color": "#E5ECF6",
              "width": 0.5
             },
             "pattern": {
              "fillmode": "overlay",
              "size": 10,
              "solidity": 0.2
             }
            },
            "type": "bar"
           }
          ],
          "barpolar": [
           {
            "marker": {
             "line": {
              "color": "#E5ECF6",
              "width": 0.5
             },
             "pattern": {
              "fillmode": "overlay",
              "size": 10,
              "solidity": 0.2
             }
            },
            "type": "barpolar"
           }
          ],
          "carpet": [
           {
            "aaxis": {
             "endlinecolor": "#2a3f5f",
             "gridcolor": "white",
             "linecolor": "white",
             "minorgridcolor": "white",
             "startlinecolor": "#2a3f5f"
            },
            "baxis": {
             "endlinecolor": "#2a3f5f",
             "gridcolor": "white",
             "linecolor": "white",
             "minorgridcolor": "white",
             "startlinecolor": "#2a3f5f"
            },
            "type": "carpet"
           }
          ],
          "choropleth": [
           {
            "colorbar": {
             "outlinewidth": 0,
             "ticks": ""
            },
            "type": "choropleth"
           }
          ],
          "contour": [
           {
            "colorbar": {
             "outlinewidth": 0,
             "ticks": ""
            },
            "colorscale": [
             [
              0,
              "#0d0887"
             ],
             [
              0.1111111111111111,
              "#46039f"
             ],
             [
              0.2222222222222222,
              "#7201a8"
             ],
             [
              0.3333333333333333,
              "#9c179e"
             ],
             [
              0.4444444444444444,
              "#bd3786"
             ],
             [
              0.5555555555555556,
              "#d8576b"
             ],
             [
              0.6666666666666666,
              "#ed7953"
             ],
             [
              0.7777777777777778,
              "#fb9f3a"
             ],
             [
              0.8888888888888888,
              "#fdca26"
             ],
             [
              1,
              "#f0f921"
             ]
            ],
            "type": "contour"
           }
          ],
          "contourcarpet": [
           {
            "colorbar": {
             "outlinewidth": 0,
             "ticks": ""
            },
            "type": "contourcarpet"
           }
          ],
          "heatmap": [
           {
            "colorbar": {
             "outlinewidth": 0,
             "ticks": ""
            },
            "colorscale": [
             [
              0,
              "#0d0887"
             ],
             [
              0.1111111111111111,
              "#46039f"
             ],
             [
              0.2222222222222222,
              "#7201a8"
             ],
             [
              0.3333333333333333,
              "#9c179e"
             ],
             [
              0.4444444444444444,
              "#bd3786"
             ],
             [
              0.5555555555555556,
              "#d8576b"
             ],
             [
              0.6666666666666666,
              "#ed7953"
             ],
             [
              0.7777777777777778,
              "#fb9f3a"
             ],
             [
              0.8888888888888888,
              "#fdca26"
             ],
             [
              1,
              "#f0f921"
             ]
            ],
            "type": "heatmap"
           }
          ],
          "heatmapgl": [
           {
            "colorbar": {
             "outlinewidth": 0,
             "ticks": ""
            },
            "colorscale": [
             [
              0,
              "#0d0887"
             ],
             [
              0.1111111111111111,
              "#46039f"
             ],
             [
              0.2222222222222222,
              "#7201a8"
             ],
             [
              0.3333333333333333,
              "#9c179e"
             ],
             [
              0.4444444444444444,
              "#bd3786"
             ],
             [
              0.5555555555555556,
              "#d8576b"
             ],
             [
              0.6666666666666666,
              "#ed7953"
             ],
             [
              0.7777777777777778,
              "#fb9f3a"
             ],
             [
              0.8888888888888888,
              "#fdca26"
             ],
             [
              1,
              "#f0f921"
             ]
            ],
            "type": "heatmapgl"
           }
          ],
          "histogram": [
           {
            "marker": {
             "pattern": {
              "fillmode": "overlay",
              "size": 10,
              "solidity": 0.2
             }
            },
            "type": "histogram"
           }
          ],
          "histogram2d": [
           {
            "colorbar": {
             "outlinewidth": 0,
             "ticks": ""
            },
            "colorscale": [
             [
              0,
              "#0d0887"
             ],
             [
              0.1111111111111111,
              "#46039f"
             ],
             [
              0.2222222222222222,
              "#7201a8"
             ],
             [
              0.3333333333333333,
              "#9c179e"
             ],
             [
              0.4444444444444444,
              "#bd3786"
             ],
             [
              0.5555555555555556,
              "#d8576b"
             ],
             [
              0.6666666666666666,
              "#ed7953"
             ],
             [
              0.7777777777777778,
              "#fb9f3a"
             ],
             [
              0.8888888888888888,
              "#fdca26"
             ],
             [
              1,
              "#f0f921"
             ]
            ],
            "type": "histogram2d"
           }
          ],
          "histogram2dcontour": [
           {
            "colorbar": {
             "outlinewidth": 0,
             "ticks": ""
            },
            "colorscale": [
             [
              0,
              "#0d0887"
             ],
             [
              0.1111111111111111,
              "#46039f"
             ],
             [
              0.2222222222222222,
              "#7201a8"
             ],
             [
              0.3333333333333333,
              "#9c179e"
             ],
             [
              0.4444444444444444,
              "#bd3786"
             ],
             [
              0.5555555555555556,
              "#d8576b"
             ],
             [
              0.6666666666666666,
              "#ed7953"
             ],
             [
              0.7777777777777778,
              "#fb9f3a"
             ],
             [
              0.8888888888888888,
              "#fdca26"
             ],
             [
              1,
              "#f0f921"
             ]
            ],
            "type": "histogram2dcontour"
           }
          ],
          "mesh3d": [
           {
            "colorbar": {
             "outlinewidth": 0,
             "ticks": ""
            },
            "type": "mesh3d"
           }
          ],
          "parcoords": [
           {
            "line": {
             "colorbar": {
              "outlinewidth": 0,
              "ticks": ""
             }
            },
            "type": "parcoords"
           }
          ],
          "pie": [
           {
            "automargin": true,
            "type": "pie"
           }
          ],
          "scatter": [
           {
            "fillpattern": {
             "fillmode": "overlay",
             "size": 10,
             "solidity": 0.2
            },
            "type": "scatter"
           }
          ],
          "scatter3d": [
           {
            "line": {
             "colorbar": {
              "outlinewidth": 0,
              "ticks": ""
             }
            },
            "marker": {
             "colorbar": {
              "outlinewidth": 0,
              "ticks": ""
             }
            },
            "type": "scatter3d"
           }
          ],
          "scattercarpet": [
           {
            "marker": {
             "colorbar": {
              "outlinewidth": 0,
              "ticks": ""
             }
            },
            "type": "scattercarpet"
           }
          ],
          "scattergeo": [
           {
            "marker": {
             "colorbar": {
              "outlinewidth": 0,
              "ticks": ""
             }
            },
            "type": "scattergeo"
           }
          ],
          "scattergl": [
           {
            "marker": {
             "colorbar": {
              "outlinewidth": 0,
              "ticks": ""
             }
            },
            "type": "scattergl"
           }
          ],
          "scattermapbox": [
           {
            "marker": {
             "colorbar": {
              "outlinewidth": 0,
              "ticks": ""
             }
            },
            "type": "scattermapbox"
           }
          ],
          "scatterpolar": [
           {
            "marker": {
             "colorbar": {
              "outlinewidth": 0,
              "ticks": ""
             }
            },
            "type": "scatterpolar"
           }
          ],
          "scatterpolargl": [
           {
            "marker": {
             "colorbar": {
              "outlinewidth": 0,
              "ticks": ""
             }
            },
            "type": "scatterpolargl"
           }
          ],
          "scatterternary": [
           {
            "marker": {
             "colorbar": {
              "outlinewidth": 0,
              "ticks": ""
             }
            },
            "type": "scatterternary"
           }
          ],
          "surface": [
           {
            "colorbar": {
             "outlinewidth": 0,
             "ticks": ""
            },
            "colorscale": [
             [
              0,
              "#0d0887"
             ],
             [
              0.1111111111111111,
              "#46039f"
             ],
             [
              0.2222222222222222,
              "#7201a8"
             ],
             [
              0.3333333333333333,
              "#9c179e"
             ],
             [
              0.4444444444444444,
              "#bd3786"
             ],
             [
              0.5555555555555556,
              "#d8576b"
             ],
             [
              0.6666666666666666,
              "#ed7953"
             ],
             [
              0.7777777777777778,
              "#fb9f3a"
             ],
             [
              0.8888888888888888,
              "#fdca26"
             ],
             [
              1,
              "#f0f921"
             ]
            ],
            "type": "surface"
           }
          ],
          "table": [
           {
            "cells": {
             "fill": {
              "color": "#EBF0F8"
             },
             "line": {
              "color": "white"
             }
            },
            "header": {
             "fill": {
              "color": "#C8D4E3"
             },
             "line": {
              "color": "white"
             }
            },
            "type": "table"
           }
          ]
         },
         "layout": {
          "annotationdefaults": {
           "arrowcolor": "#2a3f5f",
           "arrowhead": 0,
           "arrowwidth": 1
          },
          "autotypenumbers": "strict",
          "coloraxis": {
           "colorbar": {
            "outlinewidth": 0,
            "ticks": ""
           }
          },
          "colorscale": {
           "diverging": [
            [
             0,
             "#8e0152"
            ],
            [
             0.1,
             "#c51b7d"
            ],
            [
             0.2,
             "#de77ae"
            ],
            [
             0.3,
             "#f1b6da"
            ],
            [
             0.4,
             "#fde0ef"
            ],
            [
             0.5,
             "#f7f7f7"
            ],
            [
             0.6,
             "#e6f5d0"
            ],
            [
             0.7,
             "#b8e186"
            ],
            [
             0.8,
             "#7fbc41"
            ],
            [
             0.9,
             "#4d9221"
            ],
            [
             1,
             "#276419"
            ]
           ],
           "sequential": [
            [
             0,
             "#0d0887"
            ],
            [
             0.1111111111111111,
             "#46039f"
            ],
            [
             0.2222222222222222,
             "#7201a8"
            ],
            [
             0.3333333333333333,
             "#9c179e"
            ],
            [
             0.4444444444444444,
             "#bd3786"
            ],
            [
             0.5555555555555556,
             "#d8576b"
            ],
            [
             0.6666666666666666,
             "#ed7953"
            ],
            [
             0.7777777777777778,
             "#fb9f3a"
            ],
            [
             0.8888888888888888,
             "#fdca26"
            ],
            [
             1,
             "#f0f921"
            ]
           ],
           "sequentialminus": [
            [
             0,
             "#0d0887"
            ],
            [
             0.1111111111111111,
             "#46039f"
            ],
            [
             0.2222222222222222,
             "#7201a8"
            ],
            [
             0.3333333333333333,
             "#9c179e"
            ],
            [
             0.4444444444444444,
             "#bd3786"
            ],
            [
             0.5555555555555556,
             "#d8576b"
            ],
            [
             0.6666666666666666,
             "#ed7953"
            ],
            [
             0.7777777777777778,
             "#fb9f3a"
            ],
            [
             0.8888888888888888,
             "#fdca26"
            ],
            [
             1,
             "#f0f921"
            ]
           ]
          },
          "colorway": [
           "#636efa",
           "#EF553B",
           "#00cc96",
           "#ab63fa",
           "#FFA15A",
           "#19d3f3",
           "#FF6692",
           "#B6E880",
           "#FF97FF",
           "#FECB52"
          ],
          "font": {
           "color": "#2a3f5f"
          },
          "geo": {
           "bgcolor": "white",
           "lakecolor": "white",
           "landcolor": "#E5ECF6",
           "showlakes": true,
           "showland": true,
           "subunitcolor": "white"
          },
          "hoverlabel": {
           "align": "left"
          },
          "hovermode": "closest",
          "mapbox": {
           "style": "light"
          },
          "paper_bgcolor": "white",
          "plot_bgcolor": "#E5ECF6",
          "polar": {
           "angularaxis": {
            "gridcolor": "white",
            "linecolor": "white",
            "ticks": ""
           },
           "bgcolor": "#E5ECF6",
           "radialaxis": {
            "gridcolor": "white",
            "linecolor": "white",
            "ticks": ""
           }
          },
          "scene": {
           "xaxis": {
            "backgroundcolor": "#E5ECF6",
            "gridcolor": "white",
            "gridwidth": 2,
            "linecolor": "white",
            "showbackground": true,
            "ticks": "",
            "zerolinecolor": "white"
           },
           "yaxis": {
            "backgroundcolor": "#E5ECF6",
            "gridcolor": "white",
            "gridwidth": 2,
            "linecolor": "white",
            "showbackground": true,
            "ticks": "",
            "zerolinecolor": "white"
           },
           "zaxis": {
            "backgroundcolor": "#E5ECF6",
            "gridcolor": "white",
            "gridwidth": 2,
            "linecolor": "white",
            "showbackground": true,
            "ticks": "",
            "zerolinecolor": "white"
           }
          },
          "shapedefaults": {
           "line": {
            "color": "#2a3f5f"
           }
          },
          "ternary": {
           "aaxis": {
            "gridcolor": "white",
            "linecolor": "white",
            "ticks": ""
           },
           "baxis": {
            "gridcolor": "white",
            "linecolor": "white",
            "ticks": ""
           },
           "bgcolor": "#E5ECF6",
           "caxis": {
            "gridcolor": "white",
            "linecolor": "white",
            "ticks": ""
           }
          },
          "title": {
           "x": 0.05
          },
          "xaxis": {
           "automargin": true,
           "gridcolor": "white",
           "linecolor": "white",
           "ticks": "",
           "title": {
            "standoff": 15
           },
           "zerolinecolor": "white",
           "zerolinewidth": 2
          },
          "yaxis": {
           "automargin": true,
           "gridcolor": "white",
           "linecolor": "white",
           "ticks": "",
           "title": {
            "standoff": 15
           },
           "zerolinecolor": "white",
           "zerolinewidth": 2
          }
         }
        },
        "xaxis": {
         "anchor": "y",
         "domain": [
          0,
          1
         ],
         "title": {
          "text": "Y"
         }
        },
        "yaxis": {
         "anchor": "x",
         "domain": [
          0,
          1
         ],
         "title": {
          "text": "size"
         }
        }
       }
      }
     },
     "metadata": {},
     "output_type": "display_data"
    }
   ],
   "source": [
    "# convert Bar column to int\n",
    "#coupon['Bar'] = coupon['Bar'].astype(int)\n",
    "scenariodf3 = barcoupon.query(\"Bar > 1\").query(\"passanger != 'Kid(s)'\").query(\"occupation != 'Farming Fishing & Forestry'\")\n",
    "\n",
    "scenariodf3 = scenariodf3.groupby('Y').size().reset_index(name='size')\n",
    "\n",
    "fig = px.bar(scenariodf3, x='Y', y='size',color='Y')\n",
    "fig.show()"
   ]
  },
  {
   "cell_type": "code",
   "execution_count": 517,
   "metadata": {
    "vscode": {
     "languageId": "powershell"
    }
   },
   "outputs": [],
   "source": [
    "# save image\n",
    "fig.write_image(\"images/scenariodf3.png\")"
   ]
  },
  {
   "cell_type": "code",
   "execution_count": 518,
   "metadata": {
    "vscode": {
     "languageId": "powershell"
    }
   },
   "outputs": [
    {
     "data": {
      "text/html": [
       "<div>\n",
       "<style scoped>\n",
       "    .dataframe tbody tr th:only-of-type {\n",
       "        vertical-align: middle;\n",
       "    }\n",
       "\n",
       "    .dataframe tbody tr th {\n",
       "        vertical-align: top;\n",
       "    }\n",
       "\n",
       "    .dataframe thead th {\n",
       "        text-align: right;\n",
       "    }\n",
       "</style>\n",
       "<table border=\"1\" class=\"dataframe\">\n",
       "  <thead>\n",
       "    <tr style=\"text-align: right;\">\n",
       "      <th></th>\n",
       "      <th>Y</th>\n",
       "      <th>size</th>\n",
       "    </tr>\n",
       "  </thead>\n",
       "  <tbody>\n",
       "    <tr>\n",
       "      <th>0</th>\n",
       "      <td>0</td>\n",
       "      <td>43</td>\n",
       "    </tr>\n",
       "    <tr>\n",
       "      <th>1</th>\n",
       "      <td>1</td>\n",
       "      <td>146</td>\n",
       "    </tr>\n",
       "  </tbody>\n",
       "</table>\n",
       "</div>"
      ],
      "text/plain": [
       "   Y  size\n",
       "0  0    43\n",
       "1  1   146"
      ]
     },
     "execution_count": 518,
     "metadata": {},
     "output_type": "execute_result"
    }
   ],
   "source": [
    "scenariodf3"
   ]
  },
  {
   "cell_type": "markdown",
   "metadata": {},
   "source": [
    "6. Compare the acceptance rates between those drivers who:\n",
    "\n",
    "- go to bars more than once a month, had passengers that were not a kid, and were not widowed *OR*\n",
    "- go to bars more than once a month and are under the age of 30 *OR*\n",
    "- go to cheap restaurants more than 4 times a month and income is less than 50K. \n",
    "\n"
   ]
  },
  {
   "cell_type": "code",
   "execution_count": 519,
   "metadata": {
    "vscode": {
     "languageId": "powershell"
    }
   },
   "outputs": [
    {
     "data": {
      "application/vnd.plotly.v1+json": {
       "config": {
        "plotlyServerURL": "https://plot.ly"
       },
       "data": [
        {
         "alignmentgroup": "True",
         "hovertemplate": "Y=%{marker.color}<br>size=%{y}<extra></extra>",
         "legendgroup": "",
         "marker": {
          "color": [
           0,
           1
          ],
          "coloraxis": "coloraxis",
          "pattern": {
           "shape": ""
          }
         },
         "name": "",
         "offsetgroup": "",
         "orientation": "v",
         "showlegend": false,
         "textposition": "auto",
         "type": "bar",
         "x": [
          0,
          1
         ],
         "xaxis": "x",
         "y": [
          43,
          146
         ],
         "yaxis": "y"
        }
       ],
       "layout": {
        "barmode": "relative",
        "coloraxis": {
         "colorbar": {
          "title": {
           "text": "Y"
          }
         },
         "colorscale": [
          [
           0,
           "#0d0887"
          ],
          [
           0.1111111111111111,
           "#46039f"
          ],
          [
           0.2222222222222222,
           "#7201a8"
          ],
          [
           0.3333333333333333,
           "#9c179e"
          ],
          [
           0.4444444444444444,
           "#bd3786"
          ],
          [
           0.5555555555555556,
           "#d8576b"
          ],
          [
           0.6666666666666666,
           "#ed7953"
          ],
          [
           0.7777777777777778,
           "#fb9f3a"
          ],
          [
           0.8888888888888888,
           "#fdca26"
          ],
          [
           1,
           "#f0f921"
          ]
         ]
        },
        "legend": {
         "tracegroupgap": 0
        },
        "margin": {
         "t": 60
        },
        "template": {
         "data": {
          "bar": [
           {
            "error_x": {
             "color": "#2a3f5f"
            },
            "error_y": {
             "color": "#2a3f5f"
            },
            "marker": {
             "line": {
              "color": "#E5ECF6",
              "width": 0.5
             },
             "pattern": {
              "fillmode": "overlay",
              "size": 10,
              "solidity": 0.2
             }
            },
            "type": "bar"
           }
          ],
          "barpolar": [
           {
            "marker": {
             "line": {
              "color": "#E5ECF6",
              "width": 0.5
             },
             "pattern": {
              "fillmode": "overlay",
              "size": 10,
              "solidity": 0.2
             }
            },
            "type": "barpolar"
           }
          ],
          "carpet": [
           {
            "aaxis": {
             "endlinecolor": "#2a3f5f",
             "gridcolor": "white",
             "linecolor": "white",
             "minorgridcolor": "white",
             "startlinecolor": "#2a3f5f"
            },
            "baxis": {
             "endlinecolor": "#2a3f5f",
             "gridcolor": "white",
             "linecolor": "white",
             "minorgridcolor": "white",
             "startlinecolor": "#2a3f5f"
            },
            "type": "carpet"
           }
          ],
          "choropleth": [
           {
            "colorbar": {
             "outlinewidth": 0,
             "ticks": ""
            },
            "type": "choropleth"
           }
          ],
          "contour": [
           {
            "colorbar": {
             "outlinewidth": 0,
             "ticks": ""
            },
            "colorscale": [
             [
              0,
              "#0d0887"
             ],
             [
              0.1111111111111111,
              "#46039f"
             ],
             [
              0.2222222222222222,
              "#7201a8"
             ],
             [
              0.3333333333333333,
              "#9c179e"
             ],
             [
              0.4444444444444444,
              "#bd3786"
             ],
             [
              0.5555555555555556,
              "#d8576b"
             ],
             [
              0.6666666666666666,
              "#ed7953"
             ],
             [
              0.7777777777777778,
              "#fb9f3a"
             ],
             [
              0.8888888888888888,
              "#fdca26"
             ],
             [
              1,
              "#f0f921"
             ]
            ],
            "type": "contour"
           }
          ],
          "contourcarpet": [
           {
            "colorbar": {
             "outlinewidth": 0,
             "ticks": ""
            },
            "type": "contourcarpet"
           }
          ],
          "heatmap": [
           {
            "colorbar": {
             "outlinewidth": 0,
             "ticks": ""
            },
            "colorscale": [
             [
              0,
              "#0d0887"
             ],
             [
              0.1111111111111111,
              "#46039f"
             ],
             [
              0.2222222222222222,
              "#7201a8"
             ],
             [
              0.3333333333333333,
              "#9c179e"
             ],
             [
              0.4444444444444444,
              "#bd3786"
             ],
             [
              0.5555555555555556,
              "#d8576b"
             ],
             [
              0.6666666666666666,
              "#ed7953"
             ],
             [
              0.7777777777777778,
              "#fb9f3a"
             ],
             [
              0.8888888888888888,
              "#fdca26"
             ],
             [
              1,
              "#f0f921"
             ]
            ],
            "type": "heatmap"
           }
          ],
          "heatmapgl": [
           {
            "colorbar": {
             "outlinewidth": 0,
             "ticks": ""
            },
            "colorscale": [
             [
              0,
              "#0d0887"
             ],
             [
              0.1111111111111111,
              "#46039f"
             ],
             [
              0.2222222222222222,
              "#7201a8"
             ],
             [
              0.3333333333333333,
              "#9c179e"
             ],
             [
              0.4444444444444444,
              "#bd3786"
             ],
             [
              0.5555555555555556,
              "#d8576b"
             ],
             [
              0.6666666666666666,
              "#ed7953"
             ],
             [
              0.7777777777777778,
              "#fb9f3a"
             ],
             [
              0.8888888888888888,
              "#fdca26"
             ],
             [
              1,
              "#f0f921"
             ]
            ],
            "type": "heatmapgl"
           }
          ],
          "histogram": [
           {
            "marker": {
             "pattern": {
              "fillmode": "overlay",
              "size": 10,
              "solidity": 0.2
             }
            },
            "type": "histogram"
           }
          ],
          "histogram2d": [
           {
            "colorbar": {
             "outlinewidth": 0,
             "ticks": ""
            },
            "colorscale": [
             [
              0,
              "#0d0887"
             ],
             [
              0.1111111111111111,
              "#46039f"
             ],
             [
              0.2222222222222222,
              "#7201a8"
             ],
             [
              0.3333333333333333,
              "#9c179e"
             ],
             [
              0.4444444444444444,
              "#bd3786"
             ],
             [
              0.5555555555555556,
              "#d8576b"
             ],
             [
              0.6666666666666666,
              "#ed7953"
             ],
             [
              0.7777777777777778,
              "#fb9f3a"
             ],
             [
              0.8888888888888888,
              "#fdca26"
             ],
             [
              1,
              "#f0f921"
             ]
            ],
            "type": "histogram2d"
           }
          ],
          "histogram2dcontour": [
           {
            "colorbar": {
             "outlinewidth": 0,
             "ticks": ""
            },
            "colorscale": [
             [
              0,
              "#0d0887"
             ],
             [
              0.1111111111111111,
              "#46039f"
             ],
             [
              0.2222222222222222,
              "#7201a8"
             ],
             [
              0.3333333333333333,
              "#9c179e"
             ],
             [
              0.4444444444444444,
              "#bd3786"
             ],
             [
              0.5555555555555556,
              "#d8576b"
             ],
             [
              0.6666666666666666,
              "#ed7953"
             ],
             [
              0.7777777777777778,
              "#fb9f3a"
             ],
             [
              0.8888888888888888,
              "#fdca26"
             ],
             [
              1,
              "#f0f921"
             ]
            ],
            "type": "histogram2dcontour"
           }
          ],
          "mesh3d": [
           {
            "colorbar": {
             "outlinewidth": 0,
             "ticks": ""
            },
            "type": "mesh3d"
           }
          ],
          "parcoords": [
           {
            "line": {
             "colorbar": {
              "outlinewidth": 0,
              "ticks": ""
             }
            },
            "type": "parcoords"
           }
          ],
          "pie": [
           {
            "automargin": true,
            "type": "pie"
           }
          ],
          "scatter": [
           {
            "fillpattern": {
             "fillmode": "overlay",
             "size": 10,
             "solidity": 0.2
            },
            "type": "scatter"
           }
          ],
          "scatter3d": [
           {
            "line": {
             "colorbar": {
              "outlinewidth": 0,
              "ticks": ""
             }
            },
            "marker": {
             "colorbar": {
              "outlinewidth": 0,
              "ticks": ""
             }
            },
            "type": "scatter3d"
           }
          ],
          "scattercarpet": [
           {
            "marker": {
             "colorbar": {
              "outlinewidth": 0,
              "ticks": ""
             }
            },
            "type": "scattercarpet"
           }
          ],
          "scattergeo": [
           {
            "marker": {
             "colorbar": {
              "outlinewidth": 0,
              "ticks": ""
             }
            },
            "type": "scattergeo"
           }
          ],
          "scattergl": [
           {
            "marker": {
             "colorbar": {
              "outlinewidth": 0,
              "ticks": ""
             }
            },
            "type": "scattergl"
           }
          ],
          "scattermapbox": [
           {
            "marker": {
             "colorbar": {
              "outlinewidth": 0,
              "ticks": ""
             }
            },
            "type": "scattermapbox"
           }
          ],
          "scatterpolar": [
           {
            "marker": {
             "colorbar": {
              "outlinewidth": 0,
              "ticks": ""
             }
            },
            "type": "scatterpolar"
           }
          ],
          "scatterpolargl": [
           {
            "marker": {
             "colorbar": {
              "outlinewidth": 0,
              "ticks": ""
             }
            },
            "type": "scatterpolargl"
           }
          ],
          "scatterternary": [
           {
            "marker": {
             "colorbar": {
              "outlinewidth": 0,
              "ticks": ""
             }
            },
            "type": "scatterternary"
           }
          ],
          "surface": [
           {
            "colorbar": {
             "outlinewidth": 0,
             "ticks": ""
            },
            "colorscale": [
             [
              0,
              "#0d0887"
             ],
             [
              0.1111111111111111,
              "#46039f"
             ],
             [
              0.2222222222222222,
              "#7201a8"
             ],
             [
              0.3333333333333333,
              "#9c179e"
             ],
             [
              0.4444444444444444,
              "#bd3786"
             ],
             [
              0.5555555555555556,
              "#d8576b"
             ],
             [
              0.6666666666666666,
              "#ed7953"
             ],
             [
              0.7777777777777778,
              "#fb9f3a"
             ],
             [
              0.8888888888888888,
              "#fdca26"
             ],
             [
              1,
              "#f0f921"
             ]
            ],
            "type": "surface"
           }
          ],
          "table": [
           {
            "cells": {
             "fill": {
              "color": "#EBF0F8"
             },
             "line": {
              "color": "white"
             }
            },
            "header": {
             "fill": {
              "color": "#C8D4E3"
             },
             "line": {
              "color": "white"
             }
            },
            "type": "table"
           }
          ]
         },
         "layout": {
          "annotationdefaults": {
           "arrowcolor": "#2a3f5f",
           "arrowhead": 0,
           "arrowwidth": 1
          },
          "autotypenumbers": "strict",
          "coloraxis": {
           "colorbar": {
            "outlinewidth": 0,
            "ticks": ""
           }
          },
          "colorscale": {
           "diverging": [
            [
             0,
             "#8e0152"
            ],
            [
             0.1,
             "#c51b7d"
            ],
            [
             0.2,
             "#de77ae"
            ],
            [
             0.3,
             "#f1b6da"
            ],
            [
             0.4,
             "#fde0ef"
            ],
            [
             0.5,
             "#f7f7f7"
            ],
            [
             0.6,
             "#e6f5d0"
            ],
            [
             0.7,
             "#b8e186"
            ],
            [
             0.8,
             "#7fbc41"
            ],
            [
             0.9,
             "#4d9221"
            ],
            [
             1,
             "#276419"
            ]
           ],
           "sequential": [
            [
             0,
             "#0d0887"
            ],
            [
             0.1111111111111111,
             "#46039f"
            ],
            [
             0.2222222222222222,
             "#7201a8"
            ],
            [
             0.3333333333333333,
             "#9c179e"
            ],
            [
             0.4444444444444444,
             "#bd3786"
            ],
            [
             0.5555555555555556,
             "#d8576b"
            ],
            [
             0.6666666666666666,
             "#ed7953"
            ],
            [
             0.7777777777777778,
             "#fb9f3a"
            ],
            [
             0.8888888888888888,
             "#fdca26"
            ],
            [
             1,
             "#f0f921"
            ]
           ],
           "sequentialminus": [
            [
             0,
             "#0d0887"
            ],
            [
             0.1111111111111111,
             "#46039f"
            ],
            [
             0.2222222222222222,
             "#7201a8"
            ],
            [
             0.3333333333333333,
             "#9c179e"
            ],
            [
             0.4444444444444444,
             "#bd3786"
            ],
            [
             0.5555555555555556,
             "#d8576b"
            ],
            [
             0.6666666666666666,
             "#ed7953"
            ],
            [
             0.7777777777777778,
             "#fb9f3a"
            ],
            [
             0.8888888888888888,
             "#fdca26"
            ],
            [
             1,
             "#f0f921"
            ]
           ]
          },
          "colorway": [
           "#636efa",
           "#EF553B",
           "#00cc96",
           "#ab63fa",
           "#FFA15A",
           "#19d3f3",
           "#FF6692",
           "#B6E880",
           "#FF97FF",
           "#FECB52"
          ],
          "font": {
           "color": "#2a3f5f"
          },
          "geo": {
           "bgcolor": "white",
           "lakecolor": "white",
           "landcolor": "#E5ECF6",
           "showlakes": true,
           "showland": true,
           "subunitcolor": "white"
          },
          "hoverlabel": {
           "align": "left"
          },
          "hovermode": "closest",
          "mapbox": {
           "style": "light"
          },
          "paper_bgcolor": "white",
          "plot_bgcolor": "#E5ECF6",
          "polar": {
           "angularaxis": {
            "gridcolor": "white",
            "linecolor": "white",
            "ticks": ""
           },
           "bgcolor": "#E5ECF6",
           "radialaxis": {
            "gridcolor": "white",
            "linecolor": "white",
            "ticks": ""
           }
          },
          "scene": {
           "xaxis": {
            "backgroundcolor": "#E5ECF6",
            "gridcolor": "white",
            "gridwidth": 2,
            "linecolor": "white",
            "showbackground": true,
            "ticks": "",
            "zerolinecolor": "white"
           },
           "yaxis": {
            "backgroundcolor": "#E5ECF6",
            "gridcolor": "white",
            "gridwidth": 2,
            "linecolor": "white",
            "showbackground": true,
            "ticks": "",
            "zerolinecolor": "white"
           },
           "zaxis": {
            "backgroundcolor": "#E5ECF6",
            "gridcolor": "white",
            "gridwidth": 2,
            "linecolor": "white",
            "showbackground": true,
            "ticks": "",
            "zerolinecolor": "white"
           }
          },
          "shapedefaults": {
           "line": {
            "color": "#2a3f5f"
           }
          },
          "ternary": {
           "aaxis": {
            "gridcolor": "white",
            "linecolor": "white",
            "ticks": ""
           },
           "baxis": {
            "gridcolor": "white",
            "linecolor": "white",
            "ticks": ""
           },
           "bgcolor": "#E5ECF6",
           "caxis": {
            "gridcolor": "white",
            "linecolor": "white",
            "ticks": ""
           }
          },
          "title": {
           "x": 0.05
          },
          "xaxis": {
           "automargin": true,
           "gridcolor": "white",
           "linecolor": "white",
           "ticks": "",
           "title": {
            "standoff": 15
           },
           "zerolinecolor": "white",
           "zerolinewidth": 2
          },
          "yaxis": {
           "automargin": true,
           "gridcolor": "white",
           "linecolor": "white",
           "ticks": "",
           "title": {
            "standoff": 15
           },
           "zerolinecolor": "white",
           "zerolinewidth": 2
          }
         }
        },
        "xaxis": {
         "anchor": "y",
         "domain": [
          0,
          1
         ],
         "title": {
          "text": "Y"
         }
        },
        "yaxis": {
         "anchor": "x",
         "domain": [
          0,
          1
         ],
         "title": {
          "text": "size"
         }
        }
       }
      }
     },
     "metadata": {},
     "output_type": "display_data"
    }
   ],
   "source": [
    "# go to bars more than once a month, had passengers that were not a kid, and were not widowed\n",
    "#coupon['Bar'] = coupon['Bar'].astype(int)\n",
    "scenariodf4 = barcoupon.query(\"Bar > 1\").query(\"passanger != 'Kid(s)'\").query(\"maritalStatus != 'Widowed'\")\n",
    "\n",
    "scenariodf4 = scenariodf4.groupby('Y').size().reset_index(name='size')\n",
    "\n",
    "fig = px.bar(scenariodf4, x='Y', y='size',color='Y')\n",
    "fig.show()\n"
   ]
  },
  {
   "cell_type": "code",
   "execution_count": 520,
   "metadata": {
    "vscode": {
     "languageId": "powershell"
    }
   },
   "outputs": [],
   "source": [
    "# save image\n",
    "fig.write_image(\"images/scenariodf4.png\")"
   ]
  },
  {
   "cell_type": "code",
   "execution_count": 521,
   "metadata": {
    "vscode": {
     "languageId": "powershell"
    }
   },
   "outputs": [
    {
     "data": {
      "text/html": [
       "<div>\n",
       "<style scoped>\n",
       "    .dataframe tbody tr th:only-of-type {\n",
       "        vertical-align: middle;\n",
       "    }\n",
       "\n",
       "    .dataframe tbody tr th {\n",
       "        vertical-align: top;\n",
       "    }\n",
       "\n",
       "    .dataframe thead th {\n",
       "        text-align: right;\n",
       "    }\n",
       "</style>\n",
       "<table border=\"1\" class=\"dataframe\">\n",
       "  <thead>\n",
       "    <tr style=\"text-align: right;\">\n",
       "      <th></th>\n",
       "      <th>Y</th>\n",
       "      <th>size</th>\n",
       "    </tr>\n",
       "  </thead>\n",
       "  <tbody>\n",
       "    <tr>\n",
       "      <th>0</th>\n",
       "      <td>0</td>\n",
       "      <td>43</td>\n",
       "    </tr>\n",
       "    <tr>\n",
       "      <th>1</th>\n",
       "      <td>1</td>\n",
       "      <td>146</td>\n",
       "    </tr>\n",
       "  </tbody>\n",
       "</table>\n",
       "</div>"
      ],
      "text/plain": [
       "   Y  size\n",
       "0  0    43\n",
       "1  1   146"
      ]
     },
     "execution_count": 521,
     "metadata": {},
     "output_type": "execute_result"
    }
   ],
   "source": [
    "scenariodf4"
   ]
  },
  {
   "cell_type": "code",
   "execution_count": 522,
   "metadata": {
    "vscode": {
     "languageId": "powershell"
    }
   },
   "outputs": [
    {
     "data": {
      "text/plain": [
       "Y\n",
       "0    1170\n",
       "1     810\n",
       "dtype: int64"
      ]
     },
     "execution_count": 522,
     "metadata": {},
     "output_type": "execute_result"
    }
   ],
   "source": [
    "barcoupon.groupby('Y').size()"
   ]
  },
  {
   "cell_type": "code",
   "execution_count": 523,
   "metadata": {
    "vscode": {
     "languageId": "powershell"
    }
   },
   "outputs": [
    {
     "data": {
      "text/plain": [
       "array([ 37500,  62500,  12500,  75000,  50000,  25000, 100001,  87500,\n",
       "        12499])"
      ]
     },
     "execution_count": 523,
     "metadata": {},
     "output_type": "execute_result"
    }
   ],
   "source": [
    "# tbd\n",
    "barcoupon.age.unique()\n",
    "barcoupon.income.unique()"
   ]
  },
  {
   "cell_type": "code",
   "execution_count": 524,
   "metadata": {
    "vscode": {
     "languageId": "powershell"
    }
   },
   "outputs": [
    {
     "data": {
      "text/plain": [
       "array([4, 1, 0, 8])"
      ]
     },
     "execution_count": 524,
     "metadata": {},
     "output_type": "execute_result"
    }
   ],
   "source": [
    "# tbd\n",
    "barcoupon.RestaurantLessThan20.unique()"
   ]
  },
  {
   "cell_type": "code",
   "execution_count": 525,
   "metadata": {
    "vscode": {
     "languageId": "powershell"
    }
   },
   "outputs": [
    {
     "data": {
      "application/vnd.plotly.v1+json": {
       "config": {
        "plotlyServerURL": "https://plot.ly"
       },
       "data": [
        {
         "alignmentgroup": "True",
         "hovertemplate": "Y=%{marker.color}<br>size=%{y}<extra></extra>",
         "legendgroup": "",
         "marker": {
          "color": [
           0,
           1
          ],
          "coloraxis": "coloraxis",
          "pattern": {
           "shape": ""
          }
         },
         "name": "",
         "offsetgroup": "",
         "orientation": "v",
         "showlegend": false,
         "textposition": "auto",
         "type": "bar",
         "x": [
          0,
          1
         ],
         "xaxis": "x",
         "y": [
          43,
          146
         ],
         "yaxis": "y"
        }
       ],
       "layout": {
        "barmode": "relative",
        "coloraxis": {
         "colorbar": {
          "title": {
           "text": "Y"
          }
         },
         "colorscale": [
          [
           0,
           "#0d0887"
          ],
          [
           0.1111111111111111,
           "#46039f"
          ],
          [
           0.2222222222222222,
           "#7201a8"
          ],
          [
           0.3333333333333333,
           "#9c179e"
          ],
          [
           0.4444444444444444,
           "#bd3786"
          ],
          [
           0.5555555555555556,
           "#d8576b"
          ],
          [
           0.6666666666666666,
           "#ed7953"
          ],
          [
           0.7777777777777778,
           "#fb9f3a"
          ],
          [
           0.8888888888888888,
           "#fdca26"
          ],
          [
           1,
           "#f0f921"
          ]
         ]
        },
        "legend": {
         "tracegroupgap": 0
        },
        "margin": {
         "t": 60
        },
        "template": {
         "data": {
          "bar": [
           {
            "error_x": {
             "color": "#2a3f5f"
            },
            "error_y": {
             "color": "#2a3f5f"
            },
            "marker": {
             "line": {
              "color": "#E5ECF6",
              "width": 0.5
             },
             "pattern": {
              "fillmode": "overlay",
              "size": 10,
              "solidity": 0.2
             }
            },
            "type": "bar"
           }
          ],
          "barpolar": [
           {
            "marker": {
             "line": {
              "color": "#E5ECF6",
              "width": 0.5
             },
             "pattern": {
              "fillmode": "overlay",
              "size": 10,
              "solidity": 0.2
             }
            },
            "type": "barpolar"
           }
          ],
          "carpet": [
           {
            "aaxis": {
             "endlinecolor": "#2a3f5f",
             "gridcolor": "white",
             "linecolor": "white",
             "minorgridcolor": "white",
             "startlinecolor": "#2a3f5f"
            },
            "baxis": {
             "endlinecolor": "#2a3f5f",
             "gridcolor": "white",
             "linecolor": "white",
             "minorgridcolor": "white",
             "startlinecolor": "#2a3f5f"
            },
            "type": "carpet"
           }
          ],
          "choropleth": [
           {
            "colorbar": {
             "outlinewidth": 0,
             "ticks": ""
            },
            "type": "choropleth"
           }
          ],
          "contour": [
           {
            "colorbar": {
             "outlinewidth": 0,
             "ticks": ""
            },
            "colorscale": [
             [
              0,
              "#0d0887"
             ],
             [
              0.1111111111111111,
              "#46039f"
             ],
             [
              0.2222222222222222,
              "#7201a8"
             ],
             [
              0.3333333333333333,
              "#9c179e"
             ],
             [
              0.4444444444444444,
              "#bd3786"
             ],
             [
              0.5555555555555556,
              "#d8576b"
             ],
             [
              0.6666666666666666,
              "#ed7953"
             ],
             [
              0.7777777777777778,
              "#fb9f3a"
             ],
             [
              0.8888888888888888,
              "#fdca26"
             ],
             [
              1,
              "#f0f921"
             ]
            ],
            "type": "contour"
           }
          ],
          "contourcarpet": [
           {
            "colorbar": {
             "outlinewidth": 0,
             "ticks": ""
            },
            "type": "contourcarpet"
           }
          ],
          "heatmap": [
           {
            "colorbar": {
             "outlinewidth": 0,
             "ticks": ""
            },
            "colorscale": [
             [
              0,
              "#0d0887"
             ],
             [
              0.1111111111111111,
              "#46039f"
             ],
             [
              0.2222222222222222,
              "#7201a8"
             ],
             [
              0.3333333333333333,
              "#9c179e"
             ],
             [
              0.4444444444444444,
              "#bd3786"
             ],
             [
              0.5555555555555556,
              "#d8576b"
             ],
             [
              0.6666666666666666,
              "#ed7953"
             ],
             [
              0.7777777777777778,
              "#fb9f3a"
             ],
             [
              0.8888888888888888,
              "#fdca26"
             ],
             [
              1,
              "#f0f921"
             ]
            ],
            "type": "heatmap"
           }
          ],
          "heatmapgl": [
           {
            "colorbar": {
             "outlinewidth": 0,
             "ticks": ""
            },
            "colorscale": [
             [
              0,
              "#0d0887"
             ],
             [
              0.1111111111111111,
              "#46039f"
             ],
             [
              0.2222222222222222,
              "#7201a8"
             ],
             [
              0.3333333333333333,
              "#9c179e"
             ],
             [
              0.4444444444444444,
              "#bd3786"
             ],
             [
              0.5555555555555556,
              "#d8576b"
             ],
             [
              0.6666666666666666,
              "#ed7953"
             ],
             [
              0.7777777777777778,
              "#fb9f3a"
             ],
             [
              0.8888888888888888,
              "#fdca26"
             ],
             [
              1,
              "#f0f921"
             ]
            ],
            "type": "heatmapgl"
           }
          ],
          "histogram": [
           {
            "marker": {
             "pattern": {
              "fillmode": "overlay",
              "size": 10,
              "solidity": 0.2
             }
            },
            "type": "histogram"
           }
          ],
          "histogram2d": [
           {
            "colorbar": {
             "outlinewidth": 0,
             "ticks": ""
            },
            "colorscale": [
             [
              0,
              "#0d0887"
             ],
             [
              0.1111111111111111,
              "#46039f"
             ],
             [
              0.2222222222222222,
              "#7201a8"
             ],
             [
              0.3333333333333333,
              "#9c179e"
             ],
             [
              0.4444444444444444,
              "#bd3786"
             ],
             [
              0.5555555555555556,
              "#d8576b"
             ],
             [
              0.6666666666666666,
              "#ed7953"
             ],
             [
              0.7777777777777778,
              "#fb9f3a"
             ],
             [
              0.8888888888888888,
              "#fdca26"
             ],
             [
              1,
              "#f0f921"
             ]
            ],
            "type": "histogram2d"
           }
          ],
          "histogram2dcontour": [
           {
            "colorbar": {
             "outlinewidth": 0,
             "ticks": ""
            },
            "colorscale": [
             [
              0,
              "#0d0887"
             ],
             [
              0.1111111111111111,
              "#46039f"
             ],
             [
              0.2222222222222222,
              "#7201a8"
             ],
             [
              0.3333333333333333,
              "#9c179e"
             ],
             [
              0.4444444444444444,
              "#bd3786"
             ],
             [
              0.5555555555555556,
              "#d8576b"
             ],
             [
              0.6666666666666666,
              "#ed7953"
             ],
             [
              0.7777777777777778,
              "#fb9f3a"
             ],
             [
              0.8888888888888888,
              "#fdca26"
             ],
             [
              1,
              "#f0f921"
             ]
            ],
            "type": "histogram2dcontour"
           }
          ],
          "mesh3d": [
           {
            "colorbar": {
             "outlinewidth": 0,
             "ticks": ""
            },
            "type": "mesh3d"
           }
          ],
          "parcoords": [
           {
            "line": {
             "colorbar": {
              "outlinewidth": 0,
              "ticks": ""
             }
            },
            "type": "parcoords"
           }
          ],
          "pie": [
           {
            "automargin": true,
            "type": "pie"
           }
          ],
          "scatter": [
           {
            "fillpattern": {
             "fillmode": "overlay",
             "size": 10,
             "solidity": 0.2
            },
            "type": "scatter"
           }
          ],
          "scatter3d": [
           {
            "line": {
             "colorbar": {
              "outlinewidth": 0,
              "ticks": ""
             }
            },
            "marker": {
             "colorbar": {
              "outlinewidth": 0,
              "ticks": ""
             }
            },
            "type": "scatter3d"
           }
          ],
          "scattercarpet": [
           {
            "marker": {
             "colorbar": {
              "outlinewidth": 0,
              "ticks": ""
             }
            },
            "type": "scattercarpet"
           }
          ],
          "scattergeo": [
           {
            "marker": {
             "colorbar": {
              "outlinewidth": 0,
              "ticks": ""
             }
            },
            "type": "scattergeo"
           }
          ],
          "scattergl": [
           {
            "marker": {
             "colorbar": {
              "outlinewidth": 0,
              "ticks": ""
             }
            },
            "type": "scattergl"
           }
          ],
          "scattermapbox": [
           {
            "marker": {
             "colorbar": {
              "outlinewidth": 0,
              "ticks": ""
             }
            },
            "type": "scattermapbox"
           }
          ],
          "scatterpolar": [
           {
            "marker": {
             "colorbar": {
              "outlinewidth": 0,
              "ticks": ""
             }
            },
            "type": "scatterpolar"
           }
          ],
          "scatterpolargl": [
           {
            "marker": {
             "colorbar": {
              "outlinewidth": 0,
              "ticks": ""
             }
            },
            "type": "scatterpolargl"
           }
          ],
          "scatterternary": [
           {
            "marker": {
             "colorbar": {
              "outlinewidth": 0,
              "ticks": ""
             }
            },
            "type": "scatterternary"
           }
          ],
          "surface": [
           {
            "colorbar": {
             "outlinewidth": 0,
             "ticks": ""
            },
            "colorscale": [
             [
              0,
              "#0d0887"
             ],
             [
              0.1111111111111111,
              "#46039f"
             ],
             [
              0.2222222222222222,
              "#7201a8"
             ],
             [
              0.3333333333333333,
              "#9c179e"
             ],
             [
              0.4444444444444444,
              "#bd3786"
             ],
             [
              0.5555555555555556,
              "#d8576b"
             ],
             [
              0.6666666666666666,
              "#ed7953"
             ],
             [
              0.7777777777777778,
              "#fb9f3a"
             ],
             [
              0.8888888888888888,
              "#fdca26"
             ],
             [
              1,
              "#f0f921"
             ]
            ],
            "type": "surface"
           }
          ],
          "table": [
           {
            "cells": {
             "fill": {
              "color": "#EBF0F8"
             },
             "line": {
              "color": "white"
             }
            },
            "header": {
             "fill": {
              "color": "#C8D4E3"
             },
             "line": {
              "color": "white"
             }
            },
            "type": "table"
           }
          ]
         },
         "layout": {
          "annotationdefaults": {
           "arrowcolor": "#2a3f5f",
           "arrowhead": 0,
           "arrowwidth": 1
          },
          "autotypenumbers": "strict",
          "coloraxis": {
           "colorbar": {
            "outlinewidth": 0,
            "ticks": ""
           }
          },
          "colorscale": {
           "diverging": [
            [
             0,
             "#8e0152"
            ],
            [
             0.1,
             "#c51b7d"
            ],
            [
             0.2,
             "#de77ae"
            ],
            [
             0.3,
             "#f1b6da"
            ],
            [
             0.4,
             "#fde0ef"
            ],
            [
             0.5,
             "#f7f7f7"
            ],
            [
             0.6,
             "#e6f5d0"
            ],
            [
             0.7,
             "#b8e186"
            ],
            [
             0.8,
             "#7fbc41"
            ],
            [
             0.9,
             "#4d9221"
            ],
            [
             1,
             "#276419"
            ]
           ],
           "sequential": [
            [
             0,
             "#0d0887"
            ],
            [
             0.1111111111111111,
             "#46039f"
            ],
            [
             0.2222222222222222,
             "#7201a8"
            ],
            [
             0.3333333333333333,
             "#9c179e"
            ],
            [
             0.4444444444444444,
             "#bd3786"
            ],
            [
             0.5555555555555556,
             "#d8576b"
            ],
            [
             0.6666666666666666,
             "#ed7953"
            ],
            [
             0.7777777777777778,
             "#fb9f3a"
            ],
            [
             0.8888888888888888,
             "#fdca26"
            ],
            [
             1,
             "#f0f921"
            ]
           ],
           "sequentialminus": [
            [
             0,
             "#0d0887"
            ],
            [
             0.1111111111111111,
             "#46039f"
            ],
            [
             0.2222222222222222,
             "#7201a8"
            ],
            [
             0.3333333333333333,
             "#9c179e"
            ],
            [
             0.4444444444444444,
             "#bd3786"
            ],
            [
             0.5555555555555556,
             "#d8576b"
            ],
            [
             0.6666666666666666,
             "#ed7953"
            ],
            [
             0.7777777777777778,
             "#fb9f3a"
            ],
            [
             0.8888888888888888,
             "#fdca26"
            ],
            [
             1,
             "#f0f921"
            ]
           ]
          },
          "colorway": [
           "#636efa",
           "#EF553B",
           "#00cc96",
           "#ab63fa",
           "#FFA15A",
           "#19d3f3",
           "#FF6692",
           "#B6E880",
           "#FF97FF",
           "#FECB52"
          ],
          "font": {
           "color": "#2a3f5f"
          },
          "geo": {
           "bgcolor": "white",
           "lakecolor": "white",
           "landcolor": "#E5ECF6",
           "showlakes": true,
           "showland": true,
           "subunitcolor": "white"
          },
          "hoverlabel": {
           "align": "left"
          },
          "hovermode": "closest",
          "mapbox": {
           "style": "light"
          },
          "paper_bgcolor": "white",
          "plot_bgcolor": "#E5ECF6",
          "polar": {
           "angularaxis": {
            "gridcolor": "white",
            "linecolor": "white",
            "ticks": ""
           },
           "bgcolor": "#E5ECF6",
           "radialaxis": {
            "gridcolor": "white",
            "linecolor": "white",
            "ticks": ""
           }
          },
          "scene": {
           "xaxis": {
            "backgroundcolor": "#E5ECF6",
            "gridcolor": "white",
            "gridwidth": 2,
            "linecolor": "white",
            "showbackground": true,
            "ticks": "",
            "zerolinecolor": "white"
           },
           "yaxis": {
            "backgroundcolor": "#E5ECF6",
            "gridcolor": "white",
            "gridwidth": 2,
            "linecolor": "white",
            "showbackground": true,
            "ticks": "",
            "zerolinecolor": "white"
           },
           "zaxis": {
            "backgroundcolor": "#E5ECF6",
            "gridcolor": "white",
            "gridwidth": 2,
            "linecolor": "white",
            "showbackground": true,
            "ticks": "",
            "zerolinecolor": "white"
           }
          },
          "shapedefaults": {
           "line": {
            "color": "#2a3f5f"
           }
          },
          "ternary": {
           "aaxis": {
            "gridcolor": "white",
            "linecolor": "white",
            "ticks": ""
           },
           "baxis": {
            "gridcolor": "white",
            "linecolor": "white",
            "ticks": ""
           },
           "bgcolor": "#E5ECF6",
           "caxis": {
            "gridcolor": "white",
            "linecolor": "white",
            "ticks": ""
           }
          },
          "title": {
           "x": 0.05
          },
          "xaxis": {
           "automargin": true,
           "gridcolor": "white",
           "linecolor": "white",
           "ticks": "",
           "title": {
            "standoff": 15
           },
           "zerolinecolor": "white",
           "zerolinewidth": 2
          },
          "yaxis": {
           "automargin": true,
           "gridcolor": "white",
           "linecolor": "white",
           "ticks": "",
           "title": {
            "standoff": 15
           },
           "zerolinecolor": "white",
           "zerolinewidth": 2
          }
         }
        },
        "xaxis": {
         "anchor": "y",
         "domain": [
          0,
          1
         ],
         "title": {
          "text": "Y"
         }
        },
        "yaxis": {
         "anchor": "x",
         "domain": [
          0,
          1
         ],
         "title": {
          "text": "size"
         }
        }
       }
      }
     },
     "metadata": {},
     "output_type": "display_data"
    }
   ],
   "source": [
    "# go to bars more than once a month and are under the age of 30\n",
    "#coupon['Bar'] = coupon['Bar'].astype(int)\n",
    "#coupon['age'] = coupon['age'].astype(int)\n",
    "scenariodf5 = barcoupon.query(\"Bar > 1\").query(\"age < 30\")\n",
    "\n",
    "scenariodf5 = scenariodf5.groupby('Y').size().reset_index(name='size')\n",
    "\n",
    "fig = px.bar(scenariodf4, x='Y', y='size',color='Y')\n",
    "fig.show()"
   ]
  },
  {
   "cell_type": "code",
   "execution_count": 526,
   "metadata": {
    "vscode": {
     "languageId": "powershell"
    }
   },
   "outputs": [],
   "source": [
    "# save image\n",
    "fig.write_image(\"images/scenariodf5.png\")"
   ]
  },
  {
   "cell_type": "code",
   "execution_count": 527,
   "metadata": {
    "vscode": {
     "languageId": "powershell"
    }
   },
   "outputs": [
    {
     "data": {
      "text/html": [
       "<div>\n",
       "<style scoped>\n",
       "    .dataframe tbody tr th:only-of-type {\n",
       "        vertical-align: middle;\n",
       "    }\n",
       "\n",
       "    .dataframe tbody tr th {\n",
       "        vertical-align: top;\n",
       "    }\n",
       "\n",
       "    .dataframe thead th {\n",
       "        text-align: right;\n",
       "    }\n",
       "</style>\n",
       "<table border=\"1\" class=\"dataframe\">\n",
       "  <thead>\n",
       "    <tr style=\"text-align: right;\">\n",
       "      <th></th>\n",
       "      <th>Y</th>\n",
       "      <th>size</th>\n",
       "    </tr>\n",
       "  </thead>\n",
       "  <tbody>\n",
       "    <tr>\n",
       "      <th>0</th>\n",
       "      <td>0</td>\n",
       "      <td>26</td>\n",
       "    </tr>\n",
       "    <tr>\n",
       "      <th>1</th>\n",
       "      <td>1</td>\n",
       "      <td>108</td>\n",
       "    </tr>\n",
       "  </tbody>\n",
       "</table>\n",
       "</div>"
      ],
      "text/plain": [
       "   Y  size\n",
       "0  0    26\n",
       "1  1   108"
      ]
     },
     "execution_count": 527,
     "metadata": {},
     "output_type": "execute_result"
    }
   ],
   "source": [
    "scenariodf5"
   ]
  },
  {
   "cell_type": "code",
   "execution_count": 528,
   "metadata": {
    "vscode": {
     "languageId": "powershell"
    }
   },
   "outputs": [
    {
     "data": {
      "text/plain": [
       "array([ 37500,  62500,  12500,  75000,  50000,  25000, 100001,  87500,\n",
       "        12499])"
      ]
     },
     "execution_count": 528,
     "metadata": {},
     "output_type": "execute_result"
    }
   ],
   "source": [
    "# tbd\n",
    "barcoupon.income.unique()"
   ]
  },
  {
   "cell_type": "code",
   "execution_count": 531,
   "metadata": {
    "vscode": {
     "languageId": "powershell"
    }
   },
   "outputs": [
    {
     "data": {
      "application/vnd.plotly.v1+json": {
       "config": {
        "plotlyServerURL": "https://plot.ly"
       },
       "data": [
        {
         "alignmentgroup": "True",
         "hovertemplate": "Y=%{marker.color}<br>size=%{y}<extra></extra>",
         "legendgroup": "",
         "marker": {
          "color": [
           0,
           1
          ],
          "coloraxis": "coloraxis",
          "pattern": {
           "shape": ""
          }
         },
         "name": "",
         "offsetgroup": "",
         "orientation": "v",
         "showlegend": false,
         "textposition": "auto",
         "type": "bar",
         "x": [
          0,
          1
         ],
         "xaxis": "x",
         "y": [
          39,
          57
         ],
         "yaxis": "y"
        }
       ],
       "layout": {
        "barmode": "relative",
        "coloraxis": {
         "colorbar": {
          "title": {
           "text": "Y"
          }
         },
         "colorscale": [
          [
           0,
           "#0d0887"
          ],
          [
           0.1111111111111111,
           "#46039f"
          ],
          [
           0.2222222222222222,
           "#7201a8"
          ],
          [
           0.3333333333333333,
           "#9c179e"
          ],
          [
           0.4444444444444444,
           "#bd3786"
          ],
          [
           0.5555555555555556,
           "#d8576b"
          ],
          [
           0.6666666666666666,
           "#ed7953"
          ],
          [
           0.7777777777777778,
           "#fb9f3a"
          ],
          [
           0.8888888888888888,
           "#fdca26"
          ],
          [
           1,
           "#f0f921"
          ]
         ]
        },
        "legend": {
         "tracegroupgap": 0
        },
        "margin": {
         "t": 60
        },
        "template": {
         "data": {
          "bar": [
           {
            "error_x": {
             "color": "#2a3f5f"
            },
            "error_y": {
             "color": "#2a3f5f"
            },
            "marker": {
             "line": {
              "color": "#E5ECF6",
              "width": 0.5
             },
             "pattern": {
              "fillmode": "overlay",
              "size": 10,
              "solidity": 0.2
             }
            },
            "type": "bar"
           }
          ],
          "barpolar": [
           {
            "marker": {
             "line": {
              "color": "#E5ECF6",
              "width": 0.5
             },
             "pattern": {
              "fillmode": "overlay",
              "size": 10,
              "solidity": 0.2
             }
            },
            "type": "barpolar"
           }
          ],
          "carpet": [
           {
            "aaxis": {
             "endlinecolor": "#2a3f5f",
             "gridcolor": "white",
             "linecolor": "white",
             "minorgridcolor": "white",
             "startlinecolor": "#2a3f5f"
            },
            "baxis": {
             "endlinecolor": "#2a3f5f",
             "gridcolor": "white",
             "linecolor": "white",
             "minorgridcolor": "white",
             "startlinecolor": "#2a3f5f"
            },
            "type": "carpet"
           }
          ],
          "choropleth": [
           {
            "colorbar": {
             "outlinewidth": 0,
             "ticks": ""
            },
            "type": "choropleth"
           }
          ],
          "contour": [
           {
            "colorbar": {
             "outlinewidth": 0,
             "ticks": ""
            },
            "colorscale": [
             [
              0,
              "#0d0887"
             ],
             [
              0.1111111111111111,
              "#46039f"
             ],
             [
              0.2222222222222222,
              "#7201a8"
             ],
             [
              0.3333333333333333,
              "#9c179e"
             ],
             [
              0.4444444444444444,
              "#bd3786"
             ],
             [
              0.5555555555555556,
              "#d8576b"
             ],
             [
              0.6666666666666666,
              "#ed7953"
             ],
             [
              0.7777777777777778,
              "#fb9f3a"
             ],
             [
              0.8888888888888888,
              "#fdca26"
             ],
             [
              1,
              "#f0f921"
             ]
            ],
            "type": "contour"
           }
          ],
          "contourcarpet": [
           {
            "colorbar": {
             "outlinewidth": 0,
             "ticks": ""
            },
            "type": "contourcarpet"
           }
          ],
          "heatmap": [
           {
            "colorbar": {
             "outlinewidth": 0,
             "ticks": ""
            },
            "colorscale": [
             [
              0,
              "#0d0887"
             ],
             [
              0.1111111111111111,
              "#46039f"
             ],
             [
              0.2222222222222222,
              "#7201a8"
             ],
             [
              0.3333333333333333,
              "#9c179e"
             ],
             [
              0.4444444444444444,
              "#bd3786"
             ],
             [
              0.5555555555555556,
              "#d8576b"
             ],
             [
              0.6666666666666666,
              "#ed7953"
             ],
             [
              0.7777777777777778,
              "#fb9f3a"
             ],
             [
              0.8888888888888888,
              "#fdca26"
             ],
             [
              1,
              "#f0f921"
             ]
            ],
            "type": "heatmap"
           }
          ],
          "heatmapgl": [
           {
            "colorbar": {
             "outlinewidth": 0,
             "ticks": ""
            },
            "colorscale": [
             [
              0,
              "#0d0887"
             ],
             [
              0.1111111111111111,
              "#46039f"
             ],
             [
              0.2222222222222222,
              "#7201a8"
             ],
             [
              0.3333333333333333,
              "#9c179e"
             ],
             [
              0.4444444444444444,
              "#bd3786"
             ],
             [
              0.5555555555555556,
              "#d8576b"
             ],
             [
              0.6666666666666666,
              "#ed7953"
             ],
             [
              0.7777777777777778,
              "#fb9f3a"
             ],
             [
              0.8888888888888888,
              "#fdca26"
             ],
             [
              1,
              "#f0f921"
             ]
            ],
            "type": "heatmapgl"
           }
          ],
          "histogram": [
           {
            "marker": {
             "pattern": {
              "fillmode": "overlay",
              "size": 10,
              "solidity": 0.2
             }
            },
            "type": "histogram"
           }
          ],
          "histogram2d": [
           {
            "colorbar": {
             "outlinewidth": 0,
             "ticks": ""
            },
            "colorscale": [
             [
              0,
              "#0d0887"
             ],
             [
              0.1111111111111111,
              "#46039f"
             ],
             [
              0.2222222222222222,
              "#7201a8"
             ],
             [
              0.3333333333333333,
              "#9c179e"
             ],
             [
              0.4444444444444444,
              "#bd3786"
             ],
             [
              0.5555555555555556,
              "#d8576b"
             ],
             [
              0.6666666666666666,
              "#ed7953"
             ],
             [
              0.7777777777777778,
              "#fb9f3a"
             ],
             [
              0.8888888888888888,
              "#fdca26"
             ],
             [
              1,
              "#f0f921"
             ]
            ],
            "type": "histogram2d"
           }
          ],
          "histogram2dcontour": [
           {
            "colorbar": {
             "outlinewidth": 0,
             "ticks": ""
            },
            "colorscale": [
             [
              0,
              "#0d0887"
             ],
             [
              0.1111111111111111,
              "#46039f"
             ],
             [
              0.2222222222222222,
              "#7201a8"
             ],
             [
              0.3333333333333333,
              "#9c179e"
             ],
             [
              0.4444444444444444,
              "#bd3786"
             ],
             [
              0.5555555555555556,
              "#d8576b"
             ],
             [
              0.6666666666666666,
              "#ed7953"
             ],
             [
              0.7777777777777778,
              "#fb9f3a"
             ],
             [
              0.8888888888888888,
              "#fdca26"
             ],
             [
              1,
              "#f0f921"
             ]
            ],
            "type": "histogram2dcontour"
           }
          ],
          "mesh3d": [
           {
            "colorbar": {
             "outlinewidth": 0,
             "ticks": ""
            },
            "type": "mesh3d"
           }
          ],
          "parcoords": [
           {
            "line": {
             "colorbar": {
              "outlinewidth": 0,
              "ticks": ""
             }
            },
            "type": "parcoords"
           }
          ],
          "pie": [
           {
            "automargin": true,
            "type": "pie"
           }
          ],
          "scatter": [
           {
            "fillpattern": {
             "fillmode": "overlay",
             "size": 10,
             "solidity": 0.2
            },
            "type": "scatter"
           }
          ],
          "scatter3d": [
           {
            "line": {
             "colorbar": {
              "outlinewidth": 0,
              "ticks": ""
             }
            },
            "marker": {
             "colorbar": {
              "outlinewidth": 0,
              "ticks": ""
             }
            },
            "type": "scatter3d"
           }
          ],
          "scattercarpet": [
           {
            "marker": {
             "colorbar": {
              "outlinewidth": 0,
              "ticks": ""
             }
            },
            "type": "scattercarpet"
           }
          ],
          "scattergeo": [
           {
            "marker": {
             "colorbar": {
              "outlinewidth": 0,
              "ticks": ""
             }
            },
            "type": "scattergeo"
           }
          ],
          "scattergl": [
           {
            "marker": {
             "colorbar": {
              "outlinewidth": 0,
              "ticks": ""
             }
            },
            "type": "scattergl"
           }
          ],
          "scattermapbox": [
           {
            "marker": {
             "colorbar": {
              "outlinewidth": 0,
              "ticks": ""
             }
            },
            "type": "scattermapbox"
           }
          ],
          "scatterpolar": [
           {
            "marker": {
             "colorbar": {
              "outlinewidth": 0,
              "ticks": ""
             }
            },
            "type": "scatterpolar"
           }
          ],
          "scatterpolargl": [
           {
            "marker": {
             "colorbar": {
              "outlinewidth": 0,
              "ticks": ""
             }
            },
            "type": "scatterpolargl"
           }
          ],
          "scatterternary": [
           {
            "marker": {
             "colorbar": {
              "outlinewidth": 0,
              "ticks": ""
             }
            },
            "type": "scatterternary"
           }
          ],
          "surface": [
           {
            "colorbar": {
             "outlinewidth": 0,
             "ticks": ""
            },
            "colorscale": [
             [
              0,
              "#0d0887"
             ],
             [
              0.1111111111111111,
              "#46039f"
             ],
             [
              0.2222222222222222,
              "#7201a8"
             ],
             [
              0.3333333333333333,
              "#9c179e"
             ],
             [
              0.4444444444444444,
              "#bd3786"
             ],
             [
              0.5555555555555556,
              "#d8576b"
             ],
             [
              0.6666666666666666,
              "#ed7953"
             ],
             [
              0.7777777777777778,
              "#fb9f3a"
             ],
             [
              0.8888888888888888,
              "#fdca26"
             ],
             [
              1,
              "#f0f921"
             ]
            ],
            "type": "surface"
           }
          ],
          "table": [
           {
            "cells": {
             "fill": {
              "color": "#EBF0F8"
             },
             "line": {
              "color": "white"
             }
            },
            "header": {
             "fill": {
              "color": "#C8D4E3"
             },
             "line": {
              "color": "white"
             }
            },
            "type": "table"
           }
          ]
         },
         "layout": {
          "annotationdefaults": {
           "arrowcolor": "#2a3f5f",
           "arrowhead": 0,
           "arrowwidth": 1
          },
          "autotypenumbers": "strict",
          "coloraxis": {
           "colorbar": {
            "outlinewidth": 0,
            "ticks": ""
           }
          },
          "colorscale": {
           "diverging": [
            [
             0,
             "#8e0152"
            ],
            [
             0.1,
             "#c51b7d"
            ],
            [
             0.2,
             "#de77ae"
            ],
            [
             0.3,
             "#f1b6da"
            ],
            [
             0.4,
             "#fde0ef"
            ],
            [
             0.5,
             "#f7f7f7"
            ],
            [
             0.6,
             "#e6f5d0"
            ],
            [
             0.7,
             "#b8e186"
            ],
            [
             0.8,
             "#7fbc41"
            ],
            [
             0.9,
             "#4d9221"
            ],
            [
             1,
             "#276419"
            ]
           ],
           "sequential": [
            [
             0,
             "#0d0887"
            ],
            [
             0.1111111111111111,
             "#46039f"
            ],
            [
             0.2222222222222222,
             "#7201a8"
            ],
            [
             0.3333333333333333,
             "#9c179e"
            ],
            [
             0.4444444444444444,
             "#bd3786"
            ],
            [
             0.5555555555555556,
             "#d8576b"
            ],
            [
             0.6666666666666666,
             "#ed7953"
            ],
            [
             0.7777777777777778,
             "#fb9f3a"
            ],
            [
             0.8888888888888888,
             "#fdca26"
            ],
            [
             1,
             "#f0f921"
            ]
           ],
           "sequentialminus": [
            [
             0,
             "#0d0887"
            ],
            [
             0.1111111111111111,
             "#46039f"
            ],
            [
             0.2222222222222222,
             "#7201a8"
            ],
            [
             0.3333333333333333,
             "#9c179e"
            ],
            [
             0.4444444444444444,
             "#bd3786"
            ],
            [
             0.5555555555555556,
             "#d8576b"
            ],
            [
             0.6666666666666666,
             "#ed7953"
            ],
            [
             0.7777777777777778,
             "#fb9f3a"
            ],
            [
             0.8888888888888888,
             "#fdca26"
            ],
            [
             1,
             "#f0f921"
            ]
           ]
          },
          "colorway": [
           "#636efa",
           "#EF553B",
           "#00cc96",
           "#ab63fa",
           "#FFA15A",
           "#19d3f3",
           "#FF6692",
           "#B6E880",
           "#FF97FF",
           "#FECB52"
          ],
          "font": {
           "color": "#2a3f5f"
          },
          "geo": {
           "bgcolor": "white",
           "lakecolor": "white",
           "landcolor": "#E5ECF6",
           "showlakes": true,
           "showland": true,
           "subunitcolor": "white"
          },
          "hoverlabel": {
           "align": "left"
          },
          "hovermode": "closest",
          "mapbox": {
           "style": "light"
          },
          "paper_bgcolor": "white",
          "plot_bgcolor": "#E5ECF6",
          "polar": {
           "angularaxis": {
            "gridcolor": "white",
            "linecolor": "white",
            "ticks": ""
           },
           "bgcolor": "#E5ECF6",
           "radialaxis": {
            "gridcolor": "white",
            "linecolor": "white",
            "ticks": ""
           }
          },
          "scene": {
           "xaxis": {
            "backgroundcolor": "#E5ECF6",
            "gridcolor": "white",
            "gridwidth": 2,
            "linecolor": "white",
            "showbackground": true,
            "ticks": "",
            "zerolinecolor": "white"
           },
           "yaxis": {
            "backgroundcolor": "#E5ECF6",
            "gridcolor": "white",
            "gridwidth": 2,
            "linecolor": "white",
            "showbackground": true,
            "ticks": "",
            "zerolinecolor": "white"
           },
           "zaxis": {
            "backgroundcolor": "#E5ECF6",
            "gridcolor": "white",
            "gridwidth": 2,
            "linecolor": "white",
            "showbackground": true,
            "ticks": "",
            "zerolinecolor": "white"
           }
          },
          "shapedefaults": {
           "line": {
            "color": "#2a3f5f"
           }
          },
          "ternary": {
           "aaxis": {
            "gridcolor": "white",
            "linecolor": "white",
            "ticks": ""
           },
           "baxis": {
            "gridcolor": "white",
            "linecolor": "white",
            "ticks": ""
           },
           "bgcolor": "#E5ECF6",
           "caxis": {
            "gridcolor": "white",
            "linecolor": "white",
            "ticks": ""
           }
          },
          "title": {
           "x": 0.05
          },
          "xaxis": {
           "automargin": true,
           "gridcolor": "white",
           "linecolor": "white",
           "ticks": "",
           "title": {
            "standoff": 15
           },
           "zerolinecolor": "white",
           "zerolinewidth": 2
          },
          "yaxis": {
           "automargin": true,
           "gridcolor": "white",
           "linecolor": "white",
           "ticks": "",
           "title": {
            "standoff": 15
           },
           "zerolinecolor": "white",
           "zerolinewidth": 2
          }
         }
        },
        "xaxis": {
         "anchor": "y",
         "domain": [
          0,
          1
         ],
         "title": {
          "text": "Y"
         }
        },
        "yaxis": {
         "anchor": "x",
         "domain": [
          0,
          1
         ],
         "title": {
          "text": "size"
         }
        }
       }
      }
     },
     "metadata": {},
     "output_type": "display_data"
    }
   ],
   "source": [
    "# go to cheap restaurants more than 4 times a month and income is less than 50K\n",
    "#barcoupon['RestaurantLessThan20'] = barcoupon['RestaurantLessThan20'].astype(int)\n",
    "#barcoupon['income'] = barcoupon['income'].astype(int)\n",
    "scenariodf6 = barcoupon.query(\"RestaurantLessThan20 > 4\").query(\"income < 50000\")\n",
    "\n",
    "scenariodf6 = scenariodf6.groupby('Y').size().reset_index(name='size')\n",
    "\n",
    "fig = px.bar(scenariodf6, x='Y', y='size',color='Y')\n",
    "fig.show()"
   ]
  },
  {
   "cell_type": "code",
   "execution_count": null,
   "metadata": {
    "vscode": {
     "languageId": "powershell"
    }
   },
   "outputs": [],
   "source": [
    "# save image\n",
    "fig.write_image(\"images/scenariodf6.png\")"
   ]
  },
  {
   "cell_type": "code",
   "execution_count": 532,
   "metadata": {
    "vscode": {
     "languageId": "powershell"
    }
   },
   "outputs": [
    {
     "data": {
      "text/html": [
       "<div>\n",
       "<style scoped>\n",
       "    .dataframe tbody tr th:only-of-type {\n",
       "        vertical-align: middle;\n",
       "    }\n",
       "\n",
       "    .dataframe tbody tr th {\n",
       "        vertical-align: top;\n",
       "    }\n",
       "\n",
       "    .dataframe thead th {\n",
       "        text-align: right;\n",
       "    }\n",
       "</style>\n",
       "<table border=\"1\" class=\"dataframe\">\n",
       "  <thead>\n",
       "    <tr style=\"text-align: right;\">\n",
       "      <th></th>\n",
       "      <th>Y</th>\n",
       "      <th>size</th>\n",
       "    </tr>\n",
       "  </thead>\n",
       "  <tbody>\n",
       "    <tr>\n",
       "      <th>0</th>\n",
       "      <td>0</td>\n",
       "      <td>39</td>\n",
       "    </tr>\n",
       "    <tr>\n",
       "      <th>1</th>\n",
       "      <td>1</td>\n",
       "      <td>57</td>\n",
       "    </tr>\n",
       "  </tbody>\n",
       "</table>\n",
       "</div>"
      ],
      "text/plain": [
       "   Y  size\n",
       "0  0    39\n",
       "1  1    57"
      ]
     },
     "execution_count": 532,
     "metadata": {},
     "output_type": "execute_result"
    }
   ],
   "source": [
    "scenariodf6"
   ]
  },
  {
   "cell_type": "markdown",
   "metadata": {},
   "source": [
    "7.  Based on these observations, what do you hypothesize about drivers who accepted the bar coupons?"
   ]
  },
  {
   "cell_type": "code",
   "execution_count": null,
   "metadata": {
    "vscode": {
     "languageId": "powershell"
    }
   },
   "outputs": [],
   "source": []
  },
  {
   "cell_type": "markdown",
   "metadata": {},
   "source": [
    "### Independent Investigation\n",
    "\n",
    "Using the bar coupon example as motivation, you are to explore one of the other coupon groups and try to determine the characteristics of passengers who accept the coupons.  "
   ]
  },
  {
   "cell_type": "code",
   "execution_count": null,
   "metadata": {
    "vscode": {
     "languageId": "powershell"
    }
   },
   "outputs": [],
   "source": []
  },
  {
   "cell_type": "code",
   "execution_count": null,
   "metadata": {
    "vscode": {
     "languageId": "powershell"
    }
   },
   "outputs": [],
   "source": []
  },
  {
   "cell_type": "code",
   "execution_count": null,
   "metadata": {
    "vscode": {
     "languageId": "powershell"
    }
   },
   "outputs": [],
   "source": []
  },
  {
   "cell_type": "code",
   "execution_count": null,
   "metadata": {
    "vscode": {
     "languageId": "powershell"
    }
   },
   "outputs": [],
   "source": []
  },
  {
   "cell_type": "code",
   "execution_count": null,
   "metadata": {
    "vscode": {
     "languageId": "powershell"
    }
   },
   "outputs": [],
   "source": []
  }
 ],
 "metadata": {
  "kernelspec": {
   "display_name": "aicourse",
   "language": "python",
   "name": "python3"
  },
  "language_info": {
   "codemirror_mode": {
    "name": "ipython",
    "version": 3
   },
   "file_extension": ".py",
   "mimetype": "text/x-python",
   "name": "python",
   "nbconvert_exporter": "python",
   "pygments_lexer": "ipython3",
   "version": "3.11.7"
  },
  "widgets": {
   "application/vnd.jupyter.widget-state+json": {
    "state": {},
    "version_major": 2,
    "version_minor": 0
   }
  }
 },
 "nbformat": 4,
 "nbformat_minor": 4
}
